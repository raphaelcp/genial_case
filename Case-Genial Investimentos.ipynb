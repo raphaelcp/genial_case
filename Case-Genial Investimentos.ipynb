{
 "cells": [
  {
   "cell_type": "code",
   "execution_count": 55,
   "metadata": {},
   "outputs": [
    {
     "data": {
      "text/html": [
       "<div>\n",
       "<style scoped>\n",
       "    .dataframe tbody tr th:only-of-type {\n",
       "        vertical-align: middle;\n",
       "    }\n",
       "\n",
       "    .dataframe tbody tr th {\n",
       "        vertical-align: top;\n",
       "    }\n",
       "\n",
       "    .dataframe thead th {\n",
       "        text-align: right;\n",
       "    }\n",
       "</style>\n",
       "<table border=\"1\" class=\"dataframe\">\n",
       "  <thead>\n",
       "    <tr style=\"text-align: right;\">\n",
       "      <th></th>\n",
       "      <th>date</th>\n",
       "      <th>day</th>\n",
       "      <th>period</th>\n",
       "      <th>nswprice</th>\n",
       "      <th>nswdemand</th>\n",
       "      <th>vicprice</th>\n",
       "      <th>vicdemand</th>\n",
       "      <th>transfer</th>\n",
       "      <th>class</th>\n",
       "      <th>target</th>\n",
       "    </tr>\n",
       "  </thead>\n",
       "  <tbody>\n",
       "    <tr>\n",
       "      <th>0</th>\n",
       "      <td>0.0000</td>\n",
       "      <td>2</td>\n",
       "      <td>0.000000</td>\n",
       "      <td>0.056443</td>\n",
       "      <td>0.439155</td>\n",
       "      <td>0.003467</td>\n",
       "      <td>0.422915</td>\n",
       "      <td>0.414912</td>\n",
       "      <td>UP</td>\n",
       "      <td>1</td>\n",
       "    </tr>\n",
       "    <tr>\n",
       "      <th>1</th>\n",
       "      <td>0.0000</td>\n",
       "      <td>2</td>\n",
       "      <td>0.021277</td>\n",
       "      <td>0.051699</td>\n",
       "      <td>0.415055</td>\n",
       "      <td>0.003467</td>\n",
       "      <td>0.422915</td>\n",
       "      <td>0.414912</td>\n",
       "      <td>UP</td>\n",
       "      <td>1</td>\n",
       "    </tr>\n",
       "    <tr>\n",
       "      <th>2</th>\n",
       "      <td>0.0000</td>\n",
       "      <td>2</td>\n",
       "      <td>0.042553</td>\n",
       "      <td>0.051489</td>\n",
       "      <td>0.385004</td>\n",
       "      <td>0.003467</td>\n",
       "      <td>0.422915</td>\n",
       "      <td>0.414912</td>\n",
       "      <td>UP</td>\n",
       "      <td>1</td>\n",
       "    </tr>\n",
       "    <tr>\n",
       "      <th>3</th>\n",
       "      <td>0.0000</td>\n",
       "      <td>2</td>\n",
       "      <td>0.063830</td>\n",
       "      <td>0.045485</td>\n",
       "      <td>0.314639</td>\n",
       "      <td>0.003467</td>\n",
       "      <td>0.422915</td>\n",
       "      <td>0.414912</td>\n",
       "      <td>UP</td>\n",
       "      <td>1</td>\n",
       "    </tr>\n",
       "    <tr>\n",
       "      <th>4</th>\n",
       "      <td>0.0000</td>\n",
       "      <td>2</td>\n",
       "      <td>0.085106</td>\n",
       "      <td>0.042482</td>\n",
       "      <td>0.251116</td>\n",
       "      <td>0.003467</td>\n",
       "      <td>0.422915</td>\n",
       "      <td>0.414912</td>\n",
       "      <td>DOWN</td>\n",
       "      <td>0</td>\n",
       "    </tr>\n",
       "    <tr>\n",
       "      <th>...</th>\n",
       "      <td>...</td>\n",
       "      <td>...</td>\n",
       "      <td>...</td>\n",
       "      <td>...</td>\n",
       "      <td>...</td>\n",
       "      <td>...</td>\n",
       "      <td>...</td>\n",
       "      <td>...</td>\n",
       "      <td>...</td>\n",
       "      <td>...</td>\n",
       "    </tr>\n",
       "    <tr>\n",
       "      <th>45307</th>\n",
       "      <td>0.9158</td>\n",
       "      <td>7</td>\n",
       "      <td>0.914894</td>\n",
       "      <td>0.044224</td>\n",
       "      <td>0.340672</td>\n",
       "      <td>0.003033</td>\n",
       "      <td>0.255049</td>\n",
       "      <td>0.405263</td>\n",
       "      <td>DOWN</td>\n",
       "      <td>0</td>\n",
       "    </tr>\n",
       "    <tr>\n",
       "      <th>45308</th>\n",
       "      <td>0.9158</td>\n",
       "      <td>7</td>\n",
       "      <td>0.936170</td>\n",
       "      <td>0.044884</td>\n",
       "      <td>0.355549</td>\n",
       "      <td>0.003072</td>\n",
       "      <td>0.241326</td>\n",
       "      <td>0.420614</td>\n",
       "      <td>DOWN</td>\n",
       "      <td>0</td>\n",
       "    </tr>\n",
       "    <tr>\n",
       "      <th>45309</th>\n",
       "      <td>0.9158</td>\n",
       "      <td>7</td>\n",
       "      <td>0.957447</td>\n",
       "      <td>0.043593</td>\n",
       "      <td>0.340970</td>\n",
       "      <td>0.002983</td>\n",
       "      <td>0.247799</td>\n",
       "      <td>0.362281</td>\n",
       "      <td>DOWN</td>\n",
       "      <td>0</td>\n",
       "    </tr>\n",
       "    <tr>\n",
       "      <th>45310</th>\n",
       "      <td>0.9158</td>\n",
       "      <td>7</td>\n",
       "      <td>0.978723</td>\n",
       "      <td>0.066651</td>\n",
       "      <td>0.329366</td>\n",
       "      <td>0.004630</td>\n",
       "      <td>0.345417</td>\n",
       "      <td>0.206579</td>\n",
       "      <td>UP</td>\n",
       "      <td>1</td>\n",
       "    </tr>\n",
       "    <tr>\n",
       "      <th>45311</th>\n",
       "      <td>0.9158</td>\n",
       "      <td>7</td>\n",
       "      <td>1.000000</td>\n",
       "      <td>0.050679</td>\n",
       "      <td>0.288753</td>\n",
       "      <td>0.003542</td>\n",
       "      <td>0.355256</td>\n",
       "      <td>0.231140</td>\n",
       "      <td>DOWN</td>\n",
       "      <td>0</td>\n",
       "    </tr>\n",
       "  </tbody>\n",
       "</table>\n",
       "<p>45312 rows × 10 columns</p>\n",
       "</div>"
      ],
      "text/plain": [
       "         date day    period  nswprice  nswdemand  vicprice  vicdemand  \\\n",
       "0      0.0000   2  0.000000  0.056443   0.439155  0.003467   0.422915   \n",
       "1      0.0000   2  0.021277  0.051699   0.415055  0.003467   0.422915   \n",
       "2      0.0000   2  0.042553  0.051489   0.385004  0.003467   0.422915   \n",
       "3      0.0000   2  0.063830  0.045485   0.314639  0.003467   0.422915   \n",
       "4      0.0000   2  0.085106  0.042482   0.251116  0.003467   0.422915   \n",
       "...       ...  ..       ...       ...        ...       ...        ...   \n",
       "45307  0.9158   7  0.914894  0.044224   0.340672  0.003033   0.255049   \n",
       "45308  0.9158   7  0.936170  0.044884   0.355549  0.003072   0.241326   \n",
       "45309  0.9158   7  0.957447  0.043593   0.340970  0.002983   0.247799   \n",
       "45310  0.9158   7  0.978723  0.066651   0.329366  0.004630   0.345417   \n",
       "45311  0.9158   7  1.000000  0.050679   0.288753  0.003542   0.355256   \n",
       "\n",
       "       transfer class  target  \n",
       "0      0.414912    UP       1  \n",
       "1      0.414912    UP       1  \n",
       "2      0.414912    UP       1  \n",
       "3      0.414912    UP       1  \n",
       "4      0.414912  DOWN       0  \n",
       "...         ...   ...     ...  \n",
       "45307  0.405263  DOWN       0  \n",
       "45308  0.420614  DOWN       0  \n",
       "45309  0.362281  DOWN       0  \n",
       "45310  0.206579    UP       1  \n",
       "45311  0.231140  DOWN       0  \n",
       "\n",
       "[45312 rows x 10 columns]"
      ]
     },
     "execution_count": 55,
     "metadata": {},
     "output_type": "execute_result"
    }
   ],
   "source": [
    "import numpy as np\n",
    "import pandas as pd\n",
    "\n",
    "from sklearn import datasets as ds\n",
    "from sklearn.metrics import classification_report\n",
    "from pycaret.classification import *\n",
    "from pycaret.utils import check_metric\n",
    "\n",
    "import warnings\n",
    "\n",
    "warnings.filterwarnings('ignore')\n",
    "df = ds.fetch_openml(data_id=151,as_frame=True, return_X_y=True)\n",
    "\n",
    "(\n",
    "\n",
    "    pd.concat(df, axis=1)\n",
    "\n",
    "    .assign(target=lambda x: (x['class']=='UP')*1)\n",
    "\n",
    ")"
   ]
  },
  {
   "cell_type": "markdown",
   "metadata": {},
   "source": [
    "Electricity is a widely used dataset described by M. Harries and analyzed by J. Gama (see papers below). This data was collected from the Australian New South Wales Electricity Market. In this market, prices are not fixed and are affected by demand and supply of the market. They are set every five minutes. Electricity transfers to/from the neighboring state of Victoria were done to alleviate fluctuations.\n",
    "\n",
    "The dataset (originally named ELEC2) contains 45,312 instances dated from 7 May 1996 to 5 December 1998. Each example of the dataset refers to a period of 30 minutes, i.e. there are 48 instances for each time period of one day. Each example on the dataset has 5 fields, the day of week, the time stamp, the New South Wales electricity demand, the Victoria electricity demand, the scheduled electricity transfer between states and the class label. The class label identifies the change of the price (UP or DOWN) in New South Wales relative to a moving average of the last 24 hours (and removes the impact of longer term price trends).\n",
    "\n",
    "The data was normalized by A. Bifet."
   ]
  },
  {
   "cell_type": "markdown",
   "metadata": {},
   "source": [
    "\n",
    "    Date: date between 7 May 1996 to 5 December 1998. Here normalized between 0 and 1\n",
    "    Day: day of the week (1-7)\n",
    "    Period: time of the measurement (1-48) in half hour intervals over 24 hours. Here normalized between 0 and 1\n",
    "    NSWprice: New South Wales electricity price, normalized between 0 and 1\n",
    "    NSWdemand: New South Wales electricity demand, normalized between 0 and 1\n",
    "    VICprice: Victoria electricity price, normalized between 0 and 1\n",
    "    VICdemand: Victoria electricity demand, normalized between 0 and 1\n",
    "    transfer: scheduled electricity transfer between both states, normalized between 0 and 1\n"
   ]
  },
  {
   "cell_type": "markdown",
   "metadata": {},
   "source": [
    "# Exploratory Data Analysis"
   ]
  },
  {
   "cell_type": "markdown",
   "metadata": {},
   "source": [
    "Firts step is to understand the data and have a better picture of the problem."
   ]
  },
  {
   "cell_type": "code",
   "execution_count": 2,
   "metadata": {},
   "outputs": [],
   "source": [
    "idx = pd.date_range(start='1996-05-07', end='1998-12-7', freq='0.5H')"
   ]
  },
  {
   "cell_type": "code",
   "execution_count": 3,
   "metadata": {},
   "outputs": [],
   "source": [
    "idx = idx[:-1]"
   ]
  },
  {
   "cell_type": "code",
   "execution_count": 4,
   "metadata": {},
   "outputs": [],
   "source": [
    "df_features = df[0]"
   ]
  },
  {
   "cell_type": "code",
   "execution_count": 5,
   "metadata": {},
   "outputs": [],
   "source": [
    "df_features.set_index(idx, inplace=True)"
   ]
  },
  {
   "cell_type": "code",
   "execution_count": 6,
   "metadata": {},
   "outputs": [],
   "source": [
    "df_features = df_features[['nswprice', 'nswdemand', 'vicprice', 'vicdemand', 'transfer']]"
   ]
  },
  {
   "cell_type": "code",
   "execution_count": 7,
   "metadata": {},
   "outputs": [
    {
     "name": "stdout",
     "output_type": "stream",
     "text": [
      "<class 'pandas.core.frame.DataFrame'>\n",
      "DatetimeIndex: 45312 entries, 1996-05-07 00:00:00 to 1998-12-06 23:30:00\n",
      "Freq: 30T\n",
      "Data columns (total 5 columns):\n",
      " #   Column     Non-Null Count  Dtype  \n",
      "---  ------     --------------  -----  \n",
      " 0   nswprice   45312 non-null  float64\n",
      " 1   nswdemand  45312 non-null  float64\n",
      " 2   vicprice   45312 non-null  float64\n",
      " 3   vicdemand  45312 non-null  float64\n",
      " 4   transfer   45312 non-null  float64\n",
      "dtypes: float64(5)\n",
      "memory usage: 2.1 MB\n"
     ]
    }
   ],
   "source": [
    "df_features.info()"
   ]
  },
  {
   "cell_type": "code",
   "execution_count": 8,
   "metadata": {},
   "outputs": [
    {
     "data": {
      "text/plain": [
       "<AxesSubplot:>"
      ]
     },
     "execution_count": 8,
     "metadata": {},
     "output_type": "execute_result"
    },
    {
     "data": {
      "image/png": "[encoded data removed]",
      "text/plain": [
       "<Figure size 432x288 with 1 Axes>"
      ]
     },
     "metadata": {
      "needs_background": "light"
     },
     "output_type": "display_data"
    }
   ],
   "source": [
    "df_features.nswprice.plot()"
   ]
  },
  {
   "cell_type": "code",
   "execution_count": 9,
   "metadata": {},
   "outputs": [
    {
     "data": {
      "text/plain": [
       "<AxesSubplot:>"
      ]
     },
     "execution_count": 9,
     "metadata": {},
     "output_type": "execute_result"
    },
    {
     "data": {
      "image/png": "[encoded data removed]",
      "text/plain": [
       "<Figure size 432x288 with 1 Axes>"
      ]
     },
     "metadata": {
      "needs_background": "light"
     },
     "output_type": "display_data"
    }
   ],
   "source": [
    "df_features.nswdemand.plot()\n"
   ]
  },
  {
   "cell_type": "code",
   "execution_count": 10,
   "metadata": {},
   "outputs": [
    {
     "data": {
      "text/plain": [
       "<AxesSubplot:>"
      ]
     },
     "execution_count": 10,
     "metadata": {},
     "output_type": "execute_result"
    },
    {
     "data": {
      "image/png": "[encoded data removed]",
      "text/plain": [
       "<Figure size 432x288 with 1 Axes>"
      ]
     },
     "metadata": {
      "needs_background": "light"
     },
     "output_type": "display_data"
    }
   ],
   "source": [
    "df_features.vicprice.plot()\n"
   ]
  },
  {
   "cell_type": "code",
   "execution_count": 11,
   "metadata": {},
   "outputs": [
    {
     "data": {
      "text/plain": [
       "<AxesSubplot:>"
      ]
     },
     "execution_count": 11,
     "metadata": {},
     "output_type": "execute_result"
    },
    {
     "data": {
      "image/png": "[encoded data removed]",
      "text/plain": [
       "<Figure size 432x288 with 1 Axes>"
      ]
     },
     "metadata": {
      "needs_background": "light"
     },
     "output_type": "display_data"
    }
   ],
   "source": [
    "df_features.vicdemand.plot()"
   ]
  },
  {
   "cell_type": "code",
   "execution_count": 12,
   "metadata": {},
   "outputs": [
    {
     "data": {
      "text/plain": [
       "1996-05-07 00:00:00    0.422915\n",
       "1996-05-07 00:30:00    0.422915\n",
       "Freq: 30T, Name: vicdemand, dtype: float64"
      ]
     },
     "execution_count": 12,
     "metadata": {},
     "output_type": "execute_result"
    }
   ],
   "source": [
    "df_features.vicdemand.head(2)\n"
   ]
  },
  {
   "cell_type": "code",
   "execution_count": 13,
   "metadata": {},
   "outputs": [
    {
     "data": {
      "text/plain": [
       "Timestamp('1997-07-12 14:00:00')"
      ]
     },
     "execution_count": 13,
     "metadata": {},
     "output_type": "execute_result"
    }
   ],
   "source": [
    "df_features.loc[df_features.vicdemand==0.422915].index[-1]\n"
   ]
  },
  {
   "cell_type": "code",
   "execution_count": 14,
   "metadata": {},
   "outputs": [
    {
     "data": {
      "text/plain": [
       "<AxesSubplot:>"
      ]
     },
     "execution_count": 14,
     "metadata": {},
     "output_type": "execute_result"
    },
    {
     "data": {
      "image/png": "[encoded data removed]",
      "text/plain": [
       "<Figure size 432x288 with 1 Axes>"
      ]
     },
     "metadata": {
      "needs_background": "light"
     },
     "output_type": "display_data"
    }
   ],
   "source": [
    "df_features.transfer.plot()"
   ]
  },
  {
   "cell_type": "code",
   "execution_count": 15,
   "metadata": {},
   "outputs": [
    {
     "data": {
      "text/plain": [
       "1996-05-07 00:00:00    0.414912\n",
       "1996-05-07 00:30:00    0.414912\n",
       "Freq: 30T, Name: transfer, dtype: float64"
      ]
     },
     "execution_count": 15,
     "metadata": {},
     "output_type": "execute_result"
    }
   ],
   "source": [
    "df_features.transfer.head(2)"
   ]
  },
  {
   "cell_type": "code",
   "execution_count": 16,
   "metadata": {},
   "outputs": [
    {
     "data": {
      "text/plain": [
       "Timestamp('1998-11-17 15:00:00')"
      ]
     },
     "execution_count": 16,
     "metadata": {},
     "output_type": "execute_result"
    }
   ],
   "source": [
    "df_features.loc[df_features.transfer==0.414912].index[-1]"
   ]
  },
  {
   "cell_type": "markdown",
   "metadata": {},
   "source": [
    "Clearly the data has a change of concept after the date 1998-11-17 15:00:00 so to avoid a poor modeling, we will only use the data from this instace forward. "
   ]
  },
  {
   "cell_type": "code",
   "execution_count": 17,
   "metadata": {},
   "outputs": [],
   "source": [
    "df_features = df_features.loc[df_features.index > '1998-11-17 15:00:00'].copy()"
   ]
  },
  {
   "cell_type": "code",
   "execution_count": 18,
   "metadata": {},
   "outputs": [
    {
     "data": {
      "text/plain": [
       "<AxesSubplot:>"
      ]
     },
     "execution_count": 18,
     "metadata": {},
     "output_type": "execute_result"
    },
    {
     "data": {
      "image/png": "[encoded data removed]",
      "text/plain": [
       "<Figure size 432x288 with 1 Axes>"
      ]
     },
     "metadata": {
      "needs_background": "light"
     },
     "output_type": "display_data"
    }
   ],
   "source": [
    "df_features.transfer.plot()"
   ]
  },
  {
   "cell_type": "code",
   "execution_count": 19,
   "metadata": {},
   "outputs": [
    {
     "data": {
      "text/plain": [
       "<AxesSubplot:>"
      ]
     },
     "execution_count": 19,
     "metadata": {},
     "output_type": "execute_result"
    },
    {
     "data": {
      "image/png": "[encoded data removed]",
      "text/plain": [
       "<Figure size 432x288 with 1 Axes>"
      ]
     },
     "metadata": {
      "needs_background": "light"
     },
     "output_type": "display_data"
    }
   ],
   "source": [
    "df_features.vicdemand.plot()\n"
   ]
  },
  {
   "cell_type": "code",
   "execution_count": 20,
   "metadata": {},
   "outputs": [
    {
     "data": {
      "text/plain": [
       "<AxesSubplot:>"
      ]
     },
     "execution_count": 20,
     "metadata": {},
     "output_type": "execute_result"
    },
    {
     "data": {
      "image/png": "[encoded data removed]",
      "text/plain": [
       "<Figure size 432x288 with 1 Axes>"
      ]
     },
     "metadata": {
      "needs_background": "light"
     },
     "output_type": "display_data"
    }
   ],
   "source": [
    "df_features.vicprice.plot()"
   ]
  },
  {
   "cell_type": "code",
   "execution_count": 21,
   "metadata": {},
   "outputs": [
    {
     "data": {
      "text/plain": [
       "<AxesSubplot:>"
      ]
     },
     "execution_count": 21,
     "metadata": {},
     "output_type": "execute_result"
    },
    {
     "data": {
      "image/png": "[encoded data removed]",
      "text/plain": [
       "<Figure size 432x288 with 1 Axes>"
      ]
     },
     "metadata": {
      "needs_background": "light"
     },
     "output_type": "display_data"
    }
   ],
   "source": [
    "df_features.nswprice.plot()"
   ]
  },
  {
   "cell_type": "code",
   "execution_count": 22,
   "metadata": {},
   "outputs": [
    {
     "data": {
      "text/plain": [
       "<AxesSubplot:>"
      ]
     },
     "execution_count": 22,
     "metadata": {},
     "output_type": "execute_result"
    },
    {
     "data": {
      "image/png": "[encoded data removed]",
      "text/plain": [
       "<Figure size 432x288 with 1 Axes>"
      ]
     },
     "metadata": {
      "needs_background": "light"
     },
     "output_type": "display_data"
    }
   ],
   "source": [
    "df_features.nswdemand.plot()\n"
   ]
  },
  {
   "cell_type": "code",
   "execution_count": 23,
   "metadata": {},
   "outputs": [
    {
     "data": {
      "text/html": [
       "<div>\n",
       "<style scoped>\n",
       "    .dataframe tbody tr th:only-of-type {\n",
       "        vertical-align: middle;\n",
       "    }\n",
       "\n",
       "    .dataframe tbody tr th {\n",
       "        vertical-align: top;\n",
       "    }\n",
       "\n",
       "    .dataframe thead th {\n",
       "        text-align: right;\n",
       "    }\n",
       "</style>\n",
       "<table border=\"1\" class=\"dataframe\">\n",
       "  <thead>\n",
       "    <tr style=\"text-align: right;\">\n",
       "      <th></th>\n",
       "      <th>nswprice</th>\n",
       "      <th>nswdemand</th>\n",
       "      <th>vicprice</th>\n",
       "      <th>vicdemand</th>\n",
       "      <th>transfer</th>\n",
       "    </tr>\n",
       "  </thead>\n",
       "  <tbody>\n",
       "    <tr>\n",
       "      <th>1998-11-17 15:30:00</th>\n",
       "      <td>0.047946</td>\n",
       "      <td>0.512050</td>\n",
       "      <td>0.003232</td>\n",
       "      <td>0.526152</td>\n",
       "      <td>0.393421</td>\n",
       "    </tr>\n",
       "    <tr>\n",
       "      <th>1998-11-17 16:00:00</th>\n",
       "      <td>0.047346</td>\n",
       "      <td>0.507438</td>\n",
       "      <td>0.003187</td>\n",
       "      <td>0.530036</td>\n",
       "      <td>0.387281</td>\n",
       "    </tr>\n",
       "    <tr>\n",
       "      <th>1998-11-17 16:30:00</th>\n",
       "      <td>0.045124</td>\n",
       "      <td>0.499405</td>\n",
       "      <td>0.003039</td>\n",
       "      <td>0.513465</td>\n",
       "      <td>0.428070</td>\n",
       "    </tr>\n",
       "    <tr>\n",
       "      <th>1998-11-17 17:00:00</th>\n",
       "      <td>0.043263</td>\n",
       "      <td>0.485867</td>\n",
       "      <td>0.002889</td>\n",
       "      <td>0.481357</td>\n",
       "      <td>0.475439</td>\n",
       "    </tr>\n",
       "    <tr>\n",
       "      <th>1998-11-17 17:30:00</th>\n",
       "      <td>0.044073</td>\n",
       "      <td>0.479470</td>\n",
       "      <td>0.002916</td>\n",
       "      <td>0.448731</td>\n",
       "      <td>0.493421</td>\n",
       "    </tr>\n",
       "    <tr>\n",
       "      <th>...</th>\n",
       "      <td>...</td>\n",
       "      <td>...</td>\n",
       "      <td>...</td>\n",
       "      <td>...</td>\n",
       "      <td>...</td>\n",
       "    </tr>\n",
       "    <tr>\n",
       "      <th>1998-12-06 21:30:00</th>\n",
       "      <td>0.044224</td>\n",
       "      <td>0.340672</td>\n",
       "      <td>0.003033</td>\n",
       "      <td>0.255049</td>\n",
       "      <td>0.405263</td>\n",
       "    </tr>\n",
       "    <tr>\n",
       "      <th>1998-12-06 22:00:00</th>\n",
       "      <td>0.044884</td>\n",
       "      <td>0.355549</td>\n",
       "      <td>0.003072</td>\n",
       "      <td>0.241326</td>\n",
       "      <td>0.420614</td>\n",
       "    </tr>\n",
       "    <tr>\n",
       "      <th>1998-12-06 22:30:00</th>\n",
       "      <td>0.043593</td>\n",
       "      <td>0.340970</td>\n",
       "      <td>0.002983</td>\n",
       "      <td>0.247799</td>\n",
       "      <td>0.362281</td>\n",
       "    </tr>\n",
       "    <tr>\n",
       "      <th>1998-12-06 23:00:00</th>\n",
       "      <td>0.066651</td>\n",
       "      <td>0.329366</td>\n",
       "      <td>0.004630</td>\n",
       "      <td>0.345417</td>\n",
       "      <td>0.206579</td>\n",
       "    </tr>\n",
       "    <tr>\n",
       "      <th>1998-12-06 23:30:00</th>\n",
       "      <td>0.050679</td>\n",
       "      <td>0.288753</td>\n",
       "      <td>0.003542</td>\n",
       "      <td>0.355256</td>\n",
       "      <td>0.231140</td>\n",
       "    </tr>\n",
       "  </tbody>\n",
       "</table>\n",
       "<p>929 rows × 5 columns</p>\n",
       "</div>"
      ],
      "text/plain": [
       "                     nswprice  nswdemand  vicprice  vicdemand  transfer\n",
       "1998-11-17 15:30:00  0.047946   0.512050  0.003232   0.526152  0.393421\n",
       "1998-11-17 16:00:00  0.047346   0.507438  0.003187   0.530036  0.387281\n",
       "1998-11-17 16:30:00  0.045124   0.499405  0.003039   0.513465  0.428070\n",
       "1998-11-17 17:00:00  0.043263   0.485867  0.002889   0.481357  0.475439\n",
       "1998-11-17 17:30:00  0.044073   0.479470  0.002916   0.448731  0.493421\n",
       "...                       ...        ...       ...        ...       ...\n",
       "1998-12-06 21:30:00  0.044224   0.340672  0.003033   0.255049  0.405263\n",
       "1998-12-06 22:00:00  0.044884   0.355549  0.003072   0.241326  0.420614\n",
       "1998-12-06 22:30:00  0.043593   0.340970  0.002983   0.247799  0.362281\n",
       "1998-12-06 23:00:00  0.066651   0.329366  0.004630   0.345417  0.206579\n",
       "1998-12-06 23:30:00  0.050679   0.288753  0.003542   0.355256  0.231140\n",
       "\n",
       "[929 rows x 5 columns]"
      ]
     },
     "execution_count": 23,
     "metadata": {},
     "output_type": "execute_result"
    }
   ],
   "source": [
    "df_features"
   ]
  },
  {
   "cell_type": "code",
   "execution_count": 24,
   "metadata": {},
   "outputs": [],
   "source": [
    "df_target=df[1]"
   ]
  },
  {
   "cell_type": "code",
   "execution_count": 25,
   "metadata": {},
   "outputs": [],
   "source": [
    "df_target = pd.DataFrame(df_target)"
   ]
  },
  {
   "cell_type": "code",
   "execution_count": 26,
   "metadata": {},
   "outputs": [
    {
     "data": {
      "text/html": [
       "<div>\n",
       "<style scoped>\n",
       "    .dataframe tbody tr th:only-of-type {\n",
       "        vertical-align: middle;\n",
       "    }\n",
       "\n",
       "    .dataframe tbody tr th {\n",
       "        vertical-align: top;\n",
       "    }\n",
       "\n",
       "    .dataframe thead th {\n",
       "        text-align: right;\n",
       "    }\n",
       "</style>\n",
       "<table border=\"1\" class=\"dataframe\">\n",
       "  <thead>\n",
       "    <tr style=\"text-align: right;\">\n",
       "      <th></th>\n",
       "      <th>class</th>\n",
       "    </tr>\n",
       "  </thead>\n",
       "  <tbody>\n",
       "    <tr>\n",
       "      <th>0</th>\n",
       "      <td>UP</td>\n",
       "    </tr>\n",
       "    <tr>\n",
       "      <th>1</th>\n",
       "      <td>UP</td>\n",
       "    </tr>\n",
       "    <tr>\n",
       "      <th>2</th>\n",
       "      <td>UP</td>\n",
       "    </tr>\n",
       "    <tr>\n",
       "      <th>3</th>\n",
       "      <td>UP</td>\n",
       "    </tr>\n",
       "    <tr>\n",
       "      <th>4</th>\n",
       "      <td>DOWN</td>\n",
       "    </tr>\n",
       "  </tbody>\n",
       "</table>\n",
       "</div>"
      ],
      "text/plain": [
       "  class\n",
       "0    UP\n",
       "1    UP\n",
       "2    UP\n",
       "3    UP\n",
       "4  DOWN"
      ]
     },
     "execution_count": 26,
     "metadata": {},
     "output_type": "execute_result"
    }
   ],
   "source": [
    "df_target.head()"
   ]
  },
  {
   "cell_type": "code",
   "execution_count": 27,
   "metadata": {},
   "outputs": [],
   "source": [
    "df_target.set_index(idx, inplace=True)"
   ]
  },
  {
   "cell_type": "code",
   "execution_count": 28,
   "metadata": {},
   "outputs": [],
   "source": [
    "df_target = df_target.loc[df_target.index > '1998-11-17 15:00:00'].copy()"
   ]
  },
  {
   "cell_type": "code",
   "execution_count": 29,
   "metadata": {},
   "outputs": [
    {
     "data": {
      "text/plain": [
       "(929, 1)"
      ]
     },
     "execution_count": 29,
     "metadata": {},
     "output_type": "execute_result"
    }
   ],
   "source": [
    "df_target.shape"
   ]
  },
  {
   "cell_type": "code",
   "execution_count": 30,
   "metadata": {},
   "outputs": [
    {
     "data": {
      "text/plain": [
       "Timedelta('-20 days +16:00:00')"
      ]
     },
     "execution_count": 30,
     "metadata": {},
     "output_type": "execute_result"
    }
   ],
   "source": [
    "df_features.index[0] - df_features.index[-1]"
   ]
  },
  {
   "cell_type": "code",
   "execution_count": 31,
   "metadata": {},
   "outputs": [
    {
     "data": {
      "text/plain": [
       "<bound method NDFrame.head of                     class\n",
       "1998-11-17 15:30:00    UP\n",
       "1998-11-17 16:00:00    UP\n",
       "1998-11-17 16:30:00  DOWN\n",
       "1998-11-17 17:00:00  DOWN\n",
       "1998-11-17 17:30:00  DOWN\n",
       "...                   ...\n",
       "1998-12-06 21:30:00  DOWN\n",
       "1998-12-06 22:00:00  DOWN\n",
       "1998-12-06 22:30:00  DOWN\n",
       "1998-12-06 23:00:00    UP\n",
       "1998-12-06 23:30:00  DOWN\n",
       "\n",
       "[929 rows x 1 columns]>"
      ]
     },
     "execution_count": 31,
     "metadata": {},
     "output_type": "execute_result"
    }
   ],
   "source": [
    "df_target.head"
   ]
  },
  {
   "cell_type": "code",
   "execution_count": 32,
   "metadata": {},
   "outputs": [
    {
     "data": {
      "text/plain": [
       "class\n",
       "DOWN     0.560818\n",
       "UP       0.439182\n",
       "dtype: float64"
      ]
     },
     "execution_count": 32,
     "metadata": {},
     "output_type": "execute_result"
    }
   ],
   "source": [
    "df_target.value_counts(normalize=True)"
   ]
  },
  {
   "cell_type": "code",
   "execution_count": 33,
   "metadata": {},
   "outputs": [],
   "source": [
    "full_df = df_features.copy()"
   ]
  },
  {
   "cell_type": "code",
   "execution_count": 34,
   "metadata": {},
   "outputs": [],
   "source": [
    "full_df['target'] = df_target"
   ]
  },
  {
   "cell_type": "code",
   "execution_count": 35,
   "metadata": {},
   "outputs": [],
   "source": [
    "test = full_df.loc[full_df.index>='1998-12-01  23:30:00']"
   ]
  },
  {
   "cell_type": "code",
   "execution_count": 36,
   "metadata": {},
   "outputs": [
    {
     "data": {
      "text/plain": [
       "(241, 6)"
      ]
     },
     "execution_count": 36,
     "metadata": {},
     "output_type": "execute_result"
    }
   ],
   "source": [
    "test.shape"
   ]
  },
  {
   "cell_type": "code",
   "execution_count": 37,
   "metadata": {},
   "outputs": [],
   "source": [
    "train = full_df.loc[full_df.index<'1998-12-01  23:30:00']"
   ]
  },
  {
   "cell_type": "code",
   "execution_count": 38,
   "metadata": {},
   "outputs": [
    {
     "data": {
      "text/plain": [
       "(688, 6)"
      ]
     },
     "execution_count": 38,
     "metadata": {},
     "output_type": "execute_result"
    }
   ],
   "source": [
    "train.shape"
   ]
  },
  {
   "cell_type": "markdown",
   "metadata": {},
   "source": [
    "# Modeling"
   ]
  },
  {
   "cell_type": "code",
   "execution_count": 39,
   "metadata": {},
   "outputs": [
    {
     "data": {
      "text/html": [
       "<style type=\"text/css\">\n",
       "#T_b29ba_row44_col1 {\n",
       "  background-color: lightgreen;\n",
       "}\n",
       "</style>\n",
       "<table id=\"T_b29ba\">\n",
       "  <thead>\n",
       "    <tr>\n",
       "      <th class=\"blank level0\" >&nbsp;</th>\n",
       "      <th id=\"T_b29ba_level0_col0\" class=\"col_heading level0 col0\" >Description</th>\n",
       "      <th id=\"T_b29ba_level0_col1\" class=\"col_heading level0 col1\" >Value</th>\n",
       "    </tr>\n",
       "  </thead>\n",
       "  <tbody>\n",
       "    <tr>\n",
       "      <th id=\"T_b29ba_level0_row0\" class=\"row_heading level0 row0\" >0</th>\n",
       "      <td id=\"T_b29ba_row0_col0\" class=\"data row0 col0\" >session_id</td>\n",
       "      <td id=\"T_b29ba_row0_col1\" class=\"data row0 col1\" >123</td>\n",
       "    </tr>\n",
       "    <tr>\n",
       "      <th id=\"T_b29ba_level0_row1\" class=\"row_heading level0 row1\" >1</th>\n",
       "      <td id=\"T_b29ba_row1_col0\" class=\"data row1 col0\" >Target</td>\n",
       "      <td id=\"T_b29ba_row1_col1\" class=\"data row1 col1\" >target</td>\n",
       "    </tr>\n",
       "    <tr>\n",
       "      <th id=\"T_b29ba_level0_row2\" class=\"row_heading level0 row2\" >2</th>\n",
       "      <td id=\"T_b29ba_row2_col0\" class=\"data row2 col0\" >Target Type</td>\n",
       "      <td id=\"T_b29ba_row2_col1\" class=\"data row2 col1\" >Binary</td>\n",
       "    </tr>\n",
       "    <tr>\n",
       "      <th id=\"T_b29ba_level0_row3\" class=\"row_heading level0 row3\" >3</th>\n",
       "      <td id=\"T_b29ba_row3_col0\" class=\"data row3 col0\" >Label Encoded</td>\n",
       "      <td id=\"T_b29ba_row3_col1\" class=\"data row3 col1\" >DOWN: 0, UP: 1</td>\n",
       "    </tr>\n",
       "    <tr>\n",
       "      <th id=\"T_b29ba_level0_row4\" class=\"row_heading level0 row4\" >4</th>\n",
       "      <td id=\"T_b29ba_row4_col0\" class=\"data row4 col0\" >Original Data</td>\n",
       "      <td id=\"T_b29ba_row4_col1\" class=\"data row4 col1\" >(688, 6)</td>\n",
       "    </tr>\n",
       "    <tr>\n",
       "      <th id=\"T_b29ba_level0_row5\" class=\"row_heading level0 row5\" >5</th>\n",
       "      <td id=\"T_b29ba_row5_col0\" class=\"data row5 col0\" >Missing Values</td>\n",
       "      <td id=\"T_b29ba_row5_col1\" class=\"data row5 col1\" >False</td>\n",
       "    </tr>\n",
       "    <tr>\n",
       "      <th id=\"T_b29ba_level0_row6\" class=\"row_heading level0 row6\" >6</th>\n",
       "      <td id=\"T_b29ba_row6_col0\" class=\"data row6 col0\" >Numeric Features</td>\n",
       "      <td id=\"T_b29ba_row6_col1\" class=\"data row6 col1\" >5</td>\n",
       "    </tr>\n",
       "    <tr>\n",
       "      <th id=\"T_b29ba_level0_row7\" class=\"row_heading level0 row7\" >7</th>\n",
       "      <td id=\"T_b29ba_row7_col0\" class=\"data row7 col0\" >Categorical Features</td>\n",
       "      <td id=\"T_b29ba_row7_col1\" class=\"data row7 col1\" >0</td>\n",
       "    </tr>\n",
       "    <tr>\n",
       "      <th id=\"T_b29ba_level0_row8\" class=\"row_heading level0 row8\" >8</th>\n",
       "      <td id=\"T_b29ba_row8_col0\" class=\"data row8 col0\" >Ordinal Features</td>\n",
       "      <td id=\"T_b29ba_row8_col1\" class=\"data row8 col1\" >False</td>\n",
       "    </tr>\n",
       "    <tr>\n",
       "      <th id=\"T_b29ba_level0_row9\" class=\"row_heading level0 row9\" >9</th>\n",
       "      <td id=\"T_b29ba_row9_col0\" class=\"data row9 col0\" >High Cardinality Features</td>\n",
       "      <td id=\"T_b29ba_row9_col1\" class=\"data row9 col1\" >False</td>\n",
       "    </tr>\n",
       "    <tr>\n",
       "      <th id=\"T_b29ba_level0_row10\" class=\"row_heading level0 row10\" >10</th>\n",
       "      <td id=\"T_b29ba_row10_col0\" class=\"data row10 col0\" >High Cardinality Method</td>\n",
       "      <td id=\"T_b29ba_row10_col1\" class=\"data row10 col1\" >None</td>\n",
       "    </tr>\n",
       "    <tr>\n",
       "      <th id=\"T_b29ba_level0_row11\" class=\"row_heading level0 row11\" >11</th>\n",
       "      <td id=\"T_b29ba_row11_col0\" class=\"data row11 col0\" >Transformed Train Set</td>\n",
       "      <td id=\"T_b29ba_row11_col1\" class=\"data row11 col1\" >(481, 5)</td>\n",
       "    </tr>\n",
       "    <tr>\n",
       "      <th id=\"T_b29ba_level0_row12\" class=\"row_heading level0 row12\" >12</th>\n",
       "      <td id=\"T_b29ba_row12_col0\" class=\"data row12 col0\" >Transformed Test Set</td>\n",
       "      <td id=\"T_b29ba_row12_col1\" class=\"data row12 col1\" >(207, 5)</td>\n",
       "    </tr>\n",
       "    <tr>\n",
       "      <th id=\"T_b29ba_level0_row13\" class=\"row_heading level0 row13\" >13</th>\n",
       "      <td id=\"T_b29ba_row13_col0\" class=\"data row13 col0\" >Shuffle Train-Test</td>\n",
       "      <td id=\"T_b29ba_row13_col1\" class=\"data row13 col1\" >True</td>\n",
       "    </tr>\n",
       "    <tr>\n",
       "      <th id=\"T_b29ba_level0_row14\" class=\"row_heading level0 row14\" >14</th>\n",
       "      <td id=\"T_b29ba_row14_col0\" class=\"data row14 col0\" >Stratify Train-Test</td>\n",
       "      <td id=\"T_b29ba_row14_col1\" class=\"data row14 col1\" >False</td>\n",
       "    </tr>\n",
       "    <tr>\n",
       "      <th id=\"T_b29ba_level0_row15\" class=\"row_heading level0 row15\" >15</th>\n",
       "      <td id=\"T_b29ba_row15_col0\" class=\"data row15 col0\" >Fold Generator</td>\n",
       "      <td id=\"T_b29ba_row15_col1\" class=\"data row15 col1\" >StratifiedKFold</td>\n",
       "    </tr>\n",
       "    <tr>\n",
       "      <th id=\"T_b29ba_level0_row16\" class=\"row_heading level0 row16\" >16</th>\n",
       "      <td id=\"T_b29ba_row16_col0\" class=\"data row16 col0\" >Fold Number</td>\n",
       "      <td id=\"T_b29ba_row16_col1\" class=\"data row16 col1\" >10</td>\n",
       "    </tr>\n",
       "    <tr>\n",
       "      <th id=\"T_b29ba_level0_row17\" class=\"row_heading level0 row17\" >17</th>\n",
       "      <td id=\"T_b29ba_row17_col0\" class=\"data row17 col0\" >CPU Jobs</td>\n",
       "      <td id=\"T_b29ba_row17_col1\" class=\"data row17 col1\" >-1</td>\n",
       "    </tr>\n",
       "    <tr>\n",
       "      <th id=\"T_b29ba_level0_row18\" class=\"row_heading level0 row18\" >18</th>\n",
       "      <td id=\"T_b29ba_row18_col0\" class=\"data row18 col0\" >Use GPU</td>\n",
       "      <td id=\"T_b29ba_row18_col1\" class=\"data row18 col1\" >False</td>\n",
       "    </tr>\n",
       "    <tr>\n",
       "      <th id=\"T_b29ba_level0_row19\" class=\"row_heading level0 row19\" >19</th>\n",
       "      <td id=\"T_b29ba_row19_col0\" class=\"data row19 col0\" >Log Experiment</td>\n",
       "      <td id=\"T_b29ba_row19_col1\" class=\"data row19 col1\" >False</td>\n",
       "    </tr>\n",
       "    <tr>\n",
       "      <th id=\"T_b29ba_level0_row20\" class=\"row_heading level0 row20\" >20</th>\n",
       "      <td id=\"T_b29ba_row20_col0\" class=\"data row20 col0\" >Experiment Name</td>\n",
       "      <td id=\"T_b29ba_row20_col1\" class=\"data row20 col1\" >clf-default-name</td>\n",
       "    </tr>\n",
       "    <tr>\n",
       "      <th id=\"T_b29ba_level0_row21\" class=\"row_heading level0 row21\" >21</th>\n",
       "      <td id=\"T_b29ba_row21_col0\" class=\"data row21 col0\" >USI</td>\n",
       "      <td id=\"T_b29ba_row21_col1\" class=\"data row21 col1\" >99ac</td>\n",
       "    </tr>\n",
       "    <tr>\n",
       "      <th id=\"T_b29ba_level0_row22\" class=\"row_heading level0 row22\" >22</th>\n",
       "      <td id=\"T_b29ba_row22_col0\" class=\"data row22 col0\" >Imputation Type</td>\n",
       "      <td id=\"T_b29ba_row22_col1\" class=\"data row22 col1\" >simple</td>\n",
       "    </tr>\n",
       "    <tr>\n",
       "      <th id=\"T_b29ba_level0_row23\" class=\"row_heading level0 row23\" >23</th>\n",
       "      <td id=\"T_b29ba_row23_col0\" class=\"data row23 col0\" >Iterative Imputation Iteration</td>\n",
       "      <td id=\"T_b29ba_row23_col1\" class=\"data row23 col1\" >None</td>\n",
       "    </tr>\n",
       "    <tr>\n",
       "      <th id=\"T_b29ba_level0_row24\" class=\"row_heading level0 row24\" >24</th>\n",
       "      <td id=\"T_b29ba_row24_col0\" class=\"data row24 col0\" >Numeric Imputer</td>\n",
       "      <td id=\"T_b29ba_row24_col1\" class=\"data row24 col1\" >mean</td>\n",
       "    </tr>\n",
       "    <tr>\n",
       "      <th id=\"T_b29ba_level0_row25\" class=\"row_heading level0 row25\" >25</th>\n",
       "      <td id=\"T_b29ba_row25_col0\" class=\"data row25 col0\" >Iterative Imputation Numeric Model</td>\n",
       "      <td id=\"T_b29ba_row25_col1\" class=\"data row25 col1\" >None</td>\n",
       "    </tr>\n",
       "    <tr>\n",
       "      <th id=\"T_b29ba_level0_row26\" class=\"row_heading level0 row26\" >26</th>\n",
       "      <td id=\"T_b29ba_row26_col0\" class=\"data row26 col0\" >Categorical Imputer</td>\n",
       "      <td id=\"T_b29ba_row26_col1\" class=\"data row26 col1\" >constant</td>\n",
       "    </tr>\n",
       "    <tr>\n",
       "      <th id=\"T_b29ba_level0_row27\" class=\"row_heading level0 row27\" >27</th>\n",
       "      <td id=\"T_b29ba_row27_col0\" class=\"data row27 col0\" >Iterative Imputation Categorical Model</td>\n",
       "      <td id=\"T_b29ba_row27_col1\" class=\"data row27 col1\" >None</td>\n",
       "    </tr>\n",
       "    <tr>\n",
       "      <th id=\"T_b29ba_level0_row28\" class=\"row_heading level0 row28\" >28</th>\n",
       "      <td id=\"T_b29ba_row28_col0\" class=\"data row28 col0\" >Unknown Categoricals Handling</td>\n",
       "      <td id=\"T_b29ba_row28_col1\" class=\"data row28 col1\" >least_frequent</td>\n",
       "    </tr>\n",
       "    <tr>\n",
       "      <th id=\"T_b29ba_level0_row29\" class=\"row_heading level0 row29\" >29</th>\n",
       "      <td id=\"T_b29ba_row29_col0\" class=\"data row29 col0\" >Normalize</td>\n",
       "      <td id=\"T_b29ba_row29_col1\" class=\"data row29 col1\" >False</td>\n",
       "    </tr>\n",
       "    <tr>\n",
       "      <th id=\"T_b29ba_level0_row30\" class=\"row_heading level0 row30\" >30</th>\n",
       "      <td id=\"T_b29ba_row30_col0\" class=\"data row30 col0\" >Normalize Method</td>\n",
       "      <td id=\"T_b29ba_row30_col1\" class=\"data row30 col1\" >None</td>\n",
       "    </tr>\n",
       "    <tr>\n",
       "      <th id=\"T_b29ba_level0_row31\" class=\"row_heading level0 row31\" >31</th>\n",
       "      <td id=\"T_b29ba_row31_col0\" class=\"data row31 col0\" >Transformation</td>\n",
       "      <td id=\"T_b29ba_row31_col1\" class=\"data row31 col1\" >False</td>\n",
       "    </tr>\n",
       "    <tr>\n",
       "      <th id=\"T_b29ba_level0_row32\" class=\"row_heading level0 row32\" >32</th>\n",
       "      <td id=\"T_b29ba_row32_col0\" class=\"data row32 col0\" >Transformation Method</td>\n",
       "      <td id=\"T_b29ba_row32_col1\" class=\"data row32 col1\" >None</td>\n",
       "    </tr>\n",
       "    <tr>\n",
       "      <th id=\"T_b29ba_level0_row33\" class=\"row_heading level0 row33\" >33</th>\n",
       "      <td id=\"T_b29ba_row33_col0\" class=\"data row33 col0\" >PCA</td>\n",
       "      <td id=\"T_b29ba_row33_col1\" class=\"data row33 col1\" >False</td>\n",
       "    </tr>\n",
       "    <tr>\n",
       "      <th id=\"T_b29ba_level0_row34\" class=\"row_heading level0 row34\" >34</th>\n",
       "      <td id=\"T_b29ba_row34_col0\" class=\"data row34 col0\" >PCA Method</td>\n",
       "      <td id=\"T_b29ba_row34_col1\" class=\"data row34 col1\" >None</td>\n",
       "    </tr>\n",
       "    <tr>\n",
       "      <th id=\"T_b29ba_level0_row35\" class=\"row_heading level0 row35\" >35</th>\n",
       "      <td id=\"T_b29ba_row35_col0\" class=\"data row35 col0\" >PCA Components</td>\n",
       "      <td id=\"T_b29ba_row35_col1\" class=\"data row35 col1\" >None</td>\n",
       "    </tr>\n",
       "    <tr>\n",
       "      <th id=\"T_b29ba_level0_row36\" class=\"row_heading level0 row36\" >36</th>\n",
       "      <td id=\"T_b29ba_row36_col0\" class=\"data row36 col0\" >Ignore Low Variance</td>\n",
       "      <td id=\"T_b29ba_row36_col1\" class=\"data row36 col1\" >False</td>\n",
       "    </tr>\n",
       "    <tr>\n",
       "      <th id=\"T_b29ba_level0_row37\" class=\"row_heading level0 row37\" >37</th>\n",
       "      <td id=\"T_b29ba_row37_col0\" class=\"data row37 col0\" >Combine Rare Levels</td>\n",
       "      <td id=\"T_b29ba_row37_col1\" class=\"data row37 col1\" >False</td>\n",
       "    </tr>\n",
       "    <tr>\n",
       "      <th id=\"T_b29ba_level0_row38\" class=\"row_heading level0 row38\" >38</th>\n",
       "      <td id=\"T_b29ba_row38_col0\" class=\"data row38 col0\" >Rare Level Threshold</td>\n",
       "      <td id=\"T_b29ba_row38_col1\" class=\"data row38 col1\" >None</td>\n",
       "    </tr>\n",
       "    <tr>\n",
       "      <th id=\"T_b29ba_level0_row39\" class=\"row_heading level0 row39\" >39</th>\n",
       "      <td id=\"T_b29ba_row39_col0\" class=\"data row39 col0\" >Numeric Binning</td>\n",
       "      <td id=\"T_b29ba_row39_col1\" class=\"data row39 col1\" >False</td>\n",
       "    </tr>\n",
       "    <tr>\n",
       "      <th id=\"T_b29ba_level0_row40\" class=\"row_heading level0 row40\" >40</th>\n",
       "      <td id=\"T_b29ba_row40_col0\" class=\"data row40 col0\" >Remove Outliers</td>\n",
       "      <td id=\"T_b29ba_row40_col1\" class=\"data row40 col1\" >False</td>\n",
       "    </tr>\n",
       "    <tr>\n",
       "      <th id=\"T_b29ba_level0_row41\" class=\"row_heading level0 row41\" >41</th>\n",
       "      <td id=\"T_b29ba_row41_col0\" class=\"data row41 col0\" >Outliers Threshold</td>\n",
       "      <td id=\"T_b29ba_row41_col1\" class=\"data row41 col1\" >None</td>\n",
       "    </tr>\n",
       "    <tr>\n",
       "      <th id=\"T_b29ba_level0_row42\" class=\"row_heading level0 row42\" >42</th>\n",
       "      <td id=\"T_b29ba_row42_col0\" class=\"data row42 col0\" >Remove Multicollinearity</td>\n",
       "      <td id=\"T_b29ba_row42_col1\" class=\"data row42 col1\" >False</td>\n",
       "    </tr>\n",
       "    <tr>\n",
       "      <th id=\"T_b29ba_level0_row43\" class=\"row_heading level0 row43\" >43</th>\n",
       "      <td id=\"T_b29ba_row43_col0\" class=\"data row43 col0\" >Multicollinearity Threshold</td>\n",
       "      <td id=\"T_b29ba_row43_col1\" class=\"data row43 col1\" >None</td>\n",
       "    </tr>\n",
       "    <tr>\n",
       "      <th id=\"T_b29ba_level0_row44\" class=\"row_heading level0 row44\" >44</th>\n",
       "      <td id=\"T_b29ba_row44_col0\" class=\"data row44 col0\" >Remove Perfect Collinearity</td>\n",
       "      <td id=\"T_b29ba_row44_col1\" class=\"data row44 col1\" >True</td>\n",
       "    </tr>\n",
       "    <tr>\n",
       "      <th id=\"T_b29ba_level0_row45\" class=\"row_heading level0 row45\" >45</th>\n",
       "      <td id=\"T_b29ba_row45_col0\" class=\"data row45 col0\" >Clustering</td>\n",
       "      <td id=\"T_b29ba_row45_col1\" class=\"data row45 col1\" >False</td>\n",
       "    </tr>\n",
       "    <tr>\n",
       "      <th id=\"T_b29ba_level0_row46\" class=\"row_heading level0 row46\" >46</th>\n",
       "      <td id=\"T_b29ba_row46_col0\" class=\"data row46 col0\" >Clustering Iteration</td>\n",
       "      <td id=\"T_b29ba_row46_col1\" class=\"data row46 col1\" >None</td>\n",
       "    </tr>\n",
       "    <tr>\n",
       "      <th id=\"T_b29ba_level0_row47\" class=\"row_heading level0 row47\" >47</th>\n",
       "      <td id=\"T_b29ba_row47_col0\" class=\"data row47 col0\" >Polynomial Features</td>\n",
       "      <td id=\"T_b29ba_row47_col1\" class=\"data row47 col1\" >False</td>\n",
       "    </tr>\n",
       "    <tr>\n",
       "      <th id=\"T_b29ba_level0_row48\" class=\"row_heading level0 row48\" >48</th>\n",
       "      <td id=\"T_b29ba_row48_col0\" class=\"data row48 col0\" >Polynomial Degree</td>\n",
       "      <td id=\"T_b29ba_row48_col1\" class=\"data row48 col1\" >None</td>\n",
       "    </tr>\n",
       "    <tr>\n",
       "      <th id=\"T_b29ba_level0_row49\" class=\"row_heading level0 row49\" >49</th>\n",
       "      <td id=\"T_b29ba_row49_col0\" class=\"data row49 col0\" >Trignometry Features</td>\n",
       "      <td id=\"T_b29ba_row49_col1\" class=\"data row49 col1\" >False</td>\n",
       "    </tr>\n",
       "    <tr>\n",
       "      <th id=\"T_b29ba_level0_row50\" class=\"row_heading level0 row50\" >50</th>\n",
       "      <td id=\"T_b29ba_row50_col0\" class=\"data row50 col0\" >Polynomial Threshold</td>\n",
       "      <td id=\"T_b29ba_row50_col1\" class=\"data row50 col1\" >None</td>\n",
       "    </tr>\n",
       "    <tr>\n",
       "      <th id=\"T_b29ba_level0_row51\" class=\"row_heading level0 row51\" >51</th>\n",
       "      <td id=\"T_b29ba_row51_col0\" class=\"data row51 col0\" >Group Features</td>\n",
       "      <td id=\"T_b29ba_row51_col1\" class=\"data row51 col1\" >False</td>\n",
       "    </tr>\n",
       "    <tr>\n",
       "      <th id=\"T_b29ba_level0_row52\" class=\"row_heading level0 row52\" >52</th>\n",
       "      <td id=\"T_b29ba_row52_col0\" class=\"data row52 col0\" >Feature Selection</td>\n",
       "      <td id=\"T_b29ba_row52_col1\" class=\"data row52 col1\" >False</td>\n",
       "    </tr>\n",
       "    <tr>\n",
       "      <th id=\"T_b29ba_level0_row53\" class=\"row_heading level0 row53\" >53</th>\n",
       "      <td id=\"T_b29ba_row53_col0\" class=\"data row53 col0\" >Feature Selection Method</td>\n",
       "      <td id=\"T_b29ba_row53_col1\" class=\"data row53 col1\" >classic</td>\n",
       "    </tr>\n",
       "    <tr>\n",
       "      <th id=\"T_b29ba_level0_row54\" class=\"row_heading level0 row54\" >54</th>\n",
       "      <td id=\"T_b29ba_row54_col0\" class=\"data row54 col0\" >Features Selection Threshold</td>\n",
       "      <td id=\"T_b29ba_row54_col1\" class=\"data row54 col1\" >None</td>\n",
       "    </tr>\n",
       "    <tr>\n",
       "      <th id=\"T_b29ba_level0_row55\" class=\"row_heading level0 row55\" >55</th>\n",
       "      <td id=\"T_b29ba_row55_col0\" class=\"data row55 col0\" >Feature Interaction</td>\n",
       "      <td id=\"T_b29ba_row55_col1\" class=\"data row55 col1\" >False</td>\n",
       "    </tr>\n",
       "    <tr>\n",
       "      <th id=\"T_b29ba_level0_row56\" class=\"row_heading level0 row56\" >56</th>\n",
       "      <td id=\"T_b29ba_row56_col0\" class=\"data row56 col0\" >Feature Ratio</td>\n",
       "      <td id=\"T_b29ba_row56_col1\" class=\"data row56 col1\" >False</td>\n",
       "    </tr>\n",
       "    <tr>\n",
       "      <th id=\"T_b29ba_level0_row57\" class=\"row_heading level0 row57\" >57</th>\n",
       "      <td id=\"T_b29ba_row57_col0\" class=\"data row57 col0\" >Interaction Threshold</td>\n",
       "      <td id=\"T_b29ba_row57_col1\" class=\"data row57 col1\" >None</td>\n",
       "    </tr>\n",
       "    <tr>\n",
       "      <th id=\"T_b29ba_level0_row58\" class=\"row_heading level0 row58\" >58</th>\n",
       "      <td id=\"T_b29ba_row58_col0\" class=\"data row58 col0\" >Fix Imbalance</td>\n",
       "      <td id=\"T_b29ba_row58_col1\" class=\"data row58 col1\" >False</td>\n",
       "    </tr>\n",
       "    <tr>\n",
       "      <th id=\"T_b29ba_level0_row59\" class=\"row_heading level0 row59\" >59</th>\n",
       "      <td id=\"T_b29ba_row59_col0\" class=\"data row59 col0\" >Fix Imbalance Method</td>\n",
       "      <td id=\"T_b29ba_row59_col1\" class=\"data row59 col1\" >SMOTE</td>\n",
       "    </tr>\n",
       "  </tbody>\n",
       "</table>\n"
      ],
      "text/plain": [
       "<pandas.io.formats.style.Styler at 0x7fe3d45bfe50>"
      ]
     },
     "metadata": {},
     "output_type": "display_data"
    }
   ],
   "source": [
    "# init setup\n",
    "s = setup(data = train, target = 'target', session_id=123)"
   ]
  },
  {
   "cell_type": "code",
   "execution_count": 40,
   "metadata": {},
   "outputs": [
    {
     "data": {
      "text/html": [
       "<style type=\"text/css\">\n",
       "#T_d19e1 th {\n",
       "  text-align: left;\n",
       "}\n",
       "#T_d19e1_row0_col0, #T_d19e1_row0_col3, #T_d19e1_row0_col4, #T_d19e1_row0_col5, #T_d19e1_row0_col6, #T_d19e1_row1_col0, #T_d19e1_row1_col2, #T_d19e1_row1_col4, #T_d19e1_row1_col7, #T_d19e1_row2_col0, #T_d19e1_row2_col1, #T_d19e1_row2_col2, #T_d19e1_row2_col3, #T_d19e1_row2_col4, #T_d19e1_row2_col5, #T_d19e1_row2_col6, #T_d19e1_row2_col7, #T_d19e1_row3_col0, #T_d19e1_row3_col1, #T_d19e1_row3_col2, #T_d19e1_row3_col3, #T_d19e1_row3_col4, #T_d19e1_row3_col5, #T_d19e1_row3_col6, #T_d19e1_row3_col7, #T_d19e1_row4_col0, #T_d19e1_row4_col1, #T_d19e1_row4_col2, #T_d19e1_row4_col3, #T_d19e1_row4_col4, #T_d19e1_row4_col5, #T_d19e1_row4_col6, #T_d19e1_row4_col7, #T_d19e1_row5_col0, #T_d19e1_row5_col1, #T_d19e1_row5_col2, #T_d19e1_row5_col3, #T_d19e1_row5_col4, #T_d19e1_row5_col5, #T_d19e1_row5_col6, #T_d19e1_row5_col7, #T_d19e1_row6_col0, #T_d19e1_row6_col1, #T_d19e1_row6_col2, #T_d19e1_row6_col3, #T_d19e1_row6_col4, #T_d19e1_row6_col5, #T_d19e1_row6_col6, #T_d19e1_row6_col7, #T_d19e1_row7_col0, #T_d19e1_row7_col1, #T_d19e1_row7_col2, #T_d19e1_row7_col3, #T_d19e1_row7_col4, #T_d19e1_row7_col5, #T_d19e1_row7_col6, #T_d19e1_row7_col7, #T_d19e1_row8_col0, #T_d19e1_row8_col1, #T_d19e1_row8_col2, #T_d19e1_row8_col3, #T_d19e1_row8_col4, #T_d19e1_row8_col5, #T_d19e1_row8_col6, #T_d19e1_row8_col7, #T_d19e1_row9_col0, #T_d19e1_row9_col1, #T_d19e1_row9_col2, #T_d19e1_row9_col3, #T_d19e1_row9_col4, #T_d19e1_row9_col5, #T_d19e1_row9_col6, #T_d19e1_row9_col7, #T_d19e1_row10_col0, #T_d19e1_row10_col1, #T_d19e1_row10_col2, #T_d19e1_row10_col3, #T_d19e1_row10_col4, #T_d19e1_row10_col5, #T_d19e1_row10_col6, #T_d19e1_row10_col7, #T_d19e1_row11_col0, #T_d19e1_row11_col1, #T_d19e1_row11_col2, #T_d19e1_row11_col3, #T_d19e1_row11_col4, #T_d19e1_row11_col5, #T_d19e1_row11_col6, #T_d19e1_row11_col7, #T_d19e1_row12_col0, #T_d19e1_row12_col1, #T_d19e1_row12_col2, #T_d19e1_row12_col3, #T_d19e1_row12_col5, #T_d19e1_row12_col6, #T_d19e1_row12_col7, #T_d19e1_row13_col0, #T_d19e1_row13_col1, #T_d19e1_row13_col2, #T_d19e1_row13_col3, #T_d19e1_row13_col4, #T_d19e1_row13_col5, #T_d19e1_row13_col6, #T_d19e1_row13_col7, #T_d19e1_row14_col0, #T_d19e1_row14_col1, #T_d19e1_row14_col2, #T_d19e1_row14_col3, #T_d19e1_row14_col4, #T_d19e1_row14_col5, #T_d19e1_row14_col6, #T_d19e1_row14_col7, #T_d19e1_row15_col0, #T_d19e1_row15_col1, #T_d19e1_row15_col2, #T_d19e1_row15_col3, #T_d19e1_row15_col4, #T_d19e1_row15_col5, #T_d19e1_row15_col6, #T_d19e1_row15_col7 {\n",
       "  text-align: left;\n",
       "}\n",
       "#T_d19e1_row0_col1, #T_d19e1_row0_col2, #T_d19e1_row0_col7, #T_d19e1_row1_col1, #T_d19e1_row1_col3, #T_d19e1_row1_col5, #T_d19e1_row1_col6, #T_d19e1_row12_col4 {\n",
       "  text-align: left;\n",
       "  background-color: yellow;\n",
       "}\n",
       "#T_d19e1_row0_col8, #T_d19e1_row1_col8, #T_d19e1_row2_col8, #T_d19e1_row3_col8, #T_d19e1_row4_col8, #T_d19e1_row5_col8, #T_d19e1_row6_col8, #T_d19e1_row7_col8, #T_d19e1_row9_col8, #T_d19e1_row10_col8, #T_d19e1_row11_col8, #T_d19e1_row12_col8, #T_d19e1_row14_col8 {\n",
       "  text-align: left;\n",
       "  background-color: lightgrey;\n",
       "}\n",
       "#T_d19e1_row8_col8, #T_d19e1_row13_col8, #T_d19e1_row15_col8 {\n",
       "  text-align: left;\n",
       "  background-color: yellow;\n",
       "  background-color: lightgrey;\n",
       "}\n",
       "</style>\n",
       "<table id=\"T_d19e1\">\n",
       "  <thead>\n",
       "    <tr>\n",
       "      <th class=\"blank level0\" >&nbsp;</th>\n",
       "      <th id=\"T_d19e1_level0_col0\" class=\"col_heading level0 col0\" >Model</th>\n",
       "      <th id=\"T_d19e1_level0_col1\" class=\"col_heading level0 col1\" >Accuracy</th>\n",
       "      <th id=\"T_d19e1_level0_col2\" class=\"col_heading level0 col2\" >AUC</th>\n",
       "      <th id=\"T_d19e1_level0_col3\" class=\"col_heading level0 col3\" >Recall</th>\n",
       "      <th id=\"T_d19e1_level0_col4\" class=\"col_heading level0 col4\" >Prec.</th>\n",
       "      <th id=\"T_d19e1_level0_col5\" class=\"col_heading level0 col5\" >F1</th>\n",
       "      <th id=\"T_d19e1_level0_col6\" class=\"col_heading level0 col6\" >Kappa</th>\n",
       "      <th id=\"T_d19e1_level0_col7\" class=\"col_heading level0 col7\" >MCC</th>\n",
       "      <th id=\"T_d19e1_level0_col8\" class=\"col_heading level0 col8\" >TT (Sec)</th>\n",
       "    </tr>\n",
       "  </thead>\n",
       "  <tbody>\n",
       "    <tr>\n",
       "      <th id=\"T_d19e1_level0_row0\" class=\"row_heading level0 row0\" >et</th>\n",
       "      <td id=\"T_d19e1_row0_col0\" class=\"data row0 col0\" >Extra Trees Classifier</td>\n",
       "      <td id=\"T_d19e1_row0_col1\" class=\"data row0 col1\" >0.8940</td>\n",
       "      <td id=\"T_d19e1_row0_col2\" class=\"data row0 col2\" >0.9587</td>\n",
       "      <td id=\"T_d19e1_row0_col3\" class=\"data row0 col3\" >0.8591</td>\n",
       "      <td id=\"T_d19e1_row0_col4\" class=\"data row0 col4\" >0.9005</td>\n",
       "      <td id=\"T_d19e1_row0_col5\" class=\"data row0 col5\" >0.8757</td>\n",
       "      <td id=\"T_d19e1_row0_col6\" class=\"data row0 col6\" >0.7837</td>\n",
       "      <td id=\"T_d19e1_row0_col7\" class=\"data row0 col7\" >0.7888</td>\n",
       "      <td id=\"T_d19e1_row0_col8\" class=\"data row0 col8\" >0.0930</td>\n",
       "    </tr>\n",
       "    <tr>\n",
       "      <th id=\"T_d19e1_level0_row1\" class=\"row_heading level0 row1\" >catboost</th>\n",
       "      <td id=\"T_d19e1_row1_col0\" class=\"data row1 col0\" >CatBoost Classifier</td>\n",
       "      <td id=\"T_d19e1_row1_col1\" class=\"data row1 col1\" >0.8940</td>\n",
       "      <td id=\"T_d19e1_row1_col2\" class=\"data row1 col2\" >0.9564</td>\n",
       "      <td id=\"T_d19e1_row1_col3\" class=\"data row1 col3\" >0.8639</td>\n",
       "      <td id=\"T_d19e1_row1_col4\" class=\"data row1 col4\" >0.8949</td>\n",
       "      <td id=\"T_d19e1_row1_col5\" class=\"data row1 col5\" >0.8770</td>\n",
       "      <td id=\"T_d19e1_row1_col6\" class=\"data row1 col6\" >0.7841</td>\n",
       "      <td id=\"T_d19e1_row1_col7\" class=\"data row1 col7\" >0.7871</td>\n",
       "      <td id=\"T_d19e1_row1_col8\" class=\"data row1 col8\" >1.7220</td>\n",
       "    </tr>\n",
       "    <tr>\n",
       "      <th id=\"T_d19e1_level0_row2\" class=\"row_heading level0 row2\" >rf</th>\n",
       "      <td id=\"T_d19e1_row2_col0\" class=\"data row2 col0\" >Random Forest Classifier</td>\n",
       "      <td id=\"T_d19e1_row2_col1\" class=\"data row2 col1\" >0.8858</td>\n",
       "      <td id=\"T_d19e1_row2_col2\" class=\"data row2 col2\" >0.9493</td>\n",
       "      <td id=\"T_d19e1_row2_col3\" class=\"data row2 col3\" >0.8541</td>\n",
       "      <td id=\"T_d19e1_row2_col4\" class=\"data row2 col4\" >0.8834</td>\n",
       "      <td id=\"T_d19e1_row2_col5\" class=\"data row2 col5\" >0.8668</td>\n",
       "      <td id=\"T_d19e1_row2_col6\" class=\"data row2 col6\" >0.7670</td>\n",
       "      <td id=\"T_d19e1_row2_col7\" class=\"data row2 col7\" >0.7693</td>\n",
       "      <td id=\"T_d19e1_row2_col8\" class=\"data row2 col8\" >0.1110</td>\n",
       "    </tr>\n",
       "    <tr>\n",
       "      <th id=\"T_d19e1_level0_row3\" class=\"row_heading level0 row3\" >lightgbm</th>\n",
       "      <td id=\"T_d19e1_row3_col0\" class=\"data row3 col0\" >Light Gradient Boosting Machine</td>\n",
       "      <td id=\"T_d19e1_row3_col1\" class=\"data row3 col1\" >0.8815</td>\n",
       "      <td id=\"T_d19e1_row3_col2\" class=\"data row3 col2\" >0.9538</td>\n",
       "      <td id=\"T_d19e1_row3_col3\" class=\"data row3 col3\" >0.8589</td>\n",
       "      <td id=\"T_d19e1_row3_col4\" class=\"data row3 col4\" >0.8737</td>\n",
       "      <td id=\"T_d19e1_row3_col5\" class=\"data row3 col5\" >0.8638</td>\n",
       "      <td id=\"T_d19e1_row3_col6\" class=\"data row3 col6\" >0.7591</td>\n",
       "      <td id=\"T_d19e1_row3_col7\" class=\"data row3 col7\" >0.7623</td>\n",
       "      <td id=\"T_d19e1_row3_col8\" class=\"data row3 col8\" >0.0210</td>\n",
       "    </tr>\n",
       "    <tr>\n",
       "      <th id=\"T_d19e1_level0_row4\" class=\"row_heading level0 row4\" >xgboost</th>\n",
       "      <td id=\"T_d19e1_row4_col0\" class=\"data row4 col0\" >Extreme Gradient Boosting</td>\n",
       "      <td id=\"T_d19e1_row4_col1\" class=\"data row4 col1\" >0.8795</td>\n",
       "      <td id=\"T_d19e1_row4_col2\" class=\"data row4 col2\" >0.9538</td>\n",
       "      <td id=\"T_d19e1_row4_col3\" class=\"data row4 col3\" >0.8545</td>\n",
       "      <td id=\"T_d19e1_row4_col4\" class=\"data row4 col4\" >0.8734</td>\n",
       "      <td id=\"T_d19e1_row4_col5\" class=\"data row4 col5\" >0.8604</td>\n",
       "      <td id=\"T_d19e1_row4_col6\" class=\"data row4 col6\" >0.7547</td>\n",
       "      <td id=\"T_d19e1_row4_col7\" class=\"data row4 col7\" >0.7591</td>\n",
       "      <td id=\"T_d19e1_row4_col8\" class=\"data row4 col8\" >0.1030</td>\n",
       "    </tr>\n",
       "    <tr>\n",
       "      <th id=\"T_d19e1_level0_row5\" class=\"row_heading level0 row5\" >gbc</th>\n",
       "      <td id=\"T_d19e1_row5_col0\" class=\"data row5 col0\" >Gradient Boosting Classifier</td>\n",
       "      <td id=\"T_d19e1_row5_col1\" class=\"data row5 col1\" >0.8712</td>\n",
       "      <td id=\"T_d19e1_row5_col2\" class=\"data row5 col2\" >0.9416</td>\n",
       "      <td id=\"T_d19e1_row5_col3\" class=\"data row5 col3\" >0.8541</td>\n",
       "      <td id=\"T_d19e1_row5_col4\" class=\"data row5 col4\" >0.8534</td>\n",
       "      <td id=\"T_d19e1_row5_col5\" class=\"data row5 col5\" >0.8531</td>\n",
       "      <td id=\"T_d19e1_row5_col6\" class=\"data row5 col6\" >0.7384</td>\n",
       "      <td id=\"T_d19e1_row5_col7\" class=\"data row5 col7\" >0.7393</td>\n",
       "      <td id=\"T_d19e1_row5_col8\" class=\"data row5 col8\" >0.0360</td>\n",
       "    </tr>\n",
       "    <tr>\n",
       "      <th id=\"T_d19e1_level0_row6\" class=\"row_heading level0 row6\" >ada</th>\n",
       "      <td id=\"T_d19e1_row6_col0\" class=\"data row6 col0\" >Ada Boost Classifier</td>\n",
       "      <td id=\"T_d19e1_row6_col1\" class=\"data row6 col1\" >0.8629</td>\n",
       "      <td id=\"T_d19e1_row6_col2\" class=\"data row6 col2\" >0.9335</td>\n",
       "      <td id=\"T_d19e1_row6_col3\" class=\"data row6 col3\" >0.8260</td>\n",
       "      <td id=\"T_d19e1_row6_col4\" class=\"data row6 col4\" >0.8572</td>\n",
       "      <td id=\"T_d19e1_row6_col5\" class=\"data row6 col5\" >0.8404</td>\n",
       "      <td id=\"T_d19e1_row6_col6\" class=\"data row6 col6\" >0.7204</td>\n",
       "      <td id=\"T_d19e1_row6_col7\" class=\"data row6 col7\" >0.7219</td>\n",
       "      <td id=\"T_d19e1_row6_col8\" class=\"data row6 col8\" >0.0330</td>\n",
       "    </tr>\n",
       "    <tr>\n",
       "      <th id=\"T_d19e1_level0_row7\" class=\"row_heading level0 row7\" >knn</th>\n",
       "      <td id=\"T_d19e1_row7_col0\" class=\"data row7 col0\" >K Neighbors Classifier</td>\n",
       "      <td id=\"T_d19e1_row7_col1\" class=\"data row7 col1\" >0.8400</td>\n",
       "      <td id=\"T_d19e1_row7_col2\" class=\"data row7 col2\" >0.9156</td>\n",
       "      <td id=\"T_d19e1_row7_col3\" class=\"data row7 col3\" >0.7801</td>\n",
       "      <td id=\"T_d19e1_row7_col4\" class=\"data row7 col4\" >0.8544</td>\n",
       "      <td id=\"T_d19e1_row7_col5\" class=\"data row7 col5\" >0.8111</td>\n",
       "      <td id=\"T_d19e1_row7_col6\" class=\"data row7 col6\" >0.6733</td>\n",
       "      <td id=\"T_d19e1_row7_col7\" class=\"data row7 col7\" >0.6802</td>\n",
       "      <td id=\"T_d19e1_row7_col8\" class=\"data row7 col8\" >0.0100</td>\n",
       "    </tr>\n",
       "    <tr>\n",
       "      <th id=\"T_d19e1_level0_row8\" class=\"row_heading level0 row8\" >dt</th>\n",
       "      <td id=\"T_d19e1_row8_col0\" class=\"data row8 col0\" >Decision Tree Classifier</td>\n",
       "      <td id=\"T_d19e1_row8_col1\" class=\"data row8 col1\" >0.8381</td>\n",
       "      <td id=\"T_d19e1_row8_col2\" class=\"data row8 col2\" >0.8361</td>\n",
       "      <td id=\"T_d19e1_row8_col3\" class=\"data row8 col3\" >0.8173</td>\n",
       "      <td id=\"T_d19e1_row8_col4\" class=\"data row8 col4\" >0.8175</td>\n",
       "      <td id=\"T_d19e1_row8_col5\" class=\"data row8 col5\" >0.8161</td>\n",
       "      <td id=\"T_d19e1_row8_col6\" class=\"data row8 col6\" >0.6715</td>\n",
       "      <td id=\"T_d19e1_row8_col7\" class=\"data row8 col7\" >0.6734</td>\n",
       "      <td id=\"T_d19e1_row8_col8\" class=\"data row8 col8\" >0.0050</td>\n",
       "    </tr>\n",
       "    <tr>\n",
       "      <th id=\"T_d19e1_level0_row9\" class=\"row_heading level0 row9\" >qda</th>\n",
       "      <td id=\"T_d19e1_row9_col0\" class=\"data row9 col0\" >Quadratic Discriminant Analysis</td>\n",
       "      <td id=\"T_d19e1_row9_col1\" class=\"data row9 col1\" >0.8338</td>\n",
       "      <td id=\"T_d19e1_row9_col2\" class=\"data row9 col2\" >0.9156</td>\n",
       "      <td id=\"T_d19e1_row9_col3\" class=\"data row9 col3\" >0.6957</td>\n",
       "      <td id=\"T_d19e1_row9_col4\" class=\"data row9 col4\" >0.9089</td>\n",
       "      <td id=\"T_d19e1_row9_col5\" class=\"data row9 col5\" >0.7854</td>\n",
       "      <td id=\"T_d19e1_row9_col6\" class=\"data row9 col6\" >0.6546</td>\n",
       "      <td id=\"T_d19e1_row9_col7\" class=\"data row9 col7\" >0.6723</td>\n",
       "      <td id=\"T_d19e1_row9_col8\" class=\"data row9 col8\" >0.0070</td>\n",
       "    </tr>\n",
       "    <tr>\n",
       "      <th id=\"T_d19e1_level0_row10\" class=\"row_heading level0 row10\" >lda</th>\n",
       "      <td id=\"T_d19e1_row10_col0\" class=\"data row10 col0\" >Linear Discriminant Analysis</td>\n",
       "      <td id=\"T_d19e1_row10_col1\" class=\"data row10 col1\" >0.8295</td>\n",
       "      <td id=\"T_d19e1_row10_col2\" class=\"data row10 col2\" >0.9225</td>\n",
       "      <td id=\"T_d19e1_row10_col3\" class=\"data row10 col3\" >0.6996</td>\n",
       "      <td id=\"T_d19e1_row10_col4\" class=\"data row10 col4\" >0.8946</td>\n",
       "      <td id=\"T_d19e1_row10_col5\" class=\"data row10 col5\" >0.7822</td>\n",
       "      <td id=\"T_d19e1_row10_col6\" class=\"data row10 col6\" >0.6461</td>\n",
       "      <td id=\"T_d19e1_row10_col7\" class=\"data row10 col7\" >0.6618</td>\n",
       "      <td id=\"T_d19e1_row10_col8\" class=\"data row10 col8\" >0.0070</td>\n",
       "    </tr>\n",
       "    <tr>\n",
       "      <th id=\"T_d19e1_level0_row11\" class=\"row_heading level0 row11\" >nb</th>\n",
       "      <td id=\"T_d19e1_row11_col0\" class=\"data row11 col0\" >Naive Bayes</td>\n",
       "      <td id=\"T_d19e1_row11_col1\" class=\"data row11 col1\" >0.8171</td>\n",
       "      <td id=\"T_d19e1_row11_col2\" class=\"data row11 col2\" >0.8240</td>\n",
       "      <td id=\"T_d19e1_row11_col3\" class=\"data row11 col3\" >0.7050</td>\n",
       "      <td id=\"T_d19e1_row11_col4\" class=\"data row11 col4\" >0.8590</td>\n",
       "      <td id=\"T_d19e1_row11_col5\" class=\"data row11 col5\" >0.7698</td>\n",
       "      <td id=\"T_d19e1_row11_col6\" class=\"data row11 col6\" >0.6219</td>\n",
       "      <td id=\"T_d19e1_row11_col7\" class=\"data row11 col7\" >0.6342</td>\n",
       "      <td id=\"T_d19e1_row11_col8\" class=\"data row11 col8\" >0.0060</td>\n",
       "    </tr>\n",
       "    <tr>\n",
       "      <th id=\"T_d19e1_level0_row12\" class=\"row_heading level0 row12\" >svm</th>\n",
       "      <td id=\"T_d19e1_row12_col0\" class=\"data row12 col0\" >SVM - Linear Kernel</td>\n",
       "      <td id=\"T_d19e1_row12_col1\" class=\"data row12 col1\" >0.7775</td>\n",
       "      <td id=\"T_d19e1_row12_col2\" class=\"data row12 col2\" >0.0000</td>\n",
       "      <td id=\"T_d19e1_row12_col3\" class=\"data row12 col3\" >0.5489</td>\n",
       "      <td id=\"T_d19e1_row12_col4\" class=\"data row12 col4\" >0.9252</td>\n",
       "      <td id=\"T_d19e1_row12_col5\" class=\"data row12 col5\" >0.6755</td>\n",
       "      <td id=\"T_d19e1_row12_col6\" class=\"data row12 col6\" >0.5276</td>\n",
       "      <td id=\"T_d19e1_row12_col7\" class=\"data row12 col7\" >0.5746</td>\n",
       "      <td id=\"T_d19e1_row12_col8\" class=\"data row12 col8\" >0.0080</td>\n",
       "    </tr>\n",
       "    <tr>\n",
       "      <th id=\"T_d19e1_level0_row13\" class=\"row_heading level0 row13\" >ridge</th>\n",
       "      <td id=\"T_d19e1_row13_col0\" class=\"data row13 col0\" >Ridge Classifier</td>\n",
       "      <td id=\"T_d19e1_row13_col1\" class=\"data row13 col1\" >0.7276</td>\n",
       "      <td id=\"T_d19e1_row13_col2\" class=\"data row13 col2\" >0.0000</td>\n",
       "      <td id=\"T_d19e1_row13_col3\" class=\"data row13 col3\" >0.6578</td>\n",
       "      <td id=\"T_d19e1_row13_col4\" class=\"data row13 col4\" >0.7091</td>\n",
       "      <td id=\"T_d19e1_row13_col5\" class=\"data row13 col5\" >0.6798</td>\n",
       "      <td id=\"T_d19e1_row13_col6\" class=\"data row13 col6\" >0.4440</td>\n",
       "      <td id=\"T_d19e1_row13_col7\" class=\"data row13 col7\" >0.4472</td>\n",
       "      <td id=\"T_d19e1_row13_col8\" class=\"data row13 col8\" >0.0050</td>\n",
       "    </tr>\n",
       "    <tr>\n",
       "      <th id=\"T_d19e1_level0_row14\" class=\"row_heading level0 row14\" >lr</th>\n",
       "      <td id=\"T_d19e1_row14_col0\" class=\"data row14 col0\" >Logistic Regression</td>\n",
       "      <td id=\"T_d19e1_row14_col1\" class=\"data row14 col1\" >0.6901</td>\n",
       "      <td id=\"T_d19e1_row14_col2\" class=\"data row14 col2\" >0.7590</td>\n",
       "      <td id=\"T_d19e1_row14_col3\" class=\"data row14 col3\" >0.5786</td>\n",
       "      <td id=\"T_d19e1_row14_col4\" class=\"data row14 col4\" >0.6768</td>\n",
       "      <td id=\"T_d19e1_row14_col5\" class=\"data row14 col5\" >0.6191</td>\n",
       "      <td id=\"T_d19e1_row14_col6\" class=\"data row14 col6\" >0.3627</td>\n",
       "      <td id=\"T_d19e1_row14_col7\" class=\"data row14 col7\" >0.3691</td>\n",
       "      <td id=\"T_d19e1_row14_col8\" class=\"data row14 col8\" >0.4970</td>\n",
       "    </tr>\n",
       "    <tr>\n",
       "      <th id=\"T_d19e1_level0_row15\" class=\"row_heading level0 row15\" >dummy</th>\n",
       "      <td id=\"T_d19e1_row15_col0\" class=\"data row15 col0\" >Dummy Classifier</td>\n",
       "      <td id=\"T_d19e1_row15_col1\" class=\"data row15 col1\" >0.5572</td>\n",
       "      <td id=\"T_d19e1_row15_col2\" class=\"data row15 col2\" >0.5000</td>\n",
       "      <td id=\"T_d19e1_row15_col3\" class=\"data row15 col3\" >0.0000</td>\n",
       "      <td id=\"T_d19e1_row15_col4\" class=\"data row15 col4\" >0.0000</td>\n",
       "      <td id=\"T_d19e1_row15_col5\" class=\"data row15 col5\" >0.0000</td>\n",
       "      <td id=\"T_d19e1_row15_col6\" class=\"data row15 col6\" >0.0000</td>\n",
       "      <td id=\"T_d19e1_row15_col7\" class=\"data row15 col7\" >0.0000</td>\n",
       "      <td id=\"T_d19e1_row15_col8\" class=\"data row15 col8\" >0.0050</td>\n",
       "    </tr>\n",
       "  </tbody>\n",
       "</table>\n"
      ],
      "text/plain": [
       "<pandas.io.formats.style.Styler at 0x7fe3d4058130>"
      ]
     },
     "metadata": {},
     "output_type": "display_data"
    }
   ],
   "source": [
    "best_model = compare_models()"
   ]
  },
  {
   "cell_type": "code",
   "execution_count": 41,
   "metadata": {},
   "outputs": [
    {
     "data": {
      "text/html": [
       "<style type=\"text/css\">\n",
       "#T_497fa_row10_col0, #T_497fa_row10_col1, #T_497fa_row10_col2, #T_497fa_row10_col3, #T_497fa_row10_col4, #T_497fa_row10_col5, #T_497fa_row10_col6 {\n",
       "  background: yellow;\n",
       "}\n",
       "</style>\n",
       "<table id=\"T_497fa\">\n",
       "  <thead>\n",
       "    <tr>\n",
       "      <th class=\"blank level0\" >&nbsp;</th>\n",
       "      <th id=\"T_497fa_level0_col0\" class=\"col_heading level0 col0\" >Accuracy</th>\n",
       "      <th id=\"T_497fa_level0_col1\" class=\"col_heading level0 col1\" >AUC</th>\n",
       "      <th id=\"T_497fa_level0_col2\" class=\"col_heading level0 col2\" >Recall</th>\n",
       "      <th id=\"T_497fa_level0_col3\" class=\"col_heading level0 col3\" >Prec.</th>\n",
       "      <th id=\"T_497fa_level0_col4\" class=\"col_heading level0 col4\" >F1</th>\n",
       "      <th id=\"T_497fa_level0_col5\" class=\"col_heading level0 col5\" >Kappa</th>\n",
       "      <th id=\"T_497fa_level0_col6\" class=\"col_heading level0 col6\" >MCC</th>\n",
       "    </tr>\n",
       "    <tr>\n",
       "      <th class=\"index_name level0\" >Fold</th>\n",
       "      <th class=\"blank col0\" >&nbsp;</th>\n",
       "      <th class=\"blank col1\" >&nbsp;</th>\n",
       "      <th class=\"blank col2\" >&nbsp;</th>\n",
       "      <th class=\"blank col3\" >&nbsp;</th>\n",
       "      <th class=\"blank col4\" >&nbsp;</th>\n",
       "      <th class=\"blank col5\" >&nbsp;</th>\n",
       "      <th class=\"blank col6\" >&nbsp;</th>\n",
       "    </tr>\n",
       "  </thead>\n",
       "  <tbody>\n",
       "    <tr>\n",
       "      <th id=\"T_497fa_level0_row0\" class=\"row_heading level0 row0\" >0</th>\n",
       "      <td id=\"T_497fa_row0_col0\" class=\"data row0 col0\" >0.8571</td>\n",
       "      <td id=\"T_497fa_row0_col1\" class=\"data row0 col1\" >0.8939</td>\n",
       "      <td id=\"T_497fa_row0_col2\" class=\"data row0 col2\" >0.7727</td>\n",
       "      <td id=\"T_497fa_row0_col3\" class=\"data row0 col3\" >0.8947</td>\n",
       "      <td id=\"T_497fa_row0_col4\" class=\"data row0 col4\" >0.8293</td>\n",
       "      <td id=\"T_497fa_row0_col5\" class=\"data row0 col5\" >0.7076</td>\n",
       "      <td id=\"T_497fa_row0_col6\" class=\"data row0 col6\" >0.7132</td>\n",
       "    </tr>\n",
       "    <tr>\n",
       "      <th id=\"T_497fa_level0_row1\" class=\"row_heading level0 row1\" >1</th>\n",
       "      <td id=\"T_497fa_row1_col0\" class=\"data row1 col0\" >0.9375</td>\n",
       "      <td id=\"T_497fa_row1_col1\" class=\"data row1 col1\" >0.9843</td>\n",
       "      <td id=\"T_497fa_row1_col2\" class=\"data row1 col2\" >0.9091</td>\n",
       "      <td id=\"T_497fa_row1_col3\" class=\"data row1 col3\" >0.9524</td>\n",
       "      <td id=\"T_497fa_row1_col4\" class=\"data row1 col4\" >0.9302</td>\n",
       "      <td id=\"T_497fa_row1_col5\" class=\"data row1 col5\" >0.8737</td>\n",
       "      <td id=\"T_497fa_row1_col6\" class=\"data row1 col6\" >0.8745</td>\n",
       "    </tr>\n",
       "    <tr>\n",
       "      <th id=\"T_497fa_level0_row2\" class=\"row_heading level0 row2\" >2</th>\n",
       "      <td id=\"T_497fa_row2_col0\" class=\"data row2 col0\" >0.8958</td>\n",
       "      <td id=\"T_497fa_row2_col1\" class=\"data row2 col1\" >0.9441</td>\n",
       "      <td id=\"T_497fa_row2_col2\" class=\"data row2 col2\" >0.8182</td>\n",
       "      <td id=\"T_497fa_row2_col3\" class=\"data row2 col3\" >0.9474</td>\n",
       "      <td id=\"T_497fa_row2_col4\" class=\"data row2 col4\" >0.8780</td>\n",
       "      <td id=\"T_497fa_row2_col5\" class=\"data row2 col5\" >0.7880</td>\n",
       "      <td id=\"T_497fa_row2_col6\" class=\"data row2 col6\" >0.7944</td>\n",
       "    </tr>\n",
       "    <tr>\n",
       "      <th id=\"T_497fa_level0_row3\" class=\"row_heading level0 row3\" >3</th>\n",
       "      <td id=\"T_497fa_row3_col0\" class=\"data row3 col0\" >0.8333</td>\n",
       "      <td id=\"T_497fa_row3_col1\" class=\"data row3 col1\" >0.9136</td>\n",
       "      <td id=\"T_497fa_row3_col2\" class=\"data row3 col2\" >0.7619</td>\n",
       "      <td id=\"T_497fa_row3_col3\" class=\"data row3 col3\" >0.8421</td>\n",
       "      <td id=\"T_497fa_row3_col4\" class=\"data row3 col4\" >0.8000</td>\n",
       "      <td id=\"T_497fa_row3_col5\" class=\"data row3 col5\" >0.6578</td>\n",
       "      <td id=\"T_497fa_row3_col6\" class=\"data row3 col6\" >0.6602</td>\n",
       "    </tr>\n",
       "    <tr>\n",
       "      <th id=\"T_497fa_level0_row4\" class=\"row_heading level0 row4\" >4</th>\n",
       "      <td id=\"T_497fa_row4_col0\" class=\"data row4 col0\" >0.8958</td>\n",
       "      <td id=\"T_497fa_row4_col1\" class=\"data row4 col1\" >0.9436</td>\n",
       "      <td id=\"T_497fa_row4_col2\" class=\"data row4 col2\" >0.8095</td>\n",
       "      <td id=\"T_497fa_row4_col3\" class=\"data row4 col3\" >0.9444</td>\n",
       "      <td id=\"T_497fa_row4_col4\" class=\"data row4 col4\" >0.8718</td>\n",
       "      <td id=\"T_497fa_row4_col5\" class=\"data row4 col5\" >0.7849</td>\n",
       "      <td id=\"T_497fa_row4_col6\" class=\"data row4 col6\" >0.7916</td>\n",
       "    </tr>\n",
       "    <tr>\n",
       "      <th id=\"T_497fa_level0_row5\" class=\"row_heading level0 row5\" >5</th>\n",
       "      <td id=\"T_497fa_row5_col0\" class=\"data row5 col0\" >0.8958</td>\n",
       "      <td id=\"T_497fa_row5_col1\" class=\"data row5 col1\" >0.9524</td>\n",
       "      <td id=\"T_497fa_row5_col2\" class=\"data row5 col2\" >0.8571</td>\n",
       "      <td id=\"T_497fa_row5_col3\" class=\"data row5 col3\" >0.9000</td>\n",
       "      <td id=\"T_497fa_row5_col4\" class=\"data row5 col4\" >0.8780</td>\n",
       "      <td id=\"T_497fa_row5_col5\" class=\"data row5 col5\" >0.7872</td>\n",
       "      <td id=\"T_497fa_row5_col6\" class=\"data row5 col6\" >0.7879</td>\n",
       "    </tr>\n",
       "    <tr>\n",
       "      <th id=\"T_497fa_level0_row6\" class=\"row_heading level0 row6\" >6</th>\n",
       "      <td id=\"T_497fa_row6_col0\" class=\"data row6 col0\" >0.9375</td>\n",
       "      <td id=\"T_497fa_row6_col1\" class=\"data row6 col1\" >0.9753</td>\n",
       "      <td id=\"T_497fa_row6_col2\" class=\"data row6 col2\" >0.9524</td>\n",
       "      <td id=\"T_497fa_row6_col3\" class=\"data row6 col3\" >0.9091</td>\n",
       "      <td id=\"T_497fa_row6_col4\" class=\"data row6 col4\" >0.9302</td>\n",
       "      <td id=\"T_497fa_row6_col5\" class=\"data row6 col5\" >0.8737</td>\n",
       "      <td id=\"T_497fa_row6_col6\" class=\"data row6 col6\" >0.8745</td>\n",
       "    </tr>\n",
       "    <tr>\n",
       "      <th id=\"T_497fa_level0_row7\" class=\"row_heading level0 row7\" >7</th>\n",
       "      <td id=\"T_497fa_row7_col0\" class=\"data row7 col0\" >0.8750</td>\n",
       "      <td id=\"T_497fa_row7_col1\" class=\"data row7 col1\" >0.9735</td>\n",
       "      <td id=\"T_497fa_row7_col2\" class=\"data row7 col2\" >0.9524</td>\n",
       "      <td id=\"T_497fa_row7_col3\" class=\"data row7 col3\" >0.8000</td>\n",
       "      <td id=\"T_497fa_row7_col4\" class=\"data row7 col4\" >0.8696</td>\n",
       "      <td id=\"T_497fa_row7_col5\" class=\"data row7 col5\" >0.7513</td>\n",
       "      <td id=\"T_497fa_row7_col6\" class=\"data row7 col6\" >0.7618</td>\n",
       "    </tr>\n",
       "    <tr>\n",
       "      <th id=\"T_497fa_level0_row8\" class=\"row_heading level0 row8\" >8</th>\n",
       "      <td id=\"T_497fa_row8_col0\" class=\"data row8 col0\" >0.8125</td>\n",
       "      <td id=\"T_497fa_row8_col1\" class=\"data row8 col1\" >0.9330</td>\n",
       "      <td id=\"T_497fa_row8_col2\" class=\"data row8 col2\" >0.6190</td>\n",
       "      <td id=\"T_497fa_row8_col3\" class=\"data row8 col3\" >0.9286</td>\n",
       "      <td id=\"T_497fa_row8_col4\" class=\"data row8 col4\" >0.7429</td>\n",
       "      <td id=\"T_497fa_row8_col5\" class=\"data row8 col5\" >0.6044</td>\n",
       "      <td id=\"T_497fa_row8_col6\" class=\"data row8 col6\" >0.6352</td>\n",
       "    </tr>\n",
       "    <tr>\n",
       "      <th id=\"T_497fa_level0_row9\" class=\"row_heading level0 row9\" >9</th>\n",
       "      <td id=\"T_497fa_row9_col0\" class=\"data row9 col0\" >0.8542</td>\n",
       "      <td id=\"T_497fa_row9_col1\" class=\"data row9 col1\" >0.9312</td>\n",
       "      <td id=\"T_497fa_row9_col2\" class=\"data row9 col2\" >0.8571</td>\n",
       "      <td id=\"T_497fa_row9_col3\" class=\"data row9 col3\" >0.8182</td>\n",
       "      <td id=\"T_497fa_row9_col4\" class=\"data row9 col4\" >0.8372</td>\n",
       "      <td id=\"T_497fa_row9_col5\" class=\"data row9 col5\" >0.7053</td>\n",
       "      <td id=\"T_497fa_row9_col6\" class=\"data row9 col6\" >0.7059</td>\n",
       "    </tr>\n",
       "    <tr>\n",
       "      <th id=\"T_497fa_level0_row10\" class=\"row_heading level0 row10\" >Mean</th>\n",
       "      <td id=\"T_497fa_row10_col0\" class=\"data row10 col0\" >0.8795</td>\n",
       "      <td id=\"T_497fa_row10_col1\" class=\"data row10 col1\" >0.9445</td>\n",
       "      <td id=\"T_497fa_row10_col2\" class=\"data row10 col2\" >0.8310</td>\n",
       "      <td id=\"T_497fa_row10_col3\" class=\"data row10 col3\" >0.8937</td>\n",
       "      <td id=\"T_497fa_row10_col4\" class=\"data row10 col4\" >0.8567</td>\n",
       "      <td id=\"T_497fa_row10_col5\" class=\"data row10 col5\" >0.7534</td>\n",
       "      <td id=\"T_497fa_row10_col6\" class=\"data row10 col6\" >0.7599</td>\n",
       "    </tr>\n",
       "    <tr>\n",
       "      <th id=\"T_497fa_level0_row11\" class=\"row_heading level0 row11\" >Std</th>\n",
       "      <td id=\"T_497fa_row11_col0\" class=\"data row11 col0\" >0.0391</td>\n",
       "      <td id=\"T_497fa_row11_col1\" class=\"data row11 col1\" >0.0269</td>\n",
       "      <td id=\"T_497fa_row11_col2\" class=\"data row11 col2\" >0.0952</td>\n",
       "      <td id=\"T_497fa_row11_col3\" class=\"data row11 col3\" >0.0525</td>\n",
       "      <td id=\"T_497fa_row11_col4\" class=\"data row11 col4\" >0.0542</td>\n",
       "      <td id=\"T_497fa_row11_col5\" class=\"data row11 col5\" >0.0825</td>\n",
       "      <td id=\"T_497fa_row11_col6\" class=\"data row11 col6\" >0.0773</td>\n",
       "    </tr>\n",
       "  </tbody>\n",
       "</table>\n"
      ],
      "text/plain": [
       "<pandas.io.formats.style.Styler at 0x7fe3d45bf790>"
      ]
     },
     "metadata": {},
     "output_type": "display_data"
    }
   ],
   "source": [
    "tuned_et = tune_model(best_model)"
   ]
  },
  {
   "cell_type": "markdown",
   "metadata": {},
   "source": [
    "# Model Evaluation"
   ]
  },
  {
   "cell_type": "code",
   "execution_count": 42,
   "metadata": {},
   "outputs": [
    {
     "data": {
      "image/png": "[encoded data removed]",
      "text/plain": [
       "<Figure size 576x396 with 1 Axes>"
      ]
     },
     "metadata": {},
     "output_type": "display_data"
    }
   ],
   "source": [
    "plot_model(tuned_et, plot = 'auc')"
   ]
  },
  {
   "cell_type": "code",
   "execution_count": 43,
   "metadata": {},
   "outputs": [
    {
     "data": {
      "image/png": "[encoded data removed]",
      "text/plain": [
       "<Figure size 800x500 with 1 Axes>"
      ]
     },
     "metadata": {},
     "output_type": "display_data"
    }
   ],
   "source": [
    "plot_model(tuned_et, plot='feature')"
   ]
  },
  {
   "cell_type": "code",
   "execution_count": 44,
   "metadata": {},
   "outputs": [
    {
     "data": {
      "image/png": "[encoded data removed]",
      "text/plain": [
       "<Figure size 576x396 with 1 Axes>"
      ]
     },
     "metadata": {},
     "output_type": "display_data"
    }
   ],
   "source": [
    "plot_model(tuned_et, plot = 'confusion_matrix')"
   ]
  },
  {
   "cell_type": "code",
   "execution_count": 45,
   "metadata": {},
   "outputs": [
    {
     "name": "stderr",
     "output_type": "stream",
     "text": [
      "/home/rcp/Documents/doutorado/genial/venv/lib/python3.8/site-packages/sklearn/metrics/_classification.py:1221: UndefinedMetricWarning: Precision is ill-defined and being set to 0.0 due to no predicted samples. Use `zero_division` parameter to control this behavior.\n",
      "  _warn_prf(average, modifier, msg_start, len(result))\n",
      "/home/rcp/Documents/doutorado/genial/venv/lib/python3.8/site-packages/sklearn/metrics/_classification.py:846: RuntimeWarning: invalid value encountered in double_scalars\n",
      "  mcc = cov_ytyp / np.sqrt(cov_ytyt * cov_ypyp)\n"
     ]
    }
   ],
   "source": [
    "# finalize model\n",
    "final_et = finalize_model(tuned_et)"
   ]
  },
  {
   "cell_type": "markdown",
   "metadata": {},
   "source": [
    "# Testing the Model"
   ]
  },
  {
   "cell_type": "code",
   "execution_count": 46,
   "metadata": {},
   "outputs": [],
   "source": [
    "test_target= test['target']"
   ]
  },
  {
   "cell_type": "code",
   "execution_count": 47,
   "metadata": {},
   "outputs": [],
   "source": [
    "test.drop(columns='target', inplace=True)"
   ]
  },
  {
   "cell_type": "code",
   "execution_count": 48,
   "metadata": {},
   "outputs": [],
   "source": [
    "prediction = predict_model(final_et, data=test)"
   ]
  },
  {
   "cell_type": "code",
   "execution_count": 52,
   "metadata": {},
   "outputs": [
    {
     "name": "stdout",
     "output_type": "stream",
     "text": [
      "              precision    recall  f1-score   support\n",
      "\n",
      "        DOWN       0.88      0.95      0.91       120\n",
      "          UP       0.95      0.87      0.91       121\n",
      "\n",
      "    accuracy                           0.91       241\n",
      "   macro avg       0.91      0.91      0.91       241\n",
      "weighted avg       0.91      0.91      0.91       241\n",
      "\n"
     ]
    }
   ],
   "source": [
    "print(classification_report(prediction.Label, test_target))"
   ]
  },
  {
   "cell_type": "code",
   "execution_count": 53,
   "metadata": {},
   "outputs": [
    {
     "data": {
      "text/plain": [
       "0.9087"
      ]
     },
     "execution_count": 53,
     "metadata": {},
     "output_type": "execute_result"
    }
   ],
   "source": [
    "\n",
    "check_metric(test_target, prediction['Label'], metric = 'Accuracy')"
   ]
  },
  {
   "cell_type": "code",
   "execution_count": 54,
   "metadata": {},
   "outputs": [
    {
     "name": "stdout",
     "output_type": "stream",
     "text": [
      "Transformation Pipeline and Model Successfully Saved\n"
     ]
    },
    {
     "data": {
      "text/plain": [
       "(Pipeline(memory=None,\n",
       "          steps=[('dtypes',\n",
       "                  DataTypes_Auto_infer(categorical_features=[],\n",
       "                                       display_types=True, features_todrop=[],\n",
       "                                       id_columns=[],\n",
       "                                       ml_usecase='classification',\n",
       "                                       numerical_features=[], target='target',\n",
       "                                       time_features=[])),\n",
       "                 ('imputer',\n",
       "                  Simple_Imputer(categorical_strategy='not_available',\n",
       "                                 fill_value_categorical=None,\n",
       "                                 fill_value_numerical=None,\n",
       "                                 numeric_strat...\n",
       "                  ExtraTreesClassifier(bootstrap=False, ccp_alpha=0.0,\n",
       "                                       class_weight={}, criterion='entropy',\n",
       "                                       max_depth=5, max_features=1.0,\n",
       "                                       max_leaf_nodes=None, max_samples=None,\n",
       "                                       min_impurity_decrease=0.0002,\n",
       "                                       min_impurity_split=None,\n",
       "                                       min_samples_leaf=5, min_samples_split=10,\n",
       "                                       min_weight_fraction_leaf=0.0,\n",
       "                                       n_estimators=150, n_jobs=-1,\n",
       "                                       oob_score=False, random_state=123,\n",
       "                                       verbose=0, warm_start=False)]],\n",
       "          verbose=False),\n",
       " 'Final_RF_Model.pkl')"
      ]
     },
     "execution_count": 54,
     "metadata": {},
     "output_type": "execute_result"
    }
   ],
   "source": [
    "save_model(final_et,'Final_RF_Model')"
   ]
  }
 ],
 "metadata": {
  "kernelspec": {
   "display_name": "Python 3.8.10 ('venv')",
   "language": "python",
   "name": "python3"
  },
  "language_info": {
   "codemirror_mode": {
    "name": "ipython",
    "version": 3
   },
   "file_extension": ".py",
   "mimetype": "text/x-python",
   "name": "python",
   "nbconvert_exporter": "python",
   "pygments_lexer": "ipython3",
   "version": "3.8.10"
  },
  "vscode": {
   "interpreter": {
    "hash": "194f9e088b7174cdbed2a305f53f37a326f8f36f0bbf00d13f62a64c26478b31"
   }
  }
 },
 "nbformat": 4,
 "nbformat_minor": 4
}
