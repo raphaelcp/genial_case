{
 "cells": [
  {
   "cell_type": "code",
   "execution_count": 1,
   "metadata": {},
   "outputs": [
    {
     "data": {
      "text/html": [
       "<div>\n",
       "<style scoped>\n",
       "    .dataframe tbody tr th:only-of-type {\n",
       "        vertical-align: middle;\n",
       "    }\n",
       "\n",
       "    .dataframe tbody tr th {\n",
       "        vertical-align: top;\n",
       "    }\n",
       "\n",
       "    .dataframe thead th {\n",
       "        text-align: right;\n",
       "    }\n",
       "</style>\n",
       "<table border=\"1\" class=\"dataframe\">\n",
       "  <thead>\n",
       "    <tr style=\"text-align: right;\">\n",
       "      <th></th>\n",
       "      <th>date</th>\n",
       "      <th>day</th>\n",
       "      <th>period</th>\n",
       "      <th>nswprice</th>\n",
       "      <th>nswdemand</th>\n",
       "      <th>vicprice</th>\n",
       "      <th>vicdemand</th>\n",
       "      <th>transfer</th>\n",
       "      <th>class</th>\n",
       "      <th>target</th>\n",
       "    </tr>\n",
       "  </thead>\n",
       "  <tbody>\n",
       "    <tr>\n",
       "      <th>0</th>\n",
       "      <td>0.0000</td>\n",
       "      <td>2</td>\n",
       "      <td>0.000000</td>\n",
       "      <td>0.056443</td>\n",
       "      <td>0.439155</td>\n",
       "      <td>0.003467</td>\n",
       "      <td>0.422915</td>\n",
       "      <td>0.414912</td>\n",
       "      <td>UP</td>\n",
       "      <td>1</td>\n",
       "    </tr>\n",
       "    <tr>\n",
       "      <th>1</th>\n",
       "      <td>0.0000</td>\n",
       "      <td>2</td>\n",
       "      <td>0.021277</td>\n",
       "      <td>0.051699</td>\n",
       "      <td>0.415055</td>\n",
       "      <td>0.003467</td>\n",
       "      <td>0.422915</td>\n",
       "      <td>0.414912</td>\n",
       "      <td>UP</td>\n",
       "      <td>1</td>\n",
       "    </tr>\n",
       "    <tr>\n",
       "      <th>2</th>\n",
       "      <td>0.0000</td>\n",
       "      <td>2</td>\n",
       "      <td>0.042553</td>\n",
       "      <td>0.051489</td>\n",
       "      <td>0.385004</td>\n",
       "      <td>0.003467</td>\n",
       "      <td>0.422915</td>\n",
       "      <td>0.414912</td>\n",
       "      <td>UP</td>\n",
       "      <td>1</td>\n",
       "    </tr>\n",
       "    <tr>\n",
       "      <th>3</th>\n",
       "      <td>0.0000</td>\n",
       "      <td>2</td>\n",
       "      <td>0.063830</td>\n",
       "      <td>0.045485</td>\n",
       "      <td>0.314639</td>\n",
       "      <td>0.003467</td>\n",
       "      <td>0.422915</td>\n",
       "      <td>0.414912</td>\n",
       "      <td>UP</td>\n",
       "      <td>1</td>\n",
       "    </tr>\n",
       "    <tr>\n",
       "      <th>4</th>\n",
       "      <td>0.0000</td>\n",
       "      <td>2</td>\n",
       "      <td>0.085106</td>\n",
       "      <td>0.042482</td>\n",
       "      <td>0.251116</td>\n",
       "      <td>0.003467</td>\n",
       "      <td>0.422915</td>\n",
       "      <td>0.414912</td>\n",
       "      <td>DOWN</td>\n",
       "      <td>0</td>\n",
       "    </tr>\n",
       "    <tr>\n",
       "      <th>...</th>\n",
       "      <td>...</td>\n",
       "      <td>...</td>\n",
       "      <td>...</td>\n",
       "      <td>...</td>\n",
       "      <td>...</td>\n",
       "      <td>...</td>\n",
       "      <td>...</td>\n",
       "      <td>...</td>\n",
       "      <td>...</td>\n",
       "      <td>...</td>\n",
       "    </tr>\n",
       "    <tr>\n",
       "      <th>45307</th>\n",
       "      <td>0.9158</td>\n",
       "      <td>7</td>\n",
       "      <td>0.914894</td>\n",
       "      <td>0.044224</td>\n",
       "      <td>0.340672</td>\n",
       "      <td>0.003033</td>\n",
       "      <td>0.255049</td>\n",
       "      <td>0.405263</td>\n",
       "      <td>DOWN</td>\n",
       "      <td>0</td>\n",
       "    </tr>\n",
       "    <tr>\n",
       "      <th>45308</th>\n",
       "      <td>0.9158</td>\n",
       "      <td>7</td>\n",
       "      <td>0.936170</td>\n",
       "      <td>0.044884</td>\n",
       "      <td>0.355549</td>\n",
       "      <td>0.003072</td>\n",
       "      <td>0.241326</td>\n",
       "      <td>0.420614</td>\n",
       "      <td>DOWN</td>\n",
       "      <td>0</td>\n",
       "    </tr>\n",
       "    <tr>\n",
       "      <th>45309</th>\n",
       "      <td>0.9158</td>\n",
       "      <td>7</td>\n",
       "      <td>0.957447</td>\n",
       "      <td>0.043593</td>\n",
       "      <td>0.340970</td>\n",
       "      <td>0.002983</td>\n",
       "      <td>0.247799</td>\n",
       "      <td>0.362281</td>\n",
       "      <td>DOWN</td>\n",
       "      <td>0</td>\n",
       "    </tr>\n",
       "    <tr>\n",
       "      <th>45310</th>\n",
       "      <td>0.9158</td>\n",
       "      <td>7</td>\n",
       "      <td>0.978723</td>\n",
       "      <td>0.066651</td>\n",
       "      <td>0.329366</td>\n",
       "      <td>0.004630</td>\n",
       "      <td>0.345417</td>\n",
       "      <td>0.206579</td>\n",
       "      <td>UP</td>\n",
       "      <td>1</td>\n",
       "    </tr>\n",
       "    <tr>\n",
       "      <th>45311</th>\n",
       "      <td>0.9158</td>\n",
       "      <td>7</td>\n",
       "      <td>1.000000</td>\n",
       "      <td>0.050679</td>\n",
       "      <td>0.288753</td>\n",
       "      <td>0.003542</td>\n",
       "      <td>0.355256</td>\n",
       "      <td>0.231140</td>\n",
       "      <td>DOWN</td>\n",
       "      <td>0</td>\n",
       "    </tr>\n",
       "  </tbody>\n",
       "</table>\n",
       "<p>45312 rows × 10 columns</p>\n",
       "</div>"
      ],
      "text/plain": [
       "         date day    period  nswprice  nswdemand  vicprice  vicdemand  \\\n",
       "0      0.0000   2  0.000000  0.056443   0.439155  0.003467   0.422915   \n",
       "1      0.0000   2  0.021277  0.051699   0.415055  0.003467   0.422915   \n",
       "2      0.0000   2  0.042553  0.051489   0.385004  0.003467   0.422915   \n",
       "3      0.0000   2  0.063830  0.045485   0.314639  0.003467   0.422915   \n",
       "4      0.0000   2  0.085106  0.042482   0.251116  0.003467   0.422915   \n",
       "...       ...  ..       ...       ...        ...       ...        ...   \n",
       "45307  0.9158   7  0.914894  0.044224   0.340672  0.003033   0.255049   \n",
       "45308  0.9158   7  0.936170  0.044884   0.355549  0.003072   0.241326   \n",
       "45309  0.9158   7  0.957447  0.043593   0.340970  0.002983   0.247799   \n",
       "45310  0.9158   7  0.978723  0.066651   0.329366  0.004630   0.345417   \n",
       "45311  0.9158   7  1.000000  0.050679   0.288753  0.003542   0.355256   \n",
       "\n",
       "       transfer class  target  \n",
       "0      0.414912    UP       1  \n",
       "1      0.414912    UP       1  \n",
       "2      0.414912    UP       1  \n",
       "3      0.414912    UP       1  \n",
       "4      0.414912  DOWN       0  \n",
       "...         ...   ...     ...  \n",
       "45307  0.405263  DOWN       0  \n",
       "45308  0.420614  DOWN       0  \n",
       "45309  0.362281  DOWN       0  \n",
       "45310  0.206579    UP       1  \n",
       "45311  0.231140  DOWN       0  \n",
       "\n",
       "[45312 rows x 10 columns]"
      ]
     },
     "execution_count": 1,
     "metadata": {},
     "output_type": "execute_result"
    }
   ],
   "source": [
    "import numpy as np\n",
    "import pandas as pd\n",
    "\n",
    "from sklearn import datasets as ds\n",
    "from sklearn.metrics import classification_report, confusion_matrix\n",
    "from pycaret.classification import *\n",
    "import matplotlib.pyplot as plt\n",
    "\n",
    "import warnings\n",
    "\n",
    "warnings.filterwarnings('ignore')\n",
    "df = ds.fetch_openml(data_id=151,as_frame=True, return_X_y=True)\n",
    "\n",
    "(\n",
    "\n",
    "    pd.concat(df, axis=1)\n",
    "\n",
    "    .assign(target=lambda x: (x['class']=='UP')*1)\n",
    "\n",
    ")"
   ]
  },
  {
   "cell_type": "markdown",
   "metadata": {},
   "source": [
    "Electricity is a widely used dataset described by M. Harries and analyzed by J. Gama (see papers below). This data was collected from the Australian New South Wales Electricity Market. In this market, prices are not fixed and are affected by demand and supply of the market. They are set every five minutes. Electricity transfers to/from the neighboring state of Victoria were done to alleviate fluctuations.\n",
    "\n",
    "The dataset (originally named ELEC2) contains 45,312 instances dated from 7 May 1996 to 5 December 1998. Each example of the dataset refers to a period of 30 minutes, i.e. there are 48 instances for each time period of one day. Each example on the dataset has 5 fields, the day of week, the time stamp, the New South Wales electricity demand, the Victoria electricity demand, the scheduled electricity transfer between states and the class label. The class label identifies the change of the price (UP or DOWN) in New South Wales relative to a moving average of the last 24 hours (and removes the impact of longer term price trends).\n",
    "\n",
    "The data was normalized by A. Bifet."
   ]
  },
  {
   "cell_type": "markdown",
   "metadata": {},
   "source": [
    "\n",
    "    Date: date between 7 May 1996 to 5 December 1998. Here normalized between 0 and 1\n",
    "    Day: day of the week (1-7)\n",
    "    Period: time of the measurement (1-48) in half hour intervals over 24 hours. Here normalized between 0 and 1\n",
    "    NSWprice: New South Wales electricity price, normalized between 0 and 1\n",
    "    NSWdemand: New South Wales electricity demand, normalized between 0 and 1\n",
    "    VICprice: Victoria electricity price, normalized between 0 and 1\n",
    "    VICdemand: Victoria electricity demand, normalized between 0 and 1\n",
    "    transfer: scheduled electricity transfer between both states, normalized between 0 and 1\n"
   ]
  },
  {
   "cell_type": "markdown",
   "metadata": {},
   "source": [
    "# Exploratory Data Analysis"
   ]
  },
  {
   "cell_type": "markdown",
   "metadata": {},
   "source": [
    "Firts step is to understand the data and have a better picture of the problem."
   ]
  },
  {
   "cell_type": "code",
   "execution_count": 2,
   "metadata": {},
   "outputs": [],
   "source": [
    "idx = pd.date_range(start='1996-05-07', end='1998-12-7', freq='0.5H')"
   ]
  },
  {
   "cell_type": "code",
   "execution_count": 3,
   "metadata": {},
   "outputs": [],
   "source": [
    "idx = idx[:-1]"
   ]
  },
  {
   "cell_type": "code",
   "execution_count": 4,
   "metadata": {},
   "outputs": [],
   "source": [
    "df_features = df[0]"
   ]
  },
  {
   "cell_type": "code",
   "execution_count": 5,
   "metadata": {},
   "outputs": [],
   "source": [
    "df_features.set_index(idx, inplace=True)"
   ]
  },
  {
   "cell_type": "code",
   "execution_count": 6,
   "metadata": {},
   "outputs": [],
   "source": [
    "df_features = df_features[['nswprice', 'nswdemand', 'vicprice', 'vicdemand', 'transfer']]"
   ]
  },
  {
   "cell_type": "code",
   "execution_count": 7,
   "metadata": {},
   "outputs": [
    {
     "name": "stdout",
     "output_type": "stream",
     "text": [
      "<class 'pandas.core.frame.DataFrame'>\n",
      "DatetimeIndex: 45312 entries, 1996-05-07 00:00:00 to 1998-12-06 23:30:00\n",
      "Freq: 30T\n",
      "Data columns (total 5 columns):\n",
      " #   Column     Non-Null Count  Dtype  \n",
      "---  ------     --------------  -----  \n",
      " 0   nswprice   45312 non-null  float64\n",
      " 1   nswdemand  45312 non-null  float64\n",
      " 2   vicprice   45312 non-null  float64\n",
      " 3   vicdemand  45312 non-null  float64\n",
      " 4   transfer   45312 non-null  float64\n",
      "dtypes: float64(5)\n",
      "memory usage: 2.1 MB\n"
     ]
    }
   ],
   "source": [
    "df_features.info()"
   ]
  },
  {
   "cell_type": "code",
   "execution_count": 8,
   "metadata": {},
   "outputs": [
    {
     "data": {
      "text/plain": [
       "<AxesSubplot:>"
      ]
     },
     "execution_count": 8,
     "metadata": {},
     "output_type": "execute_result"
    },
    {
     "data": {
      "image/png": "[encoded data removed]",
      "text/plain": [
       "<Figure size 432x288 with 1 Axes>"
      ]
     },
     "metadata": {
      "needs_background": "light"
     },
     "output_type": "display_data"
    }
   ],
   "source": [
    "df_features.nswprice.plot()"
   ]
  },
  {
   "cell_type": "code",
   "execution_count": 9,
   "metadata": {},
   "outputs": [
    {
     "data": {
      "text/plain": [
       "<AxesSubplot:>"
      ]
     },
     "execution_count": 9,
     "metadata": {},
     "output_type": "execute_result"
    },
    {
     "data": {
      "image/png": "[encoded data removed]",
      "text/plain": [
       "<Figure size 432x288 with 1 Axes>"
      ]
     },
     "metadata": {
      "needs_background": "light"
     },
     "output_type": "display_data"
    }
   ],
   "source": [
    "df_features.nswdemand.plot()\n"
   ]
  },
  {
   "cell_type": "code",
   "execution_count": 10,
   "metadata": {},
   "outputs": [
    {
     "data": {
      "text/plain": [
       "<AxesSubplot:>"
      ]
     },
     "execution_count": 10,
     "metadata": {},
     "output_type": "execute_result"
    },
    {
     "data": {
      "image/png": "[encoded data removed]",
      "text/plain": [
       "<Figure size 432x288 with 1 Axes>"
      ]
     },
     "metadata": {
      "needs_background": "light"
     },
     "output_type": "display_data"
    }
   ],
   "source": [
    "df_features.vicprice.plot()\n"
   ]
  },
  {
   "cell_type": "code",
   "execution_count": null,
   "metadata": {},
   "outputs": [],
   "source": []
  },
  {
   "cell_type": "code",
   "execution_count": 11,
   "metadata": {},
   "outputs": [
    {
     "data": {
      "text/plain": [
       "<AxesSubplot:>"
      ]
     },
     "execution_count": 11,
     "metadata": {},
     "output_type": "execute_result"
    },
    {
     "data": {
      "image/png": "[encoded data removed]",
      "text/plain": [
       "<Figure size 432x288 with 1 Axes>"
      ]
     },
     "metadata": {
      "needs_background": "light"
     },
     "output_type": "display_data"
    }
   ],
   "source": [
    "df_features.vicdemand.plot()"
   ]
  },
  {
   "cell_type": "code",
   "execution_count": 12,
   "metadata": {},
   "outputs": [
    {
     "data": {
      "text/html": [
       "<div>\n",
       "<style scoped>\n",
       "    .dataframe tbody tr th:only-of-type {\n",
       "        vertical-align: middle;\n",
       "    }\n",
       "\n",
       "    .dataframe tbody tr th {\n",
       "        vertical-align: top;\n",
       "    }\n",
       "\n",
       "    .dataframe thead th {\n",
       "        text-align: right;\n",
       "    }\n",
       "</style>\n",
       "<table border=\"1\" class=\"dataframe\">\n",
       "  <thead>\n",
       "    <tr style=\"text-align: right;\">\n",
       "      <th></th>\n",
       "      <th>nswprice</th>\n",
       "      <th>nswdemand</th>\n",
       "      <th>vicprice</th>\n",
       "      <th>vicdemand</th>\n",
       "      <th>transfer</th>\n",
       "      <th>diff</th>\n",
       "    </tr>\n",
       "  </thead>\n",
       "  <tbody>\n",
       "    <tr>\n",
       "      <th>1996-05-07 00:00:00</th>\n",
       "      <td>0.056443</td>\n",
       "      <td>0.439155</td>\n",
       "      <td>0.003467</td>\n",
       "      <td>0.422915</td>\n",
       "      <td>0.414912</td>\n",
       "      <td>NaN</td>\n",
       "    </tr>\n",
       "    <tr>\n",
       "      <th>1997-05-05 00:00:00</th>\n",
       "      <td>0.046325</td>\n",
       "      <td>0.298274</td>\n",
       "      <td>0.003232</td>\n",
       "      <td>0.296737</td>\n",
       "      <td>0.500526</td>\n",
       "      <td>-0.126178</td>\n",
       "    </tr>\n",
       "    <tr>\n",
       "      <th>1997-05-05 00:30:00</th>\n",
       "      <td>0.045485</td>\n",
       "      <td>0.253794</td>\n",
       "      <td>0.003145</td>\n",
       "      <td>0.268255</td>\n",
       "      <td>0.500526</td>\n",
       "      <td>-0.028482</td>\n",
       "    </tr>\n",
       "    <tr>\n",
       "      <th>1997-05-05 01:00:00</th>\n",
       "      <td>0.047316</td>\n",
       "      <td>0.231032</td>\n",
       "      <td>0.002910</td>\n",
       "      <td>0.306577</td>\n",
       "      <td>0.500526</td>\n",
       "      <td>0.038322</td>\n",
       "    </tr>\n",
       "    <tr>\n",
       "      <th>1997-05-05 01:30:00</th>\n",
       "      <td>0.036658</td>\n",
       "      <td>0.183130</td>\n",
       "      <td>0.002956</td>\n",
       "      <td>0.271621</td>\n",
       "      <td>0.500526</td>\n",
       "      <td>-0.034956</td>\n",
       "    </tr>\n",
       "  </tbody>\n",
       "</table>\n",
       "</div>"
      ],
      "text/plain": [
       "                     nswprice  nswdemand  vicprice  vicdemand  transfer  \\\n",
       "1996-05-07 00:00:00  0.056443   0.439155  0.003467   0.422915  0.414912   \n",
       "1997-05-05 00:00:00  0.046325   0.298274  0.003232   0.296737  0.500526   \n",
       "1997-05-05 00:30:00  0.045485   0.253794  0.003145   0.268255  0.500526   \n",
       "1997-05-05 01:00:00  0.047316   0.231032  0.002910   0.306577  0.500526   \n",
       "1997-05-05 01:30:00  0.036658   0.183130  0.002956   0.271621  0.500526   \n",
       "\n",
       "                         diff  \n",
       "1996-05-07 00:00:00       NaN  \n",
       "1997-05-05 00:00:00 -0.126178  \n",
       "1997-05-05 00:30:00 -0.028482  \n",
       "1997-05-05 01:00:00  0.038322  \n",
       "1997-05-05 01:30:00 -0.034956  "
      ]
     },
     "execution_count": 12,
     "metadata": {},
     "output_type": "execute_result"
    }
   ],
   "source": [
    "df_features['diff'] = df_features['vicdemand'].diff()\n",
    "df_filtered = df_features[df_features['diff'] != 0]\n",
    "df_filtered.head()"
   ]
  },
  {
   "cell_type": "code",
   "execution_count": 13,
   "metadata": {},
   "outputs": [],
   "source": [
    "df_features.drop(columns='diff', inplace=True)"
   ]
  },
  {
   "cell_type": "code",
   "execution_count": 14,
   "metadata": {},
   "outputs": [
    {
     "data": {
      "text/plain": [
       "<matplotlib.lines.Line2D at 0x7fde157ec040>"
      ]
     },
     "execution_count": 14,
     "metadata": {},
     "output_type": "execute_result"
    },
    {
     "data": {
      "image/png": "[encoded data removed]",
      "text/plain": [
       "<Figure size 432x288 with 1 Axes>"
      ]
     },
     "metadata": {
      "needs_background": "light"
     },
     "output_type": "display_data"
    }
   ],
   "source": [
    "df_features.vicdemand.plot()\n",
    "plt.axvline('1997-05-05 00:00:00', color='red')"
   ]
  },
  {
   "cell_type": "code",
   "execution_count": 15,
   "metadata": {},
   "outputs": [
    {
     "data": {
      "text/plain": [
       "<matplotlib.lines.Line2D at 0x7fde152643a0>"
      ]
     },
     "execution_count": 15,
     "metadata": {},
     "output_type": "execute_result"
    },
    {
     "data": {
      "image/png": "[encoded data removed]",
      "text/plain": [
       "<Figure size 432x288 with 1 Axes>"
      ]
     },
     "metadata": {
      "needs_background": "light"
     },
     "output_type": "display_data"
    }
   ],
   "source": [
    "df_features.transfer.plot()\n",
    "plt.axvline('1997-05-05 00:00:00', color='red')"
   ]
  },
  {
   "cell_type": "markdown",
   "metadata": {},
   "source": [
    "Clearly the data has a change of concept after the date 1998-11-17 15:00:00 so to avoid a poor modeling, we will only use the data from this instace forward. "
   ]
  },
  {
   "cell_type": "code",
   "execution_count": 16,
   "metadata": {},
   "outputs": [],
   "source": [
    "df_features = df_features.loc[df_features.index > '1997-05-05 00:00:00'].copy()"
   ]
  },
  {
   "cell_type": "code",
   "execution_count": 17,
   "metadata": {},
   "outputs": [
    {
     "data": {
      "text/plain": [
       "<AxesSubplot:>"
      ]
     },
     "execution_count": 17,
     "metadata": {},
     "output_type": "execute_result"
    },
    {
     "data": {
      "image/png": "[encoded data removed]",
      "text/plain": [
       "<Figure size 432x288 with 1 Axes>"
      ]
     },
     "metadata": {
      "needs_background": "light"
     },
     "output_type": "display_data"
    }
   ],
   "source": [
    "df_features.transfer.plot()"
   ]
  },
  {
   "cell_type": "code",
   "execution_count": 18,
   "metadata": {},
   "outputs": [
    {
     "data": {
      "text/plain": [
       "<AxesSubplot:>"
      ]
     },
     "execution_count": 18,
     "metadata": {},
     "output_type": "execute_result"
    },
    {
     "data": {
      "image/png": "[encoded data removed]",
      "text/plain": [
       "<Figure size 432x288 with 1 Axes>"
      ]
     },
     "metadata": {
      "needs_background": "light"
     },
     "output_type": "display_data"
    }
   ],
   "source": [
    "df_features.vicdemand.plot()\n"
   ]
  },
  {
   "cell_type": "code",
   "execution_count": 19,
   "metadata": {},
   "outputs": [
    {
     "data": {
      "text/plain": [
       "<AxesSubplot:>"
      ]
     },
     "execution_count": 19,
     "metadata": {},
     "output_type": "execute_result"
    },
    {
     "data": {
      "image/png": "[encoded data removed]",
      "text/plain": [
       "<Figure size 432x288 with 1 Axes>"
      ]
     },
     "metadata": {
      "needs_background": "light"
     },
     "output_type": "display_data"
    }
   ],
   "source": [
    "df_features.vicprice.plot()"
   ]
  },
  {
   "cell_type": "code",
   "execution_count": 20,
   "metadata": {},
   "outputs": [
    {
     "data": {
      "text/plain": [
       "<AxesSubplot:>"
      ]
     },
     "execution_count": 20,
     "metadata": {},
     "output_type": "execute_result"
    },
    {
     "data": {
      "image/png": "[encoded data removed]",
      "text/plain": [
       "<Figure size 432x288 with 1 Axes>"
      ]
     },
     "metadata": {
      "needs_background": "light"
     },
     "output_type": "display_data"
    }
   ],
   "source": [
    "df_features.nswprice.plot()"
   ]
  },
  {
   "cell_type": "code",
   "execution_count": 21,
   "metadata": {},
   "outputs": [
    {
     "data": {
      "text/plain": [
       "<AxesSubplot:>"
      ]
     },
     "execution_count": 21,
     "metadata": {},
     "output_type": "execute_result"
    },
    {
     "data": {
      "image/png": "[encoded data removed]",
      "text/plain": [
       "<Figure size 432x288 with 1 Axes>"
      ]
     },
     "metadata": {
      "needs_background": "light"
     },
     "output_type": "display_data"
    }
   ],
   "source": [
    "df_features.nswdemand.plot()\n"
   ]
  },
  {
   "cell_type": "code",
   "execution_count": 22,
   "metadata": {},
   "outputs": [
    {
     "data": {
      "text/html": [
       "<div>\n",
       "<style scoped>\n",
       "    .dataframe tbody tr th:only-of-type {\n",
       "        vertical-align: middle;\n",
       "    }\n",
       "\n",
       "    .dataframe tbody tr th {\n",
       "        vertical-align: top;\n",
       "    }\n",
       "\n",
       "    .dataframe thead th {\n",
       "        text-align: right;\n",
       "    }\n",
       "</style>\n",
       "<table border=\"1\" class=\"dataframe\">\n",
       "  <thead>\n",
       "    <tr style=\"text-align: right;\">\n",
       "      <th></th>\n",
       "      <th>nswprice</th>\n",
       "      <th>nswdemand</th>\n",
       "      <th>vicprice</th>\n",
       "      <th>vicdemand</th>\n",
       "      <th>transfer</th>\n",
       "    </tr>\n",
       "  </thead>\n",
       "  <tbody>\n",
       "    <tr>\n",
       "      <th>1997-05-05 00:30:00</th>\n",
       "      <td>0.045485</td>\n",
       "      <td>0.253794</td>\n",
       "      <td>0.003145</td>\n",
       "      <td>0.268255</td>\n",
       "      <td>0.500526</td>\n",
       "    </tr>\n",
       "    <tr>\n",
       "      <th>1997-05-05 01:00:00</th>\n",
       "      <td>0.047316</td>\n",
       "      <td>0.231032</td>\n",
       "      <td>0.002910</td>\n",
       "      <td>0.306577</td>\n",
       "      <td>0.500526</td>\n",
       "    </tr>\n",
       "    <tr>\n",
       "      <th>1997-05-05 01:30:00</th>\n",
       "      <td>0.036658</td>\n",
       "      <td>0.183130</td>\n",
       "      <td>0.002956</td>\n",
       "      <td>0.271621</td>\n",
       "      <td>0.500526</td>\n",
       "    </tr>\n",
       "    <tr>\n",
       "      <th>1997-05-05 02:00:00</th>\n",
       "      <td>0.041882</td>\n",
       "      <td>0.148319</td>\n",
       "      <td>0.002659</td>\n",
       "      <td>0.219834</td>\n",
       "      <td>0.500526</td>\n",
       "    </tr>\n",
       "    <tr>\n",
       "      <th>1997-05-05 02:30:00</th>\n",
       "      <td>0.033776</td>\n",
       "      <td>0.119905</td>\n",
       "      <td>0.002418</td>\n",
       "      <td>0.167530</td>\n",
       "      <td>0.500526</td>\n",
       "    </tr>\n",
       "    <tr>\n",
       "      <th>...</th>\n",
       "      <td>...</td>\n",
       "      <td>...</td>\n",
       "      <td>...</td>\n",
       "      <td>...</td>\n",
       "      <td>...</td>\n",
       "    </tr>\n",
       "    <tr>\n",
       "      <th>1998-12-06 21:30:00</th>\n",
       "      <td>0.044224</td>\n",
       "      <td>0.340672</td>\n",
       "      <td>0.003033</td>\n",
       "      <td>0.255049</td>\n",
       "      <td>0.405263</td>\n",
       "    </tr>\n",
       "    <tr>\n",
       "      <th>1998-12-06 22:00:00</th>\n",
       "      <td>0.044884</td>\n",
       "      <td>0.355549</td>\n",
       "      <td>0.003072</td>\n",
       "      <td>0.241326</td>\n",
       "      <td>0.420614</td>\n",
       "    </tr>\n",
       "    <tr>\n",
       "      <th>1998-12-06 22:30:00</th>\n",
       "      <td>0.043593</td>\n",
       "      <td>0.340970</td>\n",
       "      <td>0.002983</td>\n",
       "      <td>0.247799</td>\n",
       "      <td>0.362281</td>\n",
       "    </tr>\n",
       "    <tr>\n",
       "      <th>1998-12-06 23:00:00</th>\n",
       "      <td>0.066651</td>\n",
       "      <td>0.329366</td>\n",
       "      <td>0.004630</td>\n",
       "      <td>0.345417</td>\n",
       "      <td>0.206579</td>\n",
       "    </tr>\n",
       "    <tr>\n",
       "      <th>1998-12-06 23:30:00</th>\n",
       "      <td>0.050679</td>\n",
       "      <td>0.288753</td>\n",
       "      <td>0.003542</td>\n",
       "      <td>0.355256</td>\n",
       "      <td>0.231140</td>\n",
       "    </tr>\n",
       "  </tbody>\n",
       "</table>\n",
       "<p>27887 rows × 5 columns</p>\n",
       "</div>"
      ],
      "text/plain": [
       "                     nswprice  nswdemand  vicprice  vicdemand  transfer\n",
       "1997-05-05 00:30:00  0.045485   0.253794  0.003145   0.268255  0.500526\n",
       "1997-05-05 01:00:00  0.047316   0.231032  0.002910   0.306577  0.500526\n",
       "1997-05-05 01:30:00  0.036658   0.183130  0.002956   0.271621  0.500526\n",
       "1997-05-05 02:00:00  0.041882   0.148319  0.002659   0.219834  0.500526\n",
       "1997-05-05 02:30:00  0.033776   0.119905  0.002418   0.167530  0.500526\n",
       "...                       ...        ...       ...        ...       ...\n",
       "1998-12-06 21:30:00  0.044224   0.340672  0.003033   0.255049  0.405263\n",
       "1998-12-06 22:00:00  0.044884   0.355549  0.003072   0.241326  0.420614\n",
       "1998-12-06 22:30:00  0.043593   0.340970  0.002983   0.247799  0.362281\n",
       "1998-12-06 23:00:00  0.066651   0.329366  0.004630   0.345417  0.206579\n",
       "1998-12-06 23:30:00  0.050679   0.288753  0.003542   0.355256  0.231140\n",
       "\n",
       "[27887 rows x 5 columns]"
      ]
     },
     "execution_count": 22,
     "metadata": {},
     "output_type": "execute_result"
    }
   ],
   "source": [
    "df_features"
   ]
  },
  {
   "cell_type": "code",
   "execution_count": 23,
   "metadata": {},
   "outputs": [],
   "source": [
    "df_target=df[1]"
   ]
  },
  {
   "cell_type": "code",
   "execution_count": 24,
   "metadata": {},
   "outputs": [],
   "source": [
    "df_target = pd.DataFrame(df_target)"
   ]
  },
  {
   "cell_type": "code",
   "execution_count": 25,
   "metadata": {},
   "outputs": [
    {
     "data": {
      "text/html": [
       "<div>\n",
       "<style scoped>\n",
       "    .dataframe tbody tr th:only-of-type {\n",
       "        vertical-align: middle;\n",
       "    }\n",
       "\n",
       "    .dataframe tbody tr th {\n",
       "        vertical-align: top;\n",
       "    }\n",
       "\n",
       "    .dataframe thead th {\n",
       "        text-align: right;\n",
       "    }\n",
       "</style>\n",
       "<table border=\"1\" class=\"dataframe\">\n",
       "  <thead>\n",
       "    <tr style=\"text-align: right;\">\n",
       "      <th></th>\n",
       "      <th>class</th>\n",
       "    </tr>\n",
       "  </thead>\n",
       "  <tbody>\n",
       "    <tr>\n",
       "      <th>0</th>\n",
       "      <td>UP</td>\n",
       "    </tr>\n",
       "    <tr>\n",
       "      <th>1</th>\n",
       "      <td>UP</td>\n",
       "    </tr>\n",
       "    <tr>\n",
       "      <th>2</th>\n",
       "      <td>UP</td>\n",
       "    </tr>\n",
       "    <tr>\n",
       "      <th>3</th>\n",
       "      <td>UP</td>\n",
       "    </tr>\n",
       "    <tr>\n",
       "      <th>4</th>\n",
       "      <td>DOWN</td>\n",
       "    </tr>\n",
       "  </tbody>\n",
       "</table>\n",
       "</div>"
      ],
      "text/plain": [
       "  class\n",
       "0    UP\n",
       "1    UP\n",
       "2    UP\n",
       "3    UP\n",
       "4  DOWN"
      ]
     },
     "execution_count": 25,
     "metadata": {},
     "output_type": "execute_result"
    }
   ],
   "source": [
    "df_target.head()"
   ]
  },
  {
   "cell_type": "code",
   "execution_count": 26,
   "metadata": {},
   "outputs": [
    {
     "data": {
      "text/html": [
       "<div>\n",
       "<style scoped>\n",
       "    .dataframe tbody tr th:only-of-type {\n",
       "        vertical-align: middle;\n",
       "    }\n",
       "\n",
       "    .dataframe tbody tr th {\n",
       "        vertical-align: top;\n",
       "    }\n",
       "\n",
       "    .dataframe thead th {\n",
       "        text-align: right;\n",
       "    }\n",
       "</style>\n",
       "<table border=\"1\" class=\"dataframe\">\n",
       "  <thead>\n",
       "    <tr style=\"text-align: right;\">\n",
       "      <th></th>\n",
       "      <th>nswprice</th>\n",
       "      <th>nswdemand</th>\n",
       "      <th>vicprice</th>\n",
       "      <th>vicdemand</th>\n",
       "      <th>transfer</th>\n",
       "    </tr>\n",
       "  </thead>\n",
       "  <tbody>\n",
       "    <tr>\n",
       "      <th>1998-12-06 21:30:00</th>\n",
       "      <td>0.044224</td>\n",
       "      <td>0.340672</td>\n",
       "      <td>0.003033</td>\n",
       "      <td>0.255049</td>\n",
       "      <td>0.405263</td>\n",
       "    </tr>\n",
       "    <tr>\n",
       "      <th>1998-12-06 22:00:00</th>\n",
       "      <td>0.044884</td>\n",
       "      <td>0.355549</td>\n",
       "      <td>0.003072</td>\n",
       "      <td>0.241326</td>\n",
       "      <td>0.420614</td>\n",
       "    </tr>\n",
       "    <tr>\n",
       "      <th>1998-12-06 22:30:00</th>\n",
       "      <td>0.043593</td>\n",
       "      <td>0.340970</td>\n",
       "      <td>0.002983</td>\n",
       "      <td>0.247799</td>\n",
       "      <td>0.362281</td>\n",
       "    </tr>\n",
       "    <tr>\n",
       "      <th>1998-12-06 23:00:00</th>\n",
       "      <td>0.066651</td>\n",
       "      <td>0.329366</td>\n",
       "      <td>0.004630</td>\n",
       "      <td>0.345417</td>\n",
       "      <td>0.206579</td>\n",
       "    </tr>\n",
       "    <tr>\n",
       "      <th>1998-12-06 23:30:00</th>\n",
       "      <td>0.050679</td>\n",
       "      <td>0.288753</td>\n",
       "      <td>0.003542</td>\n",
       "      <td>0.355256</td>\n",
       "      <td>0.231140</td>\n",
       "    </tr>\n",
       "  </tbody>\n",
       "</table>\n",
       "</div>"
      ],
      "text/plain": [
       "                     nswprice  nswdemand  vicprice  vicdemand  transfer\n",
       "1998-12-06 21:30:00  0.044224   0.340672  0.003033   0.255049  0.405263\n",
       "1998-12-06 22:00:00  0.044884   0.355549  0.003072   0.241326  0.420614\n",
       "1998-12-06 22:30:00  0.043593   0.340970  0.002983   0.247799  0.362281\n",
       "1998-12-06 23:00:00  0.066651   0.329366  0.004630   0.345417  0.206579\n",
       "1998-12-06 23:30:00  0.050679   0.288753  0.003542   0.355256  0.231140"
      ]
     },
     "execution_count": 26,
     "metadata": {},
     "output_type": "execute_result"
    }
   ],
   "source": [
    "df_features.tail()"
   ]
  },
  {
   "cell_type": "code",
   "execution_count": 27,
   "metadata": {},
   "outputs": [],
   "source": [
    "df_target.set_index(idx, inplace=True)"
   ]
  },
  {
   "cell_type": "code",
   "execution_count": 28,
   "metadata": {},
   "outputs": [],
   "source": [
    "df_target = df_target.loc[df_target.index > '1997-05-05 00:00:00'].copy()"
   ]
  },
  {
   "cell_type": "code",
   "execution_count": 29,
   "metadata": {},
   "outputs": [
    {
     "data": {
      "text/plain": [
       "(27887, 1)"
      ]
     },
     "execution_count": 29,
     "metadata": {},
     "output_type": "execute_result"
    }
   ],
   "source": [
    "df_target.shape"
   ]
  },
  {
   "cell_type": "code",
   "execution_count": 30,
   "metadata": {},
   "outputs": [
    {
     "data": {
      "text/plain": [
       "Timedelta('-581 days +01:00:00')"
      ]
     },
     "execution_count": 30,
     "metadata": {},
     "output_type": "execute_result"
    }
   ],
   "source": [
    "df_features.index[0] - df_features.index[-1]"
   ]
  },
  {
   "cell_type": "code",
   "execution_count": 31,
   "metadata": {},
   "outputs": [
    {
     "data": {
      "text/plain": [
       "class\n",
       "DOWN     0.583032\n",
       "UP       0.416968\n",
       "dtype: float64"
      ]
     },
     "execution_count": 31,
     "metadata": {},
     "output_type": "execute_result"
    }
   ],
   "source": [
    "df_target.value_counts(normalize=True)"
   ]
  },
  {
   "cell_type": "code",
   "execution_count": 32,
   "metadata": {},
   "outputs": [],
   "source": [
    "full_df = df_features.copy()"
   ]
  },
  {
   "cell_type": "code",
   "execution_count": 33,
   "metadata": {},
   "outputs": [],
   "source": [
    "full_df['target'] = df_target"
   ]
  },
  {
   "cell_type": "code",
   "execution_count": 34,
   "metadata": {},
   "outputs": [],
   "source": [
    "test = full_df.loc[full_df.index>='1998-11-01  00:00:00']"
   ]
  },
  {
   "cell_type": "code",
   "execution_count": 35,
   "metadata": {},
   "outputs": [
    {
     "data": {
      "text/plain": [
       "(1728, 6)"
      ]
     },
     "execution_count": 35,
     "metadata": {},
     "output_type": "execute_result"
    }
   ],
   "source": [
    "test.shape"
   ]
  },
  {
   "cell_type": "code",
   "execution_count": 36,
   "metadata": {},
   "outputs": [],
   "source": [
    "train = full_df.loc[full_df.index<'1998-12-06  23:30:00']"
   ]
  },
  {
   "cell_type": "code",
   "execution_count": 37,
   "metadata": {},
   "outputs": [
    {
     "data": {
      "text/plain": [
       "(27886, 6)"
      ]
     },
     "execution_count": 37,
     "metadata": {},
     "output_type": "execute_result"
    }
   ],
   "source": [
    "train.shape"
   ]
  },
  {
   "cell_type": "markdown",
   "metadata": {},
   "source": [
    "# Modeling"
   ]
  },
  {
   "cell_type": "code",
   "execution_count": 38,
   "metadata": {},
   "outputs": [
    {
     "data": {
      "text/html": [
       "<style type=\"text/css\">\n",
       "#T_59b93_row44_col1, #T_59b93_row58_col1 {\n",
       "  background-color: lightgreen;\n",
       "}\n",
       "</style>\n",
       "<table id=\"T_59b93\">\n",
       "  <thead>\n",
       "    <tr>\n",
       "      <th class=\"blank level0\" >&nbsp;</th>\n",
       "      <th id=\"T_59b93_level0_col0\" class=\"col_heading level0 col0\" >Description</th>\n",
       "      <th id=\"T_59b93_level0_col1\" class=\"col_heading level0 col1\" >Value</th>\n",
       "    </tr>\n",
       "  </thead>\n",
       "  <tbody>\n",
       "    <tr>\n",
       "      <th id=\"T_59b93_level0_row0\" class=\"row_heading level0 row0\" >0</th>\n",
       "      <td id=\"T_59b93_row0_col0\" class=\"data row0 col0\" >session_id</td>\n",
       "      <td id=\"T_59b93_row0_col1\" class=\"data row0 col1\" >123</td>\n",
       "    </tr>\n",
       "    <tr>\n",
       "      <th id=\"T_59b93_level0_row1\" class=\"row_heading level0 row1\" >1</th>\n",
       "      <td id=\"T_59b93_row1_col0\" class=\"data row1 col0\" >Target</td>\n",
       "      <td id=\"T_59b93_row1_col1\" class=\"data row1 col1\" >target</td>\n",
       "    </tr>\n",
       "    <tr>\n",
       "      <th id=\"T_59b93_level0_row2\" class=\"row_heading level0 row2\" >2</th>\n",
       "      <td id=\"T_59b93_row2_col0\" class=\"data row2 col0\" >Target Type</td>\n",
       "      <td id=\"T_59b93_row2_col1\" class=\"data row2 col1\" >Binary</td>\n",
       "    </tr>\n",
       "    <tr>\n",
       "      <th id=\"T_59b93_level0_row3\" class=\"row_heading level0 row3\" >3</th>\n",
       "      <td id=\"T_59b93_row3_col0\" class=\"data row3 col0\" >Label Encoded</td>\n",
       "      <td id=\"T_59b93_row3_col1\" class=\"data row3 col1\" >DOWN: 0, UP: 1</td>\n",
       "    </tr>\n",
       "    <tr>\n",
       "      <th id=\"T_59b93_level0_row4\" class=\"row_heading level0 row4\" >4</th>\n",
       "      <td id=\"T_59b93_row4_col0\" class=\"data row4 col0\" >Original Data</td>\n",
       "      <td id=\"T_59b93_row4_col1\" class=\"data row4 col1\" >(27886, 6)</td>\n",
       "    </tr>\n",
       "    <tr>\n",
       "      <th id=\"T_59b93_level0_row5\" class=\"row_heading level0 row5\" >5</th>\n",
       "      <td id=\"T_59b93_row5_col0\" class=\"data row5 col0\" >Missing Values</td>\n",
       "      <td id=\"T_59b93_row5_col1\" class=\"data row5 col1\" >False</td>\n",
       "    </tr>\n",
       "    <tr>\n",
       "      <th id=\"T_59b93_level0_row6\" class=\"row_heading level0 row6\" >6</th>\n",
       "      <td id=\"T_59b93_row6_col0\" class=\"data row6 col0\" >Numeric Features</td>\n",
       "      <td id=\"T_59b93_row6_col1\" class=\"data row6 col1\" >5</td>\n",
       "    </tr>\n",
       "    <tr>\n",
       "      <th id=\"T_59b93_level0_row7\" class=\"row_heading level0 row7\" >7</th>\n",
       "      <td id=\"T_59b93_row7_col0\" class=\"data row7 col0\" >Categorical Features</td>\n",
       "      <td id=\"T_59b93_row7_col1\" class=\"data row7 col1\" >0</td>\n",
       "    </tr>\n",
       "    <tr>\n",
       "      <th id=\"T_59b93_level0_row8\" class=\"row_heading level0 row8\" >8</th>\n",
       "      <td id=\"T_59b93_row8_col0\" class=\"data row8 col0\" >Ordinal Features</td>\n",
       "      <td id=\"T_59b93_row8_col1\" class=\"data row8 col1\" >False</td>\n",
       "    </tr>\n",
       "    <tr>\n",
       "      <th id=\"T_59b93_level0_row9\" class=\"row_heading level0 row9\" >9</th>\n",
       "      <td id=\"T_59b93_row9_col0\" class=\"data row9 col0\" >High Cardinality Features</td>\n",
       "      <td id=\"T_59b93_row9_col1\" class=\"data row9 col1\" >False</td>\n",
       "    </tr>\n",
       "    <tr>\n",
       "      <th id=\"T_59b93_level0_row10\" class=\"row_heading level0 row10\" >10</th>\n",
       "      <td id=\"T_59b93_row10_col0\" class=\"data row10 col0\" >High Cardinality Method</td>\n",
       "      <td id=\"T_59b93_row10_col1\" class=\"data row10 col1\" >None</td>\n",
       "    </tr>\n",
       "    <tr>\n",
       "      <th id=\"T_59b93_level0_row11\" class=\"row_heading level0 row11\" >11</th>\n",
       "      <td id=\"T_59b93_row11_col0\" class=\"data row11 col0\" >Transformed Train Set</td>\n",
       "      <td id=\"T_59b93_row11_col1\" class=\"data row11 col1\" >(19520, 5)</td>\n",
       "    </tr>\n",
       "    <tr>\n",
       "      <th id=\"T_59b93_level0_row12\" class=\"row_heading level0 row12\" >12</th>\n",
       "      <td id=\"T_59b93_row12_col0\" class=\"data row12 col0\" >Transformed Test Set</td>\n",
       "      <td id=\"T_59b93_row12_col1\" class=\"data row12 col1\" >(8366, 5)</td>\n",
       "    </tr>\n",
       "    <tr>\n",
       "      <th id=\"T_59b93_level0_row13\" class=\"row_heading level0 row13\" >13</th>\n",
       "      <td id=\"T_59b93_row13_col0\" class=\"data row13 col0\" >Shuffle Train-Test</td>\n",
       "      <td id=\"T_59b93_row13_col1\" class=\"data row13 col1\" >True</td>\n",
       "    </tr>\n",
       "    <tr>\n",
       "      <th id=\"T_59b93_level0_row14\" class=\"row_heading level0 row14\" >14</th>\n",
       "      <td id=\"T_59b93_row14_col0\" class=\"data row14 col0\" >Stratify Train-Test</td>\n",
       "      <td id=\"T_59b93_row14_col1\" class=\"data row14 col1\" >True</td>\n",
       "    </tr>\n",
       "    <tr>\n",
       "      <th id=\"T_59b93_level0_row15\" class=\"row_heading level0 row15\" >15</th>\n",
       "      <td id=\"T_59b93_row15_col0\" class=\"data row15 col0\" >Fold Generator</td>\n",
       "      <td id=\"T_59b93_row15_col1\" class=\"data row15 col1\" >StratifiedKFold</td>\n",
       "    </tr>\n",
       "    <tr>\n",
       "      <th id=\"T_59b93_level0_row16\" class=\"row_heading level0 row16\" >16</th>\n",
       "      <td id=\"T_59b93_row16_col0\" class=\"data row16 col0\" >Fold Number</td>\n",
       "      <td id=\"T_59b93_row16_col1\" class=\"data row16 col1\" >10</td>\n",
       "    </tr>\n",
       "    <tr>\n",
       "      <th id=\"T_59b93_level0_row17\" class=\"row_heading level0 row17\" >17</th>\n",
       "      <td id=\"T_59b93_row17_col0\" class=\"data row17 col0\" >CPU Jobs</td>\n",
       "      <td id=\"T_59b93_row17_col1\" class=\"data row17 col1\" >-1</td>\n",
       "    </tr>\n",
       "    <tr>\n",
       "      <th id=\"T_59b93_level0_row18\" class=\"row_heading level0 row18\" >18</th>\n",
       "      <td id=\"T_59b93_row18_col0\" class=\"data row18 col0\" >Use GPU</td>\n",
       "      <td id=\"T_59b93_row18_col1\" class=\"data row18 col1\" >False</td>\n",
       "    </tr>\n",
       "    <tr>\n",
       "      <th id=\"T_59b93_level0_row19\" class=\"row_heading level0 row19\" >19</th>\n",
       "      <td id=\"T_59b93_row19_col0\" class=\"data row19 col0\" >Log Experiment</td>\n",
       "      <td id=\"T_59b93_row19_col1\" class=\"data row19 col1\" >False</td>\n",
       "    </tr>\n",
       "    <tr>\n",
       "      <th id=\"T_59b93_level0_row20\" class=\"row_heading level0 row20\" >20</th>\n",
       "      <td id=\"T_59b93_row20_col0\" class=\"data row20 col0\" >Experiment Name</td>\n",
       "      <td id=\"T_59b93_row20_col1\" class=\"data row20 col1\" >clf-default-name</td>\n",
       "    </tr>\n",
       "    <tr>\n",
       "      <th id=\"T_59b93_level0_row21\" class=\"row_heading level0 row21\" >21</th>\n",
       "      <td id=\"T_59b93_row21_col0\" class=\"data row21 col0\" >USI</td>\n",
       "      <td id=\"T_59b93_row21_col1\" class=\"data row21 col1\" >c500</td>\n",
       "    </tr>\n",
       "    <tr>\n",
       "      <th id=\"T_59b93_level0_row22\" class=\"row_heading level0 row22\" >22</th>\n",
       "      <td id=\"T_59b93_row22_col0\" class=\"data row22 col0\" >Imputation Type</td>\n",
       "      <td id=\"T_59b93_row22_col1\" class=\"data row22 col1\" >simple</td>\n",
       "    </tr>\n",
       "    <tr>\n",
       "      <th id=\"T_59b93_level0_row23\" class=\"row_heading level0 row23\" >23</th>\n",
       "      <td id=\"T_59b93_row23_col0\" class=\"data row23 col0\" >Iterative Imputation Iteration</td>\n",
       "      <td id=\"T_59b93_row23_col1\" class=\"data row23 col1\" >None</td>\n",
       "    </tr>\n",
       "    <tr>\n",
       "      <th id=\"T_59b93_level0_row24\" class=\"row_heading level0 row24\" >24</th>\n",
       "      <td id=\"T_59b93_row24_col0\" class=\"data row24 col0\" >Numeric Imputer</td>\n",
       "      <td id=\"T_59b93_row24_col1\" class=\"data row24 col1\" >mean</td>\n",
       "    </tr>\n",
       "    <tr>\n",
       "      <th id=\"T_59b93_level0_row25\" class=\"row_heading level0 row25\" >25</th>\n",
       "      <td id=\"T_59b93_row25_col0\" class=\"data row25 col0\" >Iterative Imputation Numeric Model</td>\n",
       "      <td id=\"T_59b93_row25_col1\" class=\"data row25 col1\" >None</td>\n",
       "    </tr>\n",
       "    <tr>\n",
       "      <th id=\"T_59b93_level0_row26\" class=\"row_heading level0 row26\" >26</th>\n",
       "      <td id=\"T_59b93_row26_col0\" class=\"data row26 col0\" >Categorical Imputer</td>\n",
       "      <td id=\"T_59b93_row26_col1\" class=\"data row26 col1\" >constant</td>\n",
       "    </tr>\n",
       "    <tr>\n",
       "      <th id=\"T_59b93_level0_row27\" class=\"row_heading level0 row27\" >27</th>\n",
       "      <td id=\"T_59b93_row27_col0\" class=\"data row27 col0\" >Iterative Imputation Categorical Model</td>\n",
       "      <td id=\"T_59b93_row27_col1\" class=\"data row27 col1\" >None</td>\n",
       "    </tr>\n",
       "    <tr>\n",
       "      <th id=\"T_59b93_level0_row28\" class=\"row_heading level0 row28\" >28</th>\n",
       "      <td id=\"T_59b93_row28_col0\" class=\"data row28 col0\" >Unknown Categoricals Handling</td>\n",
       "      <td id=\"T_59b93_row28_col1\" class=\"data row28 col1\" >least_frequent</td>\n",
       "    </tr>\n",
       "    <tr>\n",
       "      <th id=\"T_59b93_level0_row29\" class=\"row_heading level0 row29\" >29</th>\n",
       "      <td id=\"T_59b93_row29_col0\" class=\"data row29 col0\" >Normalize</td>\n",
       "      <td id=\"T_59b93_row29_col1\" class=\"data row29 col1\" >False</td>\n",
       "    </tr>\n",
       "    <tr>\n",
       "      <th id=\"T_59b93_level0_row30\" class=\"row_heading level0 row30\" >30</th>\n",
       "      <td id=\"T_59b93_row30_col0\" class=\"data row30 col0\" >Normalize Method</td>\n",
       "      <td id=\"T_59b93_row30_col1\" class=\"data row30 col1\" >None</td>\n",
       "    </tr>\n",
       "    <tr>\n",
       "      <th id=\"T_59b93_level0_row31\" class=\"row_heading level0 row31\" >31</th>\n",
       "      <td id=\"T_59b93_row31_col0\" class=\"data row31 col0\" >Transformation</td>\n",
       "      <td id=\"T_59b93_row31_col1\" class=\"data row31 col1\" >False</td>\n",
       "    </tr>\n",
       "    <tr>\n",
       "      <th id=\"T_59b93_level0_row32\" class=\"row_heading level0 row32\" >32</th>\n",
       "      <td id=\"T_59b93_row32_col0\" class=\"data row32 col0\" >Transformation Method</td>\n",
       "      <td id=\"T_59b93_row32_col1\" class=\"data row32 col1\" >None</td>\n",
       "    </tr>\n",
       "    <tr>\n",
       "      <th id=\"T_59b93_level0_row33\" class=\"row_heading level0 row33\" >33</th>\n",
       "      <td id=\"T_59b93_row33_col0\" class=\"data row33 col0\" >PCA</td>\n",
       "      <td id=\"T_59b93_row33_col1\" class=\"data row33 col1\" >False</td>\n",
       "    </tr>\n",
       "    <tr>\n",
       "      <th id=\"T_59b93_level0_row34\" class=\"row_heading level0 row34\" >34</th>\n",
       "      <td id=\"T_59b93_row34_col0\" class=\"data row34 col0\" >PCA Method</td>\n",
       "      <td id=\"T_59b93_row34_col1\" class=\"data row34 col1\" >None</td>\n",
       "    </tr>\n",
       "    <tr>\n",
       "      <th id=\"T_59b93_level0_row35\" class=\"row_heading level0 row35\" >35</th>\n",
       "      <td id=\"T_59b93_row35_col0\" class=\"data row35 col0\" >PCA Components</td>\n",
       "      <td id=\"T_59b93_row35_col1\" class=\"data row35 col1\" >None</td>\n",
       "    </tr>\n",
       "    <tr>\n",
       "      <th id=\"T_59b93_level0_row36\" class=\"row_heading level0 row36\" >36</th>\n",
       "      <td id=\"T_59b93_row36_col0\" class=\"data row36 col0\" >Ignore Low Variance</td>\n",
       "      <td id=\"T_59b93_row36_col1\" class=\"data row36 col1\" >False</td>\n",
       "    </tr>\n",
       "    <tr>\n",
       "      <th id=\"T_59b93_level0_row37\" class=\"row_heading level0 row37\" >37</th>\n",
       "      <td id=\"T_59b93_row37_col0\" class=\"data row37 col0\" >Combine Rare Levels</td>\n",
       "      <td id=\"T_59b93_row37_col1\" class=\"data row37 col1\" >False</td>\n",
       "    </tr>\n",
       "    <tr>\n",
       "      <th id=\"T_59b93_level0_row38\" class=\"row_heading level0 row38\" >38</th>\n",
       "      <td id=\"T_59b93_row38_col0\" class=\"data row38 col0\" >Rare Level Threshold</td>\n",
       "      <td id=\"T_59b93_row38_col1\" class=\"data row38 col1\" >None</td>\n",
       "    </tr>\n",
       "    <tr>\n",
       "      <th id=\"T_59b93_level0_row39\" class=\"row_heading level0 row39\" >39</th>\n",
       "      <td id=\"T_59b93_row39_col0\" class=\"data row39 col0\" >Numeric Binning</td>\n",
       "      <td id=\"T_59b93_row39_col1\" class=\"data row39 col1\" >False</td>\n",
       "    </tr>\n",
       "    <tr>\n",
       "      <th id=\"T_59b93_level0_row40\" class=\"row_heading level0 row40\" >40</th>\n",
       "      <td id=\"T_59b93_row40_col0\" class=\"data row40 col0\" >Remove Outliers</td>\n",
       "      <td id=\"T_59b93_row40_col1\" class=\"data row40 col1\" >False</td>\n",
       "    </tr>\n",
       "    <tr>\n",
       "      <th id=\"T_59b93_level0_row41\" class=\"row_heading level0 row41\" >41</th>\n",
       "      <td id=\"T_59b93_row41_col0\" class=\"data row41 col0\" >Outliers Threshold</td>\n",
       "      <td id=\"T_59b93_row41_col1\" class=\"data row41 col1\" >None</td>\n",
       "    </tr>\n",
       "    <tr>\n",
       "      <th id=\"T_59b93_level0_row42\" class=\"row_heading level0 row42\" >42</th>\n",
       "      <td id=\"T_59b93_row42_col0\" class=\"data row42 col0\" >Remove Multicollinearity</td>\n",
       "      <td id=\"T_59b93_row42_col1\" class=\"data row42 col1\" >False</td>\n",
       "    </tr>\n",
       "    <tr>\n",
       "      <th id=\"T_59b93_level0_row43\" class=\"row_heading level0 row43\" >43</th>\n",
       "      <td id=\"T_59b93_row43_col0\" class=\"data row43 col0\" >Multicollinearity Threshold</td>\n",
       "      <td id=\"T_59b93_row43_col1\" class=\"data row43 col1\" >None</td>\n",
       "    </tr>\n",
       "    <tr>\n",
       "      <th id=\"T_59b93_level0_row44\" class=\"row_heading level0 row44\" >44</th>\n",
       "      <td id=\"T_59b93_row44_col0\" class=\"data row44 col0\" >Remove Perfect Collinearity</td>\n",
       "      <td id=\"T_59b93_row44_col1\" class=\"data row44 col1\" >True</td>\n",
       "    </tr>\n",
       "    <tr>\n",
       "      <th id=\"T_59b93_level0_row45\" class=\"row_heading level0 row45\" >45</th>\n",
       "      <td id=\"T_59b93_row45_col0\" class=\"data row45 col0\" >Clustering</td>\n",
       "      <td id=\"T_59b93_row45_col1\" class=\"data row45 col1\" >False</td>\n",
       "    </tr>\n",
       "    <tr>\n",
       "      <th id=\"T_59b93_level0_row46\" class=\"row_heading level0 row46\" >46</th>\n",
       "      <td id=\"T_59b93_row46_col0\" class=\"data row46 col0\" >Clustering Iteration</td>\n",
       "      <td id=\"T_59b93_row46_col1\" class=\"data row46 col1\" >None</td>\n",
       "    </tr>\n",
       "    <tr>\n",
       "      <th id=\"T_59b93_level0_row47\" class=\"row_heading level0 row47\" >47</th>\n",
       "      <td id=\"T_59b93_row47_col0\" class=\"data row47 col0\" >Polynomial Features</td>\n",
       "      <td id=\"T_59b93_row47_col1\" class=\"data row47 col1\" >False</td>\n",
       "    </tr>\n",
       "    <tr>\n",
       "      <th id=\"T_59b93_level0_row48\" class=\"row_heading level0 row48\" >48</th>\n",
       "      <td id=\"T_59b93_row48_col0\" class=\"data row48 col0\" >Polynomial Degree</td>\n",
       "      <td id=\"T_59b93_row48_col1\" class=\"data row48 col1\" >None</td>\n",
       "    </tr>\n",
       "    <tr>\n",
       "      <th id=\"T_59b93_level0_row49\" class=\"row_heading level0 row49\" >49</th>\n",
       "      <td id=\"T_59b93_row49_col0\" class=\"data row49 col0\" >Trignometry Features</td>\n",
       "      <td id=\"T_59b93_row49_col1\" class=\"data row49 col1\" >False</td>\n",
       "    </tr>\n",
       "    <tr>\n",
       "      <th id=\"T_59b93_level0_row50\" class=\"row_heading level0 row50\" >50</th>\n",
       "      <td id=\"T_59b93_row50_col0\" class=\"data row50 col0\" >Polynomial Threshold</td>\n",
       "      <td id=\"T_59b93_row50_col1\" class=\"data row50 col1\" >None</td>\n",
       "    </tr>\n",
       "    <tr>\n",
       "      <th id=\"T_59b93_level0_row51\" class=\"row_heading level0 row51\" >51</th>\n",
       "      <td id=\"T_59b93_row51_col0\" class=\"data row51 col0\" >Group Features</td>\n",
       "      <td id=\"T_59b93_row51_col1\" class=\"data row51 col1\" >False</td>\n",
       "    </tr>\n",
       "    <tr>\n",
       "      <th id=\"T_59b93_level0_row52\" class=\"row_heading level0 row52\" >52</th>\n",
       "      <td id=\"T_59b93_row52_col0\" class=\"data row52 col0\" >Feature Selection</td>\n",
       "      <td id=\"T_59b93_row52_col1\" class=\"data row52 col1\" >False</td>\n",
       "    </tr>\n",
       "    <tr>\n",
       "      <th id=\"T_59b93_level0_row53\" class=\"row_heading level0 row53\" >53</th>\n",
       "      <td id=\"T_59b93_row53_col0\" class=\"data row53 col0\" >Feature Selection Method</td>\n",
       "      <td id=\"T_59b93_row53_col1\" class=\"data row53 col1\" >classic</td>\n",
       "    </tr>\n",
       "    <tr>\n",
       "      <th id=\"T_59b93_level0_row54\" class=\"row_heading level0 row54\" >54</th>\n",
       "      <td id=\"T_59b93_row54_col0\" class=\"data row54 col0\" >Features Selection Threshold</td>\n",
       "      <td id=\"T_59b93_row54_col1\" class=\"data row54 col1\" >None</td>\n",
       "    </tr>\n",
       "    <tr>\n",
       "      <th id=\"T_59b93_level0_row55\" class=\"row_heading level0 row55\" >55</th>\n",
       "      <td id=\"T_59b93_row55_col0\" class=\"data row55 col0\" >Feature Interaction</td>\n",
       "      <td id=\"T_59b93_row55_col1\" class=\"data row55 col1\" >False</td>\n",
       "    </tr>\n",
       "    <tr>\n",
       "      <th id=\"T_59b93_level0_row56\" class=\"row_heading level0 row56\" >56</th>\n",
       "      <td id=\"T_59b93_row56_col0\" class=\"data row56 col0\" >Feature Ratio</td>\n",
       "      <td id=\"T_59b93_row56_col1\" class=\"data row56 col1\" >False</td>\n",
       "    </tr>\n",
       "    <tr>\n",
       "      <th id=\"T_59b93_level0_row57\" class=\"row_heading level0 row57\" >57</th>\n",
       "      <td id=\"T_59b93_row57_col0\" class=\"data row57 col0\" >Interaction Threshold</td>\n",
       "      <td id=\"T_59b93_row57_col1\" class=\"data row57 col1\" >None</td>\n",
       "    </tr>\n",
       "    <tr>\n",
       "      <th id=\"T_59b93_level0_row58\" class=\"row_heading level0 row58\" >58</th>\n",
       "      <td id=\"T_59b93_row58_col0\" class=\"data row58 col0\" >Fix Imbalance</td>\n",
       "      <td id=\"T_59b93_row58_col1\" class=\"data row58 col1\" >True</td>\n",
       "    </tr>\n",
       "    <tr>\n",
       "      <th id=\"T_59b93_level0_row59\" class=\"row_heading level0 row59\" >59</th>\n",
       "      <td id=\"T_59b93_row59_col0\" class=\"data row59 col0\" >Fix Imbalance Method</td>\n",
       "      <td id=\"T_59b93_row59_col1\" class=\"data row59 col1\" >SMOTE</td>\n",
       "    </tr>\n",
       "  </tbody>\n",
       "</table>\n"
      ],
      "text/plain": [
       "<pandas.io.formats.style.Styler at 0x7fddd4a05e20>"
      ]
     },
     "metadata": {},
     "output_type": "display_data"
    }
   ],
   "source": [
    "# init setup\n",
    "s = setup(data = train, target = 'target', session_id=123,data_split_stratify=True, fix_imbalance=True)"
   ]
  },
  {
   "cell_type": "code",
   "execution_count": 39,
   "metadata": {},
   "outputs": [
    {
     "data": {
      "text/html": [
       "<style type=\"text/css\">\n",
       "#T_3e80a th {\n",
       "  text-align: left;\n",
       "}\n",
       "#T_3e80a_row0_col0, #T_3e80a_row0_col2, #T_3e80a_row0_col4, #T_3e80a_row1_col0, #T_3e80a_row1_col1, #T_3e80a_row1_col3, #T_3e80a_row1_col4, #T_3e80a_row1_col5, #T_3e80a_row1_col6, #T_3e80a_row1_col7, #T_3e80a_row2_col0, #T_3e80a_row2_col1, #T_3e80a_row2_col2, #T_3e80a_row2_col3, #T_3e80a_row2_col4, #T_3e80a_row2_col5, #T_3e80a_row2_col6, #T_3e80a_row2_col7, #T_3e80a_row3_col0, #T_3e80a_row3_col1, #T_3e80a_row3_col2, #T_3e80a_row3_col3, #T_3e80a_row3_col4, #T_3e80a_row3_col5, #T_3e80a_row3_col6, #T_3e80a_row3_col7, #T_3e80a_row4_col0, #T_3e80a_row4_col1, #T_3e80a_row4_col2, #T_3e80a_row4_col3, #T_3e80a_row4_col4, #T_3e80a_row4_col5, #T_3e80a_row4_col6, #T_3e80a_row4_col7, #T_3e80a_row5_col0, #T_3e80a_row5_col1, #T_3e80a_row5_col2, #T_3e80a_row5_col3, #T_3e80a_row5_col4, #T_3e80a_row5_col5, #T_3e80a_row5_col6, #T_3e80a_row5_col7, #T_3e80a_row6_col0, #T_3e80a_row6_col1, #T_3e80a_row6_col2, #T_3e80a_row6_col3, #T_3e80a_row6_col4, #T_3e80a_row6_col5, #T_3e80a_row6_col6, #T_3e80a_row6_col7, #T_3e80a_row7_col0, #T_3e80a_row7_col1, #T_3e80a_row7_col2, #T_3e80a_row7_col3, #T_3e80a_row7_col4, #T_3e80a_row7_col5, #T_3e80a_row7_col6, #T_3e80a_row7_col7, #T_3e80a_row8_col0, #T_3e80a_row8_col1, #T_3e80a_row8_col2, #T_3e80a_row8_col3, #T_3e80a_row8_col5, #T_3e80a_row8_col6, #T_3e80a_row8_col7, #T_3e80a_row9_col0, #T_3e80a_row9_col1, #T_3e80a_row9_col2, #T_3e80a_row9_col3, #T_3e80a_row9_col4, #T_3e80a_row9_col5, #T_3e80a_row9_col6, #T_3e80a_row9_col7, #T_3e80a_row10_col0, #T_3e80a_row10_col1, #T_3e80a_row10_col2, #T_3e80a_row10_col3, #T_3e80a_row10_col4, #T_3e80a_row10_col5, #T_3e80a_row10_col6, #T_3e80a_row10_col7, #T_3e80a_row11_col0, #T_3e80a_row11_col1, #T_3e80a_row11_col2, #T_3e80a_row11_col3, #T_3e80a_row11_col4, #T_3e80a_row11_col5, #T_3e80a_row11_col6, #T_3e80a_row11_col7, #T_3e80a_row12_col0, #T_3e80a_row12_col1, #T_3e80a_row12_col2, #T_3e80a_row12_col3, #T_3e80a_row12_col4, #T_3e80a_row12_col5, #T_3e80a_row12_col6, #T_3e80a_row12_col7, #T_3e80a_row13_col0, #T_3e80a_row13_col1, #T_3e80a_row13_col2, #T_3e80a_row13_col3, #T_3e80a_row13_col4, #T_3e80a_row13_col5, #T_3e80a_row13_col6, #T_3e80a_row13_col7, #T_3e80a_row14_col0, #T_3e80a_row14_col1, #T_3e80a_row14_col2, #T_3e80a_row14_col3, #T_3e80a_row14_col4, #T_3e80a_row14_col5, #T_3e80a_row14_col6, #T_3e80a_row14_col7, #T_3e80a_row15_col0, #T_3e80a_row15_col1, #T_3e80a_row15_col2, #T_3e80a_row15_col3, #T_3e80a_row15_col4, #T_3e80a_row15_col5, #T_3e80a_row15_col6, #T_3e80a_row15_col7 {\n",
       "  text-align: left;\n",
       "}\n",
       "#T_3e80a_row0_col1, #T_3e80a_row0_col3, #T_3e80a_row0_col5, #T_3e80a_row0_col6, #T_3e80a_row0_col7, #T_3e80a_row1_col2, #T_3e80a_row8_col4 {\n",
       "  text-align: left;\n",
       "  background-color: yellow;\n",
       "}\n",
       "#T_3e80a_row0_col8, #T_3e80a_row1_col8, #T_3e80a_row2_col8, #T_3e80a_row3_col8, #T_3e80a_row4_col8, #T_3e80a_row5_col8, #T_3e80a_row6_col8, #T_3e80a_row7_col8, #T_3e80a_row8_col8, #T_3e80a_row9_col8, #T_3e80a_row10_col8, #T_3e80a_row11_col8, #T_3e80a_row12_col8, #T_3e80a_row13_col8, #T_3e80a_row15_col8 {\n",
       "  text-align: left;\n",
       "  background-color: lightgrey;\n",
       "}\n",
       "#T_3e80a_row14_col8 {\n",
       "  text-align: left;\n",
       "  background-color: yellow;\n",
       "  background-color: lightgrey;\n",
       "}\n",
       "</style>\n",
       "<table id=\"T_3e80a\">\n",
       "  <thead>\n",
       "    <tr>\n",
       "      <th class=\"blank level0\" >&nbsp;</th>\n",
       "      <th id=\"T_3e80a_level0_col0\" class=\"col_heading level0 col0\" >Model</th>\n",
       "      <th id=\"T_3e80a_level0_col1\" class=\"col_heading level0 col1\" >Accuracy</th>\n",
       "      <th id=\"T_3e80a_level0_col2\" class=\"col_heading level0 col2\" >AUC</th>\n",
       "      <th id=\"T_3e80a_level0_col3\" class=\"col_heading level0 col3\" >Recall</th>\n",
       "      <th id=\"T_3e80a_level0_col4\" class=\"col_heading level0 col4\" >Prec.</th>\n",
       "      <th id=\"T_3e80a_level0_col5\" class=\"col_heading level0 col5\" >F1</th>\n",
       "      <th id=\"T_3e80a_level0_col6\" class=\"col_heading level0 col6\" >Kappa</th>\n",
       "      <th id=\"T_3e80a_level0_col7\" class=\"col_heading level0 col7\" >MCC</th>\n",
       "      <th id=\"T_3e80a_level0_col8\" class=\"col_heading level0 col8\" >TT (Sec)</th>\n",
       "    </tr>\n",
       "  </thead>\n",
       "  <tbody>\n",
       "    <tr>\n",
       "      <th id=\"T_3e80a_level0_row0\" class=\"row_heading level0 row0\" >rf</th>\n",
       "      <td id=\"T_3e80a_row0_col0\" class=\"data row0 col0\" >Random Forest Classifier</td>\n",
       "      <td id=\"T_3e80a_row0_col1\" class=\"data row0 col1\" >0.7859</td>\n",
       "      <td id=\"T_3e80a_row0_col2\" class=\"data row0 col2\" >0.8690</td>\n",
       "      <td id=\"T_3e80a_row0_col3\" class=\"data row0 col3\" >0.7526</td>\n",
       "      <td id=\"T_3e80a_row0_col4\" class=\"data row0 col4\" >0.7389</td>\n",
       "      <td id=\"T_3e80a_row0_col5\" class=\"data row0 col5\" >0.7457</td>\n",
       "      <td id=\"T_3e80a_row0_col6\" class=\"data row0 col6\" >0.5609</td>\n",
       "      <td id=\"T_3e80a_row0_col7\" class=\"data row0 col7\" >0.5610</td>\n",
       "      <td id=\"T_3e80a_row0_col8\" class=\"data row0 col8\" >1.0920</td>\n",
       "    </tr>\n",
       "    <tr>\n",
       "      <th id=\"T_3e80a_level0_row1\" class=\"row_heading level0 row1\" >et</th>\n",
       "      <td id=\"T_3e80a_row1_col0\" class=\"data row1 col0\" >Extra Trees Classifier</td>\n",
       "      <td id=\"T_3e80a_row1_col1\" class=\"data row1 col1\" >0.7843</td>\n",
       "      <td id=\"T_3e80a_row1_col2\" class=\"data row1 col2\" >0.8695</td>\n",
       "      <td id=\"T_3e80a_row1_col3\" class=\"data row1 col3\" >0.7311</td>\n",
       "      <td id=\"T_3e80a_row1_col4\" class=\"data row1 col4\" >0.7465</td>\n",
       "      <td id=\"T_3e80a_row1_col5\" class=\"data row1 col5\" >0.7386</td>\n",
       "      <td id=\"T_3e80a_row1_col6\" class=\"data row1 col6\" >0.5550</td>\n",
       "      <td id=\"T_3e80a_row1_col7\" class=\"data row1 col7\" >0.5552</td>\n",
       "      <td id=\"T_3e80a_row1_col8\" class=\"data row1 col8\" >0.5800</td>\n",
       "    </tr>\n",
       "    <tr>\n",
       "      <th id=\"T_3e80a_level0_row2\" class=\"row_heading level0 row2\" >catboost</th>\n",
       "      <td id=\"T_3e80a_row2_col0\" class=\"data row2 col0\" >CatBoost Classifier</td>\n",
       "      <td id=\"T_3e80a_row2_col1\" class=\"data row2 col1\" >0.7685</td>\n",
       "      <td id=\"T_3e80a_row2_col2\" class=\"data row2 col2\" >0.8593</td>\n",
       "      <td id=\"T_3e80a_row2_col3\" class=\"data row2 col3\" >0.7458</td>\n",
       "      <td id=\"T_3e80a_row2_col4\" class=\"data row2 col4\" >0.7127</td>\n",
       "      <td id=\"T_3e80a_row2_col5\" class=\"data row2 col5\" >0.7288</td>\n",
       "      <td id=\"T_3e80a_row2_col6\" class=\"data row2 col6\" >0.5271</td>\n",
       "      <td id=\"T_3e80a_row2_col7\" class=\"data row2 col7\" >0.5276</td>\n",
       "      <td id=\"T_3e80a_row2_col8\" class=\"data row2 col8\" >6.7370</td>\n",
       "    </tr>\n",
       "    <tr>\n",
       "      <th id=\"T_3e80a_level0_row3\" class=\"row_heading level0 row3\" >lightgbm</th>\n",
       "      <td id=\"T_3e80a_row3_col0\" class=\"data row3 col0\" >Light Gradient Boosting Machine</td>\n",
       "      <td id=\"T_3e80a_row3_col1\" class=\"data row3 col1\" >0.7655</td>\n",
       "      <td id=\"T_3e80a_row3_col2\" class=\"data row3 col2\" >0.8540</td>\n",
       "      <td id=\"T_3e80a_row3_col3\" class=\"data row3 col3\" >0.7416</td>\n",
       "      <td id=\"T_3e80a_row3_col4\" class=\"data row3 col4\" >0.7095</td>\n",
       "      <td id=\"T_3e80a_row3_col5\" class=\"data row3 col5\" >0.7251</td>\n",
       "      <td id=\"T_3e80a_row3_col6\" class=\"data row3 col6\" >0.5209</td>\n",
       "      <td id=\"T_3e80a_row3_col7\" class=\"data row3 col7\" >0.5214</td>\n",
       "      <td id=\"T_3e80a_row3_col8\" class=\"data row3 col8\" >0.1210</td>\n",
       "    </tr>\n",
       "    <tr>\n",
       "      <th id=\"T_3e80a_level0_row4\" class=\"row_heading level0 row4\" >xgboost</th>\n",
       "      <td id=\"T_3e80a_row4_col0\" class=\"data row4 col0\" >Extreme Gradient Boosting</td>\n",
       "      <td id=\"T_3e80a_row4_col1\" class=\"data row4 col1\" >0.7636</td>\n",
       "      <td id=\"T_3e80a_row4_col2\" class=\"data row4 col2\" >0.8532</td>\n",
       "      <td id=\"T_3e80a_row4_col3\" class=\"data row4 col3\" >0.7398</td>\n",
       "      <td id=\"T_3e80a_row4_col4\" class=\"data row4 col4\" >0.7071</td>\n",
       "      <td id=\"T_3e80a_row4_col5\" class=\"data row4 col5\" >0.7230</td>\n",
       "      <td id=\"T_3e80a_row4_col6\" class=\"data row4 col6\" >0.5171</td>\n",
       "      <td id=\"T_3e80a_row4_col7\" class=\"data row4 col7\" >0.5176</td>\n",
       "      <td id=\"T_3e80a_row4_col8\" class=\"data row4 col8\" >0.7250</td>\n",
       "    </tr>\n",
       "    <tr>\n",
       "      <th id=\"T_3e80a_level0_row5\" class=\"row_heading level0 row5\" >gbc</th>\n",
       "      <td id=\"T_3e80a_row5_col0\" class=\"data row5 col0\" >Gradient Boosting Classifier</td>\n",
       "      <td id=\"T_3e80a_row5_col1\" class=\"data row5 col1\" >0.7433</td>\n",
       "      <td id=\"T_3e80a_row5_col2\" class=\"data row5 col2\" >0.8310</td>\n",
       "      <td id=\"T_3e80a_row5_col3\" class=\"data row5 col3\" >0.7047</td>\n",
       "      <td id=\"T_3e80a_row5_col4\" class=\"data row5 col4\" >0.6879</td>\n",
       "      <td id=\"T_3e80a_row5_col5\" class=\"data row5 col5\" >0.6960</td>\n",
       "      <td id=\"T_3e80a_row5_col6\" class=\"data row5 col6\" >0.4740</td>\n",
       "      <td id=\"T_3e80a_row5_col7\" class=\"data row5 col7\" >0.4743</td>\n",
       "      <td id=\"T_3e80a_row5_col8\" class=\"data row5 col8\" >0.9280</td>\n",
       "    </tr>\n",
       "    <tr>\n",
       "      <th id=\"T_3e80a_level0_row6\" class=\"row_heading level0 row6\" >nb</th>\n",
       "      <td id=\"T_3e80a_row6_col0\" class=\"data row6 col0\" >Naive Bayes</td>\n",
       "      <td id=\"T_3e80a_row6_col1\" class=\"data row6 col1\" >0.7306</td>\n",
       "      <td id=\"T_3e80a_row6_col2\" class=\"data row6 col2\" >0.7652</td>\n",
       "      <td id=\"T_3e80a_row6_col3\" class=\"data row6 col3\" >0.4701</td>\n",
       "      <td id=\"T_3e80a_row6_col4\" class=\"data row6 col4\" >0.8026</td>\n",
       "      <td id=\"T_3e80a_row6_col5\" class=\"data row6 col5\" >0.5924</td>\n",
       "      <td id=\"T_3e80a_row6_col6\" class=\"data row6 col6\" >0.4113</td>\n",
       "      <td id=\"T_3e80a_row6_col7\" class=\"data row6 col7\" >0.4444</td>\n",
       "      <td id=\"T_3e80a_row6_col8\" class=\"data row6 col8\" >0.0450</td>\n",
       "    </tr>\n",
       "    <tr>\n",
       "      <th id=\"T_3e80a_level0_row7\" class=\"row_heading level0 row7\" >ada</th>\n",
       "      <td id=\"T_3e80a_row7_col0\" class=\"data row7 col0\" >Ada Boost Classifier</td>\n",
       "      <td id=\"T_3e80a_row7_col1\" class=\"data row7 col1\" >0.7226</td>\n",
       "      <td id=\"T_3e80a_row7_col2\" class=\"data row7 col2\" >0.8078</td>\n",
       "      <td id=\"T_3e80a_row7_col3\" class=\"data row7 col3\" >0.6544</td>\n",
       "      <td id=\"T_3e80a_row7_col4\" class=\"data row7 col4\" >0.6728</td>\n",
       "      <td id=\"T_3e80a_row7_col5\" class=\"data row7 col5\" >0.6628</td>\n",
       "      <td id=\"T_3e80a_row7_col6\" class=\"data row7 col6\" >0.4275</td>\n",
       "      <td id=\"T_3e80a_row7_col7\" class=\"data row7 col7\" >0.4282</td>\n",
       "      <td id=\"T_3e80a_row7_col8\" class=\"data row7 col8\" >0.2580</td>\n",
       "    </tr>\n",
       "    <tr>\n",
       "      <th id=\"T_3e80a_level0_row8\" class=\"row_heading level0 row8\" >qda</th>\n",
       "      <td id=\"T_3e80a_row8_col0\" class=\"data row8 col0\" >Quadratic Discriminant Analysis</td>\n",
       "      <td id=\"T_3e80a_row8_col1\" class=\"data row8 col1\" >0.7225</td>\n",
       "      <td id=\"T_3e80a_row8_col2\" class=\"data row8 col2\" >0.7675</td>\n",
       "      <td id=\"T_3e80a_row8_col3\" class=\"data row8 col3\" >0.3993</td>\n",
       "      <td id=\"T_3e80a_row8_col4\" class=\"data row8 col4\" >0.8605</td>\n",
       "      <td id=\"T_3e80a_row8_col5\" class=\"data row8 col5\" >0.5450</td>\n",
       "      <td id=\"T_3e80a_row8_col6\" class=\"data row8 col6\" >0.3820</td>\n",
       "      <td id=\"T_3e80a_row8_col7\" class=\"data row8 col7\" >0.4405</td>\n",
       "      <td id=\"T_3e80a_row8_col8\" class=\"data row8 col8\" >0.0480</td>\n",
       "    </tr>\n",
       "    <tr>\n",
       "      <th id=\"T_3e80a_level0_row9\" class=\"row_heading level0 row9\" >knn</th>\n",
       "      <td id=\"T_3e80a_row9_col0\" class=\"data row9 col0\" >K Neighbors Classifier</td>\n",
       "      <td id=\"T_3e80a_row9_col1\" class=\"data row9 col1\" >0.7197</td>\n",
       "      <td id=\"T_3e80a_row9_col2\" class=\"data row9 col2\" >0.7865</td>\n",
       "      <td id=\"T_3e80a_row9_col3\" class=\"data row9 col3\" >0.7044</td>\n",
       "      <td id=\"T_3e80a_row9_col4\" class=\"data row9 col4\" >0.6519</td>\n",
       "      <td id=\"T_3e80a_row9_col5\" class=\"data row9 col5\" >0.6770</td>\n",
       "      <td id=\"T_3e80a_row9_col6\" class=\"data row9 col6\" >0.4301</td>\n",
       "      <td id=\"T_3e80a_row9_col7\" class=\"data row9 col7\" >0.4312</td>\n",
       "      <td id=\"T_3e80a_row9_col8\" class=\"data row9 col8\" >0.0910</td>\n",
       "    </tr>\n",
       "    <tr>\n",
       "      <th id=\"T_3e80a_level0_row10\" class=\"row_heading level0 row10\" >dt</th>\n",
       "      <td id=\"T_3e80a_row10_col0\" class=\"data row10 col0\" >Decision Tree Classifier</td>\n",
       "      <td id=\"T_3e80a_row10_col1\" class=\"data row10 col1\" >0.7182</td>\n",
       "      <td id=\"T_3e80a_row10_col2\" class=\"data row10 col2\" >0.7147</td>\n",
       "      <td id=\"T_3e80a_row10_col3\" class=\"data row10 col3\" >0.6939</td>\n",
       "      <td id=\"T_3e80a_row10_col4\" class=\"data row10 col4\" >0.6526</td>\n",
       "      <td id=\"T_3e80a_row10_col5\" class=\"data row10 col5\" >0.6725</td>\n",
       "      <td id=\"T_3e80a_row10_col6\" class=\"data row10 col6\" >0.4256</td>\n",
       "      <td id=\"T_3e80a_row10_col7\" class=\"data row10 col7\" >0.4264</td>\n",
       "      <td id=\"T_3e80a_row10_col8\" class=\"data row10 col8\" >0.0850</td>\n",
       "    </tr>\n",
       "    <tr>\n",
       "      <th id=\"T_3e80a_level0_row11\" class=\"row_heading level0 row11\" >lr</th>\n",
       "      <td id=\"T_3e80a_row11_col0\" class=\"data row11 col0\" >Logistic Regression</td>\n",
       "      <td id=\"T_3e80a_row11_col1\" class=\"data row11 col1\" >0.7107</td>\n",
       "      <td id=\"T_3e80a_row11_col2\" class=\"data row11 col2\" >0.7840</td>\n",
       "      <td id=\"T_3e80a_row11_col3\" class=\"data row11 col3\" >0.6592</td>\n",
       "      <td id=\"T_3e80a_row11_col4\" class=\"data row11 col4\" >0.6514</td>\n",
       "      <td id=\"T_3e80a_row11_col5\" class=\"data row11 col5\" >0.6551</td>\n",
       "      <td id=\"T_3e80a_row11_col6\" class=\"data row11 col6\" >0.4060</td>\n",
       "      <td id=\"T_3e80a_row11_col7\" class=\"data row11 col7\" >0.4062</td>\n",
       "      <td id=\"T_3e80a_row11_col8\" class=\"data row11 col8\" >0.4910</td>\n",
       "    </tr>\n",
       "    <tr>\n",
       "      <th id=\"T_3e80a_level0_row12\" class=\"row_heading level0 row12\" >svm</th>\n",
       "      <td id=\"T_3e80a_row12_col0\" class=\"data row12 col0\" >SVM - Linear Kernel</td>\n",
       "      <td id=\"T_3e80a_row12_col1\" class=\"data row12 col1\" >0.7091</td>\n",
       "      <td id=\"T_3e80a_row12_col2\" class=\"data row12 col2\" >0.0000</td>\n",
       "      <td id=\"T_3e80a_row12_col3\" class=\"data row12 col3\" >0.6505</td>\n",
       "      <td id=\"T_3e80a_row12_col4\" class=\"data row12 col4\" >0.6574</td>\n",
       "      <td id=\"T_3e80a_row12_col5\" class=\"data row12 col5\" >0.6508</td>\n",
       "      <td id=\"T_3e80a_row12_col6\" class=\"data row12 col6\" >0.4022</td>\n",
       "      <td id=\"T_3e80a_row12_col7\" class=\"data row12 col7\" >0.4051</td>\n",
       "      <td id=\"T_3e80a_row12_col8\" class=\"data row12 col8\" >0.0550</td>\n",
       "    </tr>\n",
       "    <tr>\n",
       "      <th id=\"T_3e80a_level0_row13\" class=\"row_heading level0 row13\" >lda</th>\n",
       "      <td id=\"T_3e80a_row13_col0\" class=\"data row13 col0\" >Linear Discriminant Analysis</td>\n",
       "      <td id=\"T_3e80a_row13_col1\" class=\"data row13 col1\" >0.6788</td>\n",
       "      <td id=\"T_3e80a_row13_col2\" class=\"data row13 col2\" >0.7553</td>\n",
       "      <td id=\"T_3e80a_row13_col3\" class=\"data row13 col3\" >0.6865</td>\n",
       "      <td id=\"T_3e80a_row13_col4\" class=\"data row13 col4\" >0.6005</td>\n",
       "      <td id=\"T_3e80a_row13_col5\" class=\"data row13 col5\" >0.6405</td>\n",
       "      <td id=\"T_3e80a_row13_col6\" class=\"data row13 col6\" >0.3526</td>\n",
       "      <td id=\"T_3e80a_row13_col7\" class=\"data row13 col7\" >0.3553</td>\n",
       "      <td id=\"T_3e80a_row13_col8\" class=\"data row13 col8\" >0.0540</td>\n",
       "    </tr>\n",
       "    <tr>\n",
       "      <th id=\"T_3e80a_level0_row14\" class=\"row_heading level0 row14\" >ridge</th>\n",
       "      <td id=\"T_3e80a_row14_col0\" class=\"data row14 col0\" >Ridge Classifier</td>\n",
       "      <td id=\"T_3e80a_row14_col1\" class=\"data row14 col1\" >0.6787</td>\n",
       "      <td id=\"T_3e80a_row14_col2\" class=\"data row14 col2\" >0.0000</td>\n",
       "      <td id=\"T_3e80a_row14_col3\" class=\"data row14 col3\" >0.6878</td>\n",
       "      <td id=\"T_3e80a_row14_col4\" class=\"data row14 col4\" >0.6002</td>\n",
       "      <td id=\"T_3e80a_row14_col5\" class=\"data row14 col5\" >0.6409</td>\n",
       "      <td id=\"T_3e80a_row14_col6\" class=\"data row14 col6\" >0.3526</td>\n",
       "      <td id=\"T_3e80a_row14_col7\" class=\"data row14 col7\" >0.3554</td>\n",
       "      <td id=\"T_3e80a_row14_col8\" class=\"data row14 col8\" >0.0430</td>\n",
       "    </tr>\n",
       "    <tr>\n",
       "      <th id=\"T_3e80a_level0_row15\" class=\"row_heading level0 row15\" >dummy</th>\n",
       "      <td id=\"T_3e80a_row15_col0\" class=\"data row15 col0\" >Dummy Classifier</td>\n",
       "      <td id=\"T_3e80a_row15_col1\" class=\"data row15 col1\" >0.5830</td>\n",
       "      <td id=\"T_3e80a_row15_col2\" class=\"data row15 col2\" >0.5000</td>\n",
       "      <td id=\"T_3e80a_row15_col3\" class=\"data row15 col3\" >0.0000</td>\n",
       "      <td id=\"T_3e80a_row15_col4\" class=\"data row15 col4\" >0.0000</td>\n",
       "      <td id=\"T_3e80a_row15_col5\" class=\"data row15 col5\" >0.0000</td>\n",
       "      <td id=\"T_3e80a_row15_col6\" class=\"data row15 col6\" >0.0000</td>\n",
       "      <td id=\"T_3e80a_row15_col7\" class=\"data row15 col7\" >0.0000</td>\n",
       "      <td id=\"T_3e80a_row15_col8\" class=\"data row15 col8\" >0.0540</td>\n",
       "    </tr>\n",
       "  </tbody>\n",
       "</table>\n"
      ],
      "text/plain": [
       "<pandas.io.formats.style.Styler at 0x7fde145edd00>"
      ]
     },
     "metadata": {},
     "output_type": "display_data"
    }
   ],
   "source": [
    "best_model = compare_models()"
   ]
  },
  {
   "cell_type": "code",
   "execution_count": 40,
   "metadata": {},
   "outputs": [
    {
     "data": {
      "text/html": [
       "<style type=\"text/css\">\n",
       "#T_94f9d_row10_col0, #T_94f9d_row10_col1, #T_94f9d_row10_col2, #T_94f9d_row10_col3, #T_94f9d_row10_col4, #T_94f9d_row10_col5, #T_94f9d_row10_col6 {\n",
       "  background: yellow;\n",
       "}\n",
       "</style>\n",
       "<table id=\"T_94f9d\">\n",
       "  <thead>\n",
       "    <tr>\n",
       "      <th class=\"blank level0\" >&nbsp;</th>\n",
       "      <th id=\"T_94f9d_level0_col0\" class=\"col_heading level0 col0\" >Accuracy</th>\n",
       "      <th id=\"T_94f9d_level0_col1\" class=\"col_heading level0 col1\" >AUC</th>\n",
       "      <th id=\"T_94f9d_level0_col2\" class=\"col_heading level0 col2\" >Recall</th>\n",
       "      <th id=\"T_94f9d_level0_col3\" class=\"col_heading level0 col3\" >Prec.</th>\n",
       "      <th id=\"T_94f9d_level0_col4\" class=\"col_heading level0 col4\" >F1</th>\n",
       "      <th id=\"T_94f9d_level0_col5\" class=\"col_heading level0 col5\" >Kappa</th>\n",
       "      <th id=\"T_94f9d_level0_col6\" class=\"col_heading level0 col6\" >MCC</th>\n",
       "    </tr>\n",
       "    <tr>\n",
       "      <th class=\"index_name level0\" >Fold</th>\n",
       "      <th class=\"blank col0\" >&nbsp;</th>\n",
       "      <th class=\"blank col1\" >&nbsp;</th>\n",
       "      <th class=\"blank col2\" >&nbsp;</th>\n",
       "      <th class=\"blank col3\" >&nbsp;</th>\n",
       "      <th class=\"blank col4\" >&nbsp;</th>\n",
       "      <th class=\"blank col5\" >&nbsp;</th>\n",
       "      <th class=\"blank col6\" >&nbsp;</th>\n",
       "    </tr>\n",
       "  </thead>\n",
       "  <tbody>\n",
       "    <tr>\n",
       "      <th id=\"T_94f9d_level0_row0\" class=\"row_heading level0 row0\" >0</th>\n",
       "      <td id=\"T_94f9d_row0_col0\" class=\"data row0 col0\" >0.7321</td>\n",
       "      <td id=\"T_94f9d_row0_col1\" class=\"data row0 col1\" >0.8033</td>\n",
       "      <td id=\"T_94f9d_row0_col2\" class=\"data row0 col2\" >0.6057</td>\n",
       "      <td id=\"T_94f9d_row0_col3\" class=\"data row0 col3\" >0.7094</td>\n",
       "      <td id=\"T_94f9d_row0_col4\" class=\"data row0 col4\" >0.6534</td>\n",
       "      <td id=\"T_94f9d_row0_col5\" class=\"data row0 col5\" >0.4372</td>\n",
       "      <td id=\"T_94f9d_row0_col6\" class=\"data row0 col6\" >0.4409</td>\n",
       "    </tr>\n",
       "    <tr>\n",
       "      <th id=\"T_94f9d_level0_row1\" class=\"row_heading level0 row1\" >1</th>\n",
       "      <td id=\"T_94f9d_row1_col0\" class=\"data row1 col0\" >0.7428</td>\n",
       "      <td id=\"T_94f9d_row1_col1\" class=\"data row1 col1\" >0.8095</td>\n",
       "      <td id=\"T_94f9d_row1_col2\" class=\"data row1 col2\" >0.5958</td>\n",
       "      <td id=\"T_94f9d_row1_col3\" class=\"data row1 col3\" >0.7371</td>\n",
       "      <td id=\"T_94f9d_row1_col4\" class=\"data row1 col4\" >0.6590</td>\n",
       "      <td id=\"T_94f9d_row1_col5\" class=\"data row1 col5\" >0.4562</td>\n",
       "      <td id=\"T_94f9d_row1_col6\" class=\"data row1 col6\" >0.4629</td>\n",
       "    </tr>\n",
       "    <tr>\n",
       "      <th id=\"T_94f9d_level0_row2\" class=\"row_heading level0 row2\" >2</th>\n",
       "      <td id=\"T_94f9d_row2_col0\" class=\"data row2 col0\" >0.7147</td>\n",
       "      <td id=\"T_94f9d_row2_col1\" class=\"data row2 col1\" >0.7861</td>\n",
       "      <td id=\"T_94f9d_row2_col2\" class=\"data row2 col2\" >0.6118</td>\n",
       "      <td id=\"T_94f9d_row2_col3\" class=\"data row2 col3\" >0.6739</td>\n",
       "      <td id=\"T_94f9d_row2_col4\" class=\"data row2 col4\" >0.6413</td>\n",
       "      <td id=\"T_94f9d_row2_col5\" class=\"data row2 col5\" >0.4053</td>\n",
       "      <td id=\"T_94f9d_row2_col6\" class=\"data row2 col6\" >0.4066</td>\n",
       "    </tr>\n",
       "    <tr>\n",
       "      <th id=\"T_94f9d_level0_row3\" class=\"row_heading level0 row3\" >3</th>\n",
       "      <td id=\"T_94f9d_row3_col0\" class=\"data row3 col0\" >0.7377</td>\n",
       "      <td id=\"T_94f9d_row3_col1\" class=\"data row3 col1\" >0.8030</td>\n",
       "      <td id=\"T_94f9d_row3_col2\" class=\"data row3 col2\" >0.6167</td>\n",
       "      <td id=\"T_94f9d_row3_col3\" class=\"data row3 col3\" >0.7151</td>\n",
       "      <td id=\"T_94f9d_row3_col4\" class=\"data row3 col4\" >0.6623</td>\n",
       "      <td id=\"T_94f9d_row3_col5\" class=\"data row3 col5\" >0.4498</td>\n",
       "      <td id=\"T_94f9d_row3_col6\" class=\"data row3 col6\" >0.4531</td>\n",
       "    </tr>\n",
       "    <tr>\n",
       "      <th id=\"T_94f9d_level0_row4\" class=\"row_heading level0 row4\" >4</th>\n",
       "      <td id=\"T_94f9d_row4_col0\" class=\"data row4 col0\" >0.7464</td>\n",
       "      <td id=\"T_94f9d_row4_col1\" class=\"data row4 col1\" >0.8196</td>\n",
       "      <td id=\"T_94f9d_row4_col2\" class=\"data row4 col2\" >0.6229</td>\n",
       "      <td id=\"T_94f9d_row4_col3\" class=\"data row4 col3\" >0.7295</td>\n",
       "      <td id=\"T_94f9d_row4_col4\" class=\"data row4 col4\" >0.6720</td>\n",
       "      <td id=\"T_94f9d_row4_col5\" class=\"data row4 col5\" >0.4674</td>\n",
       "      <td id=\"T_94f9d_row4_col6\" class=\"data row4 col6\" >0.4713</td>\n",
       "    </tr>\n",
       "    <tr>\n",
       "      <th id=\"T_94f9d_level0_row5\" class=\"row_heading level0 row5\" >5</th>\n",
       "      <td id=\"T_94f9d_row5_col0\" class=\"data row5 col0\" >0.7367</td>\n",
       "      <td id=\"T_94f9d_row5_col1\" class=\"data row5 col1\" >0.8077</td>\n",
       "      <td id=\"T_94f9d_row5_col2\" class=\"data row5 col2\" >0.5651</td>\n",
       "      <td id=\"T_94f9d_row5_col3\" class=\"data row5 col3\" >0.7419</td>\n",
       "      <td id=\"T_94f9d_row5_col4\" class=\"data row5 col4\" >0.6416</td>\n",
       "      <td id=\"T_94f9d_row5_col5\" class=\"data row5 col5\" >0.4394</td>\n",
       "      <td id=\"T_94f9d_row5_col6\" class=\"data row5 col6\" >0.4496</td>\n",
       "    </tr>\n",
       "    <tr>\n",
       "      <th id=\"T_94f9d_level0_row6\" class=\"row_heading level0 row6\" >6</th>\n",
       "      <td id=\"T_94f9d_row6_col0\" class=\"data row6 col0\" >0.7500</td>\n",
       "      <td id=\"T_94f9d_row6_col1\" class=\"data row6 col1\" >0.8211</td>\n",
       "      <td id=\"T_94f9d_row6_col2\" class=\"data row6 col2\" >0.6179</td>\n",
       "      <td id=\"T_94f9d_row6_col3\" class=\"data row6 col3\" >0.7397</td>\n",
       "      <td id=\"T_94f9d_row6_col4\" class=\"data row6 col4\" >0.6734</td>\n",
       "      <td id=\"T_94f9d_row6_col5\" class=\"data row6 col5\" >0.4735</td>\n",
       "      <td id=\"T_94f9d_row6_col6\" class=\"data row6 col6\" >0.4785</td>\n",
       "    </tr>\n",
       "    <tr>\n",
       "      <th id=\"T_94f9d_level0_row7\" class=\"row_heading level0 row7\" >7</th>\n",
       "      <td id=\"T_94f9d_row7_col0\" class=\"data row7 col0\" >0.7428</td>\n",
       "      <td id=\"T_94f9d_row7_col1\" class=\"data row7 col1\" >0.8174</td>\n",
       "      <td id=\"T_94f9d_row7_col2\" class=\"data row7 col2\" >0.5897</td>\n",
       "      <td id=\"T_94f9d_row7_col3\" class=\"data row7 col3\" >0.7407</td>\n",
       "      <td id=\"T_94f9d_row7_col4\" class=\"data row7 col4\" >0.6566</td>\n",
       "      <td id=\"T_94f9d_row7_col5\" class=\"data row7 col5\" >0.4553</td>\n",
       "      <td id=\"T_94f9d_row7_col6\" class=\"data row7 col6\" >0.4628</td>\n",
       "    </tr>\n",
       "    <tr>\n",
       "      <th id=\"T_94f9d_level0_row8\" class=\"row_heading level0 row8\" >8</th>\n",
       "      <td id=\"T_94f9d_row8_col0\" class=\"data row8 col0\" >0.7464</td>\n",
       "      <td id=\"T_94f9d_row8_col1\" class=\"data row8 col1\" >0.8320</td>\n",
       "      <td id=\"T_94f9d_row8_col2\" class=\"data row8 col2\" >0.5934</td>\n",
       "      <td id=\"T_94f9d_row8_col3\" class=\"data row8 col3\" >0.7465</td>\n",
       "      <td id=\"T_94f9d_row8_col4\" class=\"data row8 col4\" >0.6612</td>\n",
       "      <td id=\"T_94f9d_row8_col5\" class=\"data row8 col5\" >0.4628</td>\n",
       "      <td id=\"T_94f9d_row8_col6\" class=\"data row8 col6\" >0.4706</td>\n",
       "    </tr>\n",
       "    <tr>\n",
       "      <th id=\"T_94f9d_level0_row9\" class=\"row_heading level0 row9\" >9</th>\n",
       "      <td id=\"T_94f9d_row9_col0\" class=\"data row9 col0\" >0.7551</td>\n",
       "      <td id=\"T_94f9d_row9_col1\" class=\"data row9 col1\" >0.8310</td>\n",
       "      <td id=\"T_94f9d_row9_col2\" class=\"data row9 col2\" >0.6511</td>\n",
       "      <td id=\"T_94f9d_row9_col3\" class=\"data row9 col3\" >0.7320</td>\n",
       "      <td id=\"T_94f9d_row9_col4\" class=\"data row9 col4\" >0.6892</td>\n",
       "      <td id=\"T_94f9d_row9_col5\" class=\"data row9 col5\" >0.4883</td>\n",
       "      <td id=\"T_94f9d_row9_col6\" class=\"data row9 col6\" >0.4906</td>\n",
       "    </tr>\n",
       "    <tr>\n",
       "      <th id=\"T_94f9d_level0_row10\" class=\"row_heading level0 row10\" >Mean</th>\n",
       "      <td id=\"T_94f9d_row10_col0\" class=\"data row10 col0\" >0.7405</td>\n",
       "      <td id=\"T_94f9d_row10_col1\" class=\"data row10 col1\" >0.8131</td>\n",
       "      <td id=\"T_94f9d_row10_col2\" class=\"data row10 col2\" >0.6070</td>\n",
       "      <td id=\"T_94f9d_row10_col3\" class=\"data row10 col3\" >0.7266</td>\n",
       "      <td id=\"T_94f9d_row10_col4\" class=\"data row10 col4\" >0.6610</td>\n",
       "      <td id=\"T_94f9d_row10_col5\" class=\"data row10 col5\" >0.4535</td>\n",
       "      <td id=\"T_94f9d_row10_col6\" class=\"data row10 col6\" >0.4587</td>\n",
       "    </tr>\n",
       "    <tr>\n",
       "      <th id=\"T_94f9d_level0_row11\" class=\"row_heading level0 row11\" >Std</th>\n",
       "      <td id=\"T_94f9d_row11_col0\" class=\"data row11 col0\" >0.0107</td>\n",
       "      <td id=\"T_94f9d_row11_col1\" class=\"data row11 col1\" >0.0133</td>\n",
       "      <td id=\"T_94f9d_row11_col2\" class=\"data row11 col2\" >0.0219</td>\n",
       "      <td id=\"T_94f9d_row11_col3\" class=\"data row11 col3\" >0.0209</td>\n",
       "      <td id=\"T_94f9d_row11_col4\" class=\"data row11 col4\" >0.0138</td>\n",
       "      <td id=\"T_94f9d_row11_col5\" class=\"data row11 col5\" >0.0217</td>\n",
       "      <td id=\"T_94f9d_row11_col6\" class=\"data row11 col6\" >0.0221</td>\n",
       "    </tr>\n",
       "  </tbody>\n",
       "</table>\n"
      ],
      "text/plain": [
       "<pandas.io.formats.style.Styler at 0x7fddc4d723d0>"
      ]
     },
     "metadata": {},
     "output_type": "display_data"
    }
   ],
   "source": [
    "tuned_model = tune_model(best_model)"
   ]
  },
  {
   "cell_type": "markdown",
   "metadata": {},
   "source": [
    "# Model Evaluation"
   ]
  },
  {
   "cell_type": "code",
   "execution_count": 41,
   "metadata": {},
   "outputs": [
    {
     "data": {
      "image/png": "[encoded data removed]",
      "text/plain": [
       "<Figure size 432x288 with 1 Axes>"
      ]
     },
     "metadata": {
      "needs_background": "light"
     },
     "output_type": "display_data"
    }
   ],
   "source": [
    "plot_model(tuned_model, plot = 'auc')"
   ]
  },
  {
   "cell_type": "code",
   "execution_count": 42,
   "metadata": {},
   "outputs": [
    {
     "data": {
      "image/png": "[encoded data removed]",
      "text/plain": [
       "<Figure size 800x500 with 1 Axes>"
      ]
     },
     "metadata": {
      "needs_background": "light"
     },
     "output_type": "display_data"
    }
   ],
   "source": [
    "plot_model(tuned_model, plot='feature')"
   ]
  },
  {
   "cell_type": "code",
   "execution_count": 43,
   "metadata": {},
   "outputs": [
    {
     "data": {
      "image/png": "[encoded data removed]",
      "text/plain": [
       "<Figure size 432x288 with 1 Axes>"
      ]
     },
     "metadata": {
      "needs_background": "light"
     },
     "output_type": "display_data"
    }
   ],
   "source": [
    "plot_model(tuned_model, plot = 'confusion_matrix')"
   ]
  },
  {
   "cell_type": "code",
   "execution_count": 44,
   "metadata": {},
   "outputs": [],
   "source": [
    "# finalize model\n",
    "final_model = finalize_model(tuned_model)"
   ]
  },
  {
   "cell_type": "markdown",
   "metadata": {},
   "source": [
    "# Testing the Model"
   ]
  },
  {
   "cell_type": "code",
   "execution_count": 45,
   "metadata": {},
   "outputs": [
    {
     "data": {
      "text/html": [
       "<div>\n",
       "<style scoped>\n",
       "    .dataframe tbody tr th:only-of-type {\n",
       "        vertical-align: middle;\n",
       "    }\n",
       "\n",
       "    .dataframe tbody tr th {\n",
       "        vertical-align: top;\n",
       "    }\n",
       "\n",
       "    .dataframe thead th {\n",
       "        text-align: right;\n",
       "    }\n",
       "</style>\n",
       "<table border=\"1\" class=\"dataframe\">\n",
       "  <thead>\n",
       "    <tr style=\"text-align: right;\">\n",
       "      <th></th>\n",
       "      <th>nswprice</th>\n",
       "      <th>nswdemand</th>\n",
       "      <th>vicprice</th>\n",
       "      <th>vicdemand</th>\n",
       "      <th>transfer</th>\n",
       "      <th>target</th>\n",
       "    </tr>\n",
       "  </thead>\n",
       "  <tbody>\n",
       "    <tr>\n",
       "      <th>1998-11-01 00:00:00</th>\n",
       "      <td>0.051189</td>\n",
       "      <td>0.416989</td>\n",
       "      <td>0.003452</td>\n",
       "      <td>0.390471</td>\n",
       "      <td>0.494737</td>\n",
       "      <td>DOWN</td>\n",
       "    </tr>\n",
       "    <tr>\n",
       "      <th>1998-11-01 00:30:00</th>\n",
       "      <td>0.053020</td>\n",
       "      <td>0.354805</td>\n",
       "      <td>0.003552</td>\n",
       "      <td>0.348783</td>\n",
       "      <td>0.521491</td>\n",
       "      <td>DOWN</td>\n",
       "    </tr>\n",
       "    <tr>\n",
       "      <th>1998-11-01 01:00:00</th>\n",
       "      <td>0.051519</td>\n",
       "      <td>0.300655</td>\n",
       "      <td>0.003457</td>\n",
       "      <td>0.411445</td>\n",
       "      <td>0.423246</td>\n",
       "      <td>DOWN</td>\n",
       "    </tr>\n",
       "    <tr>\n",
       "      <th>1998-11-01 01:30:00</th>\n",
       "      <td>0.045304</td>\n",
       "      <td>0.248140</td>\n",
       "      <td>0.003066</td>\n",
       "      <td>0.370533</td>\n",
       "      <td>0.460526</td>\n",
       "      <td>DOWN</td>\n",
       "    </tr>\n",
       "    <tr>\n",
       "      <th>1998-11-01 02:00:00</th>\n",
       "      <td>0.044374</td>\n",
       "      <td>0.198453</td>\n",
       "      <td>0.002973</td>\n",
       "      <td>0.311497</td>\n",
       "      <td>0.499123</td>\n",
       "      <td>DOWN</td>\n",
       "    </tr>\n",
       "    <tr>\n",
       "      <th>...</th>\n",
       "      <td>...</td>\n",
       "      <td>...</td>\n",
       "      <td>...</td>\n",
       "      <td>...</td>\n",
       "      <td>...</td>\n",
       "      <td>...</td>\n",
       "    </tr>\n",
       "    <tr>\n",
       "      <th>1998-12-06 21:30:00</th>\n",
       "      <td>0.044224</td>\n",
       "      <td>0.340672</td>\n",
       "      <td>0.003033</td>\n",
       "      <td>0.255049</td>\n",
       "      <td>0.405263</td>\n",
       "      <td>DOWN</td>\n",
       "    </tr>\n",
       "    <tr>\n",
       "      <th>1998-12-06 22:00:00</th>\n",
       "      <td>0.044884</td>\n",
       "      <td>0.355549</td>\n",
       "      <td>0.003072</td>\n",
       "      <td>0.241326</td>\n",
       "      <td>0.420614</td>\n",
       "      <td>DOWN</td>\n",
       "    </tr>\n",
       "    <tr>\n",
       "      <th>1998-12-06 22:30:00</th>\n",
       "      <td>0.043593</td>\n",
       "      <td>0.340970</td>\n",
       "      <td>0.002983</td>\n",
       "      <td>0.247799</td>\n",
       "      <td>0.362281</td>\n",
       "      <td>DOWN</td>\n",
       "    </tr>\n",
       "    <tr>\n",
       "      <th>1998-12-06 23:00:00</th>\n",
       "      <td>0.066651</td>\n",
       "      <td>0.329366</td>\n",
       "      <td>0.004630</td>\n",
       "      <td>0.345417</td>\n",
       "      <td>0.206579</td>\n",
       "      <td>UP</td>\n",
       "    </tr>\n",
       "    <tr>\n",
       "      <th>1998-12-06 23:30:00</th>\n",
       "      <td>0.050679</td>\n",
       "      <td>0.288753</td>\n",
       "      <td>0.003542</td>\n",
       "      <td>0.355256</td>\n",
       "      <td>0.231140</td>\n",
       "      <td>DOWN</td>\n",
       "    </tr>\n",
       "  </tbody>\n",
       "</table>\n",
       "<p>1728 rows × 6 columns</p>\n",
       "</div>"
      ],
      "text/plain": [
       "                     nswprice  nswdemand  vicprice  vicdemand  transfer target\n",
       "1998-11-01 00:00:00  0.051189   0.416989  0.003452   0.390471  0.494737   DOWN\n",
       "1998-11-01 00:30:00  0.053020   0.354805  0.003552   0.348783  0.521491   DOWN\n",
       "1998-11-01 01:00:00  0.051519   0.300655  0.003457   0.411445  0.423246   DOWN\n",
       "1998-11-01 01:30:00  0.045304   0.248140  0.003066   0.370533  0.460526   DOWN\n",
       "1998-11-01 02:00:00  0.044374   0.198453  0.002973   0.311497  0.499123   DOWN\n",
       "...                       ...        ...       ...        ...       ...    ...\n",
       "1998-12-06 21:30:00  0.044224   0.340672  0.003033   0.255049  0.405263   DOWN\n",
       "1998-12-06 22:00:00  0.044884   0.355549  0.003072   0.241326  0.420614   DOWN\n",
       "1998-12-06 22:30:00  0.043593   0.340970  0.002983   0.247799  0.362281   DOWN\n",
       "1998-12-06 23:00:00  0.066651   0.329366  0.004630   0.345417  0.206579     UP\n",
       "1998-12-06 23:30:00  0.050679   0.288753  0.003542   0.355256  0.231140   DOWN\n",
       "\n",
       "[1728 rows x 6 columns]"
      ]
     },
     "execution_count": 45,
     "metadata": {},
     "output_type": "execute_result"
    }
   ],
   "source": [
    "test"
   ]
  },
  {
   "cell_type": "code",
   "execution_count": 46,
   "metadata": {},
   "outputs": [],
   "source": [
    "test_target= test['target']"
   ]
  },
  {
   "cell_type": "code",
   "execution_count": 47,
   "metadata": {},
   "outputs": [],
   "source": [
    "test.drop(columns='target', inplace=True)"
   ]
  },
  {
   "cell_type": "code",
   "execution_count": 48,
   "metadata": {},
   "outputs": [],
   "source": [
    "prediction = predict_model(final_model, data=test)"
   ]
  },
  {
   "cell_type": "code",
   "execution_count": 49,
   "metadata": {},
   "outputs": [
    {
     "name": "stdout",
     "output_type": "stream",
     "text": [
      "              precision    recall  f1-score   support\n",
      "\n",
      "        DOWN       0.84      0.80      0.82      1056\n",
      "          UP       0.70      0.75      0.73       672\n",
      "\n",
      "    accuracy                           0.78      1728\n",
      "   macro avg       0.77      0.78      0.77      1728\n",
      "weighted avg       0.78      0.78      0.78      1728\n",
      "\n"
     ]
    }
   ],
   "source": [
    "print(classification_report(prediction.Label, test_target))"
   ]
  },
  {
   "cell_type": "code",
   "execution_count": 50,
   "metadata": {},
   "outputs": [
    {
     "name": "stdout",
     "output_type": "stream",
     "text": [
      "[[843 213]\n",
      " [165 507]]\n"
     ]
    }
   ],
   "source": [
    "print(confusion_matrix(prediction.Label, test_target))"
   ]
  },
  {
   "cell_type": "code",
   "execution_count": 52,
   "metadata": {},
   "outputs": [
    {
     "name": "stdout",
     "output_type": "stream",
     "text": [
      "Transformation Pipeline and Model Successfully Saved\n"
     ]
    },
    {
     "data": {
      "text/plain": [
       "(Pipeline(memory=None,\n",
       "          steps=[('dtypes',\n",
       "                  DataTypes_Auto_infer(categorical_features=[],\n",
       "                                       display_types=True, features_todrop=[],\n",
       "                                       id_columns=[],\n",
       "                                       ml_usecase='classification',\n",
       "                                       numerical_features=[], target='target',\n",
       "                                       time_features=[])),\n",
       "                 ('imputer',\n",
       "                  Simple_Imputer(categorical_strategy='not_available',\n",
       "                                 fill_value_categorical=None,\n",
       "                                 fill_value_numerical=None,\n",
       "                                 numeric_strat...\n",
       "                  RandomForestClassifier(bootstrap=False, ccp_alpha=0.0,\n",
       "                                         class_weight='balanced_subsample',\n",
       "                                         criterion='gini', max_depth=6,\n",
       "                                         max_features='log2',\n",
       "                                         max_leaf_nodes=None, max_samples=None,\n",
       "                                         min_impurity_decrease=0.001,\n",
       "                                         min_impurity_split=None,\n",
       "                                         min_samples_leaf=6, min_samples_split=9,\n",
       "                                         min_weight_fraction_leaf=0.0,\n",
       "                                         n_estimators=190, n_jobs=-1,\n",
       "                                         oob_score=False, random_state=123,\n",
       "                                         verbose=0, warm_start=False)]],\n",
       "          verbose=False),\n",
       " 'Final_RF_Model.pkl')"
      ]
     },
     "execution_count": 52,
     "metadata": {},
     "output_type": "execute_result"
    }
   ],
   "source": [
    "save_model(final_model,'Final_RF_Model')"
   ]
  },
  {
   "cell_type": "code",
   "execution_count": null,
   "metadata": {},
   "outputs": [],
   "source": []
  }
 ],
 "metadata": {
  "kernelspec": {
   "display_name": "Python 3.8.10 ('venv': venv)",
   "language": "python",
   "name": "python3"
  },
  "language_info": {
   "codemirror_mode": {
    "name": "ipython",
    "version": 3
   },
   "file_extension": ".py",
   "mimetype": "text/x-python",
   "name": "python",
   "nbconvert_exporter": "python",
   "pygments_lexer": "ipython3",
   "version": "3.8.10"
  },
  "vscode": {
   "interpreter": {
    "hash": "c4248adf4203c1c747ba89352e2fdf3f03b21de68525f0dde538044b6f225f26"
   }
  }
 },
 "nbformat": 4,
 "nbformat_minor": 4
}
